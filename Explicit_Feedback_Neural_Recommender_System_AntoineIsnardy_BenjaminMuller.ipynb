{
 "cells": [
  {
   "cell_type": "markdown",
   "metadata": {},
   "source": [
    "# Explicit Feedback Neural Recommender Systems\n",
    "\n",
    "Goals:\n",
    "- Understand recommender data\n",
    "- Build different models architectures using Keras\n",
    "- Retrieve Embeddings and visualize them\n",
    "- Add metadata information as input to the model"
   ]
  },
  {
   "cell_type": "code",
   "execution_count": 3,
   "metadata": {
    "collapsed": true
   },
   "outputs": [],
   "source": [
    "!rm -rf ml-100k ml-100k.zip"
   ]
  },
  {
   "cell_type": "code",
   "execution_count": 5,
   "metadata": {
    "collapsed": false
   },
   "outputs": [
    {
     "name": "stdout",
     "output_type": "stream",
     "text": [
      "Downloading http://files.grouplens.org/datasets/movielens/ml-100k.zip to ml-100k.zip...\n",
      "Extracting ml-100k.zip to ml-100k...\n"
     ]
    }
   ],
   "source": [
    "%matplotlib inline\n",
    "import matplotlib.pyplot as plt\n",
    "import numpy as np\n",
    "\n",
    "from pathlib import Path\n",
    "from zipfile import ZipFile\n",
    "from urllib.request import urlretrieve\n",
    "\n",
    "\n",
    "ML_100K_URL = \"http://files.grouplens.org/datasets/movielens/ml-100k.zip\"\n",
    "ML_100K_FILENAME = Path(ML_100K_URL.rsplit('/', 1)[1])\n",
    "ML_100K_FOLDER = Path('ml-100k')\n",
    "\n",
    "if not ML_100K_FILENAME.exists():\n",
    "    print('Downloading %s to %s...' % (ML_100K_URL, ML_100K_FILENAME))\n",
    "    urlretrieve(ML_100K_URL, ML_100K_FILENAME.name)\n",
    "\n",
    "if not ML_100K_FOLDER.exists():\n",
    "    print('Extracting %s to %s...' % (ML_100K_FILENAME, ML_100K_FOLDER))\n",
    "    ZipFile(ML_100K_FILENAME.name).extractall('.')"
   ]
  },
  {
   "cell_type": "markdown",
   "metadata": {},
   "source": [
    "### Ratings file\n",
    "\n",
    "Each line contains a rated movie: \n",
    "- a user\n",
    "- an item\n",
    "- a rating from 1 to 5 stars"
   ]
  },
  {
   "cell_type": "code",
   "execution_count": 7,
   "metadata": {
    "collapsed": false
   },
   "outputs": [
    {
     "data": {
      "text/html": [
       "<div>\n",
       "<table border=\"1\" class=\"dataframe\">\n",
       "  <thead>\n",
       "    <tr style=\"text-align: right;\">\n",
       "      <th></th>\n",
       "      <th>user_id</th>\n",
       "      <th>item_id</th>\n",
       "      <th>rating</th>\n",
       "      <th>timestamp</th>\n",
       "    </tr>\n",
       "  </thead>\n",
       "  <tbody>\n",
       "    <tr>\n",
       "      <th>0</th>\n",
       "      <td>196</td>\n",
       "      <td>242</td>\n",
       "      <td>3</td>\n",
       "      <td>881250949</td>\n",
       "    </tr>\n",
       "    <tr>\n",
       "      <th>1</th>\n",
       "      <td>186</td>\n",
       "      <td>302</td>\n",
       "      <td>3</td>\n",
       "      <td>891717742</td>\n",
       "    </tr>\n",
       "    <tr>\n",
       "      <th>2</th>\n",
       "      <td>22</td>\n",
       "      <td>377</td>\n",
       "      <td>1</td>\n",
       "      <td>878887116</td>\n",
       "    </tr>\n",
       "    <tr>\n",
       "      <th>3</th>\n",
       "      <td>244</td>\n",
       "      <td>51</td>\n",
       "      <td>2</td>\n",
       "      <td>880606923</td>\n",
       "    </tr>\n",
       "    <tr>\n",
       "      <th>4</th>\n",
       "      <td>166</td>\n",
       "      <td>346</td>\n",
       "      <td>1</td>\n",
       "      <td>886397596</td>\n",
       "    </tr>\n",
       "  </tbody>\n",
       "</table>\n",
       "</div>"
      ],
      "text/plain": [
       "   user_id  item_id  rating  timestamp\n",
       "0      196      242       3  881250949\n",
       "1      186      302       3  891717742\n",
       "2       22      377       1  878887116\n",
       "3      244       51       2  880606923\n",
       "4      166      346       1  886397596"
      ]
     },
     "execution_count": 7,
     "metadata": {},
     "output_type": "execute_result"
    }
   ],
   "source": [
    "import pandas as pd\n",
    "all_ratings = pd.read_csv(ML_100K_FOLDER / 'u.data', sep='\\t',\n",
    "                          names=[\"user_id\", \"item_id\", \"rating\", \"timestamp\"])\n",
    "all_ratings.head()"
   ]
  },
  {
   "cell_type": "markdown",
   "metadata": {},
   "source": [
    "### Item metadata file\n",
    "\n",
    "The item metadata file contains metadata like the name of the movie or the date it was released"
   ]
  },
  {
   "cell_type": "code",
   "execution_count": 8,
   "metadata": {
    "collapsed": false
   },
   "outputs": [
    {
     "data": {
      "text/html": [
       "<div>\n",
       "<table border=\"1\" class=\"dataframe\">\n",
       "  <thead>\n",
       "    <tr style=\"text-align: right;\">\n",
       "      <th></th>\n",
       "      <th>name</th>\n",
       "      <th>date</th>\n",
       "      <th>genre</th>\n",
       "      <th>url</th>\n",
       "      <th>f0</th>\n",
       "      <th>f1</th>\n",
       "      <th>f2</th>\n",
       "      <th>f3</th>\n",
       "      <th>f4</th>\n",
       "      <th>f5</th>\n",
       "      <th>...</th>\n",
       "      <th>f9</th>\n",
       "      <th>f10</th>\n",
       "      <th>f11</th>\n",
       "      <th>f12</th>\n",
       "      <th>f13</th>\n",
       "      <th>f14</th>\n",
       "      <th>f15</th>\n",
       "      <th>f16</th>\n",
       "      <th>f17</th>\n",
       "      <th>f18</th>\n",
       "    </tr>\n",
       "  </thead>\n",
       "  <tbody>\n",
       "    <tr>\n",
       "      <th>1</th>\n",
       "      <td>Toy Story (1995)</td>\n",
       "      <td>01-Jan-1995</td>\n",
       "      <td>01-Jan-1997</td>\n",
       "      <td>http://us.imdb.com/M/title-exact?Toy%20Story%2...</td>\n",
       "      <td>0</td>\n",
       "      <td>0</td>\n",
       "      <td>0</td>\n",
       "      <td>1</td>\n",
       "      <td>1</td>\n",
       "      <td>1</td>\n",
       "      <td>...</td>\n",
       "      <td>0</td>\n",
       "      <td>0</td>\n",
       "      <td>0</td>\n",
       "      <td>0</td>\n",
       "      <td>0</td>\n",
       "      <td>0</td>\n",
       "      <td>0</td>\n",
       "      <td>0</td>\n",
       "      <td>0</td>\n",
       "      <td>0</td>\n",
       "    </tr>\n",
       "    <tr>\n",
       "      <th>2</th>\n",
       "      <td>GoldenEye (1995)</td>\n",
       "      <td>01-Jan-1995</td>\n",
       "      <td>01-Jan-1997</td>\n",
       "      <td>http://us.imdb.com/M/title-exact?GoldenEye%20(...</td>\n",
       "      <td>0</td>\n",
       "      <td>1</td>\n",
       "      <td>1</td>\n",
       "      <td>0</td>\n",
       "      <td>0</td>\n",
       "      <td>0</td>\n",
       "      <td>...</td>\n",
       "      <td>0</td>\n",
       "      <td>0</td>\n",
       "      <td>0</td>\n",
       "      <td>0</td>\n",
       "      <td>0</td>\n",
       "      <td>0</td>\n",
       "      <td>0</td>\n",
       "      <td>1</td>\n",
       "      <td>0</td>\n",
       "      <td>0</td>\n",
       "    </tr>\n",
       "    <tr>\n",
       "      <th>3</th>\n",
       "      <td>Four Rooms (1995)</td>\n",
       "      <td>01-Jan-1995</td>\n",
       "      <td>01-Jan-1997</td>\n",
       "      <td>http://us.imdb.com/M/title-exact?Four%20Rooms%...</td>\n",
       "      <td>0</td>\n",
       "      <td>0</td>\n",
       "      <td>0</td>\n",
       "      <td>0</td>\n",
       "      <td>0</td>\n",
       "      <td>0</td>\n",
       "      <td>...</td>\n",
       "      <td>0</td>\n",
       "      <td>0</td>\n",
       "      <td>0</td>\n",
       "      <td>0</td>\n",
       "      <td>0</td>\n",
       "      <td>0</td>\n",
       "      <td>0</td>\n",
       "      <td>1</td>\n",
       "      <td>0</td>\n",
       "      <td>0</td>\n",
       "    </tr>\n",
       "    <tr>\n",
       "      <th>4</th>\n",
       "      <td>Get Shorty (1995)</td>\n",
       "      <td>01-Jan-1995</td>\n",
       "      <td>01-Jan-1997</td>\n",
       "      <td>http://us.imdb.com/M/title-exact?Get%20Shorty%...</td>\n",
       "      <td>0</td>\n",
       "      <td>1</td>\n",
       "      <td>0</td>\n",
       "      <td>0</td>\n",
       "      <td>0</td>\n",
       "      <td>1</td>\n",
       "      <td>...</td>\n",
       "      <td>0</td>\n",
       "      <td>0</td>\n",
       "      <td>0</td>\n",
       "      <td>0</td>\n",
       "      <td>0</td>\n",
       "      <td>0</td>\n",
       "      <td>0</td>\n",
       "      <td>0</td>\n",
       "      <td>0</td>\n",
       "      <td>0</td>\n",
       "    </tr>\n",
       "    <tr>\n",
       "      <th>5</th>\n",
       "      <td>Copycat (1995)</td>\n",
       "      <td>01-Jan-1995</td>\n",
       "      <td>01-Jan-1997</td>\n",
       "      <td>http://us.imdb.com/M/title-exact?Copycat%20(1995)</td>\n",
       "      <td>0</td>\n",
       "      <td>0</td>\n",
       "      <td>0</td>\n",
       "      <td>0</td>\n",
       "      <td>0</td>\n",
       "      <td>0</td>\n",
       "      <td>...</td>\n",
       "      <td>0</td>\n",
       "      <td>0</td>\n",
       "      <td>0</td>\n",
       "      <td>0</td>\n",
       "      <td>0</td>\n",
       "      <td>0</td>\n",
       "      <td>0</td>\n",
       "      <td>1</td>\n",
       "      <td>0</td>\n",
       "      <td>0</td>\n",
       "    </tr>\n",
       "  </tbody>\n",
       "</table>\n",
       "<p>5 rows × 23 columns</p>\n",
       "</div>"
      ],
      "text/plain": [
       "                name         date        genre  \\\n",
       "1   Toy Story (1995)  01-Jan-1995  01-Jan-1997   \n",
       "2   GoldenEye (1995)  01-Jan-1995  01-Jan-1997   \n",
       "3  Four Rooms (1995)  01-Jan-1995  01-Jan-1997   \n",
       "4  Get Shorty (1995)  01-Jan-1995  01-Jan-1997   \n",
       "5     Copycat (1995)  01-Jan-1995  01-Jan-1997   \n",
       "\n",
       "                                                 url  f0  f1  f2  f3  f4  f5  \\\n",
       "1  http://us.imdb.com/M/title-exact?Toy%20Story%2...   0   0   0   1   1   1   \n",
       "2  http://us.imdb.com/M/title-exact?GoldenEye%20(...   0   1   1   0   0   0   \n",
       "3  http://us.imdb.com/M/title-exact?Four%20Rooms%...   0   0   0   0   0   0   \n",
       "4  http://us.imdb.com/M/title-exact?Get%20Shorty%...   0   1   0   0   0   1   \n",
       "5  http://us.imdb.com/M/title-exact?Copycat%20(1995)   0   0   0   0   0   0   \n",
       "\n",
       "  ...   f9  f10  f11  f12  f13  f14  f15  f16  f17  f18  \n",
       "1 ...    0    0    0    0    0    0    0    0    0    0  \n",
       "2 ...    0    0    0    0    0    0    0    1    0    0  \n",
       "3 ...    0    0    0    0    0    0    0    1    0    0  \n",
       "4 ...    0    0    0    0    0    0    0    0    0    0  \n",
       "5 ...    0    0    0    0    0    0    0    1    0    0  \n",
       "\n",
       "[5 rows x 23 columns]"
      ]
     },
     "execution_count": 8,
     "metadata": {},
     "output_type": "execute_result"
    }
   ],
   "source": [
    "names = [\"name\", \"date\", \"genre\", \"url\"]\n",
    "names += [\"f\" + str(x) for x in range(19)]  # unused feature names\n",
    "items = pd.read_csv(ML_100K_FOLDER / 'u.item', sep='|', encoding='latin-1',\n",
    "                    names=names)\n",
    "# fix a missing value\n",
    "items.fillna(value=\"01-Jan-1997\", inplace=True)\n",
    "items.head()"
   ]
  },
  {
   "cell_type": "markdown",
   "metadata": {},
   "source": [
    "### Data preprocessing\n",
    "\n",
    "To understand well the distribution of the data, the following statistics are computed:\n",
    "- the number of users\n",
    "- the number of items\n",
    "- the rating distribution"
   ]
  },
  {
   "cell_type": "code",
   "execution_count": 9,
   "metadata": {
    "collapsed": false
   },
   "outputs": [
    {
     "data": {
      "text/plain": [
       "count    100000.000000\n",
       "mean          3.529860\n",
       "std           1.125674\n",
       "min           1.000000\n",
       "25%           3.000000\n",
       "50%           4.000000\n",
       "75%           4.000000\n",
       "max           5.000000\n",
       "Name: rating, dtype: float64"
      ]
     },
     "execution_count": 9,
     "metadata": {},
     "output_type": "execute_result"
    }
   ],
   "source": [
    "all_ratings['rating'].describe()"
   ]
  },
  {
   "cell_type": "code",
   "execution_count": 10,
   "metadata": {
    "collapsed": false
   },
   "outputs": [
    {
     "data": {
      "text/plain": [
       "943"
      ]
     },
     "execution_count": 10,
     "metadata": {},
     "output_type": "execute_result"
    }
   ],
   "source": [
    "max_user_id = all_ratings['user_id'].max()\n",
    "max_user_id"
   ]
  },
  {
   "cell_type": "code",
   "execution_count": 11,
   "metadata": {
    "collapsed": false
   },
   "outputs": [
    {
     "data": {
      "text/plain": [
       "1682"
      ]
     },
     "execution_count": 11,
     "metadata": {},
     "output_type": "execute_result"
    }
   ],
   "source": [
    "max_item_id = all_ratings['item_id'].max()\n",
    "max_item_id"
   ]
  },
  {
   "cell_type": "code",
   "execution_count": 12,
   "metadata": {
    "collapsed": false
   },
   "outputs": [
    {
     "data": {
      "text/plain": [
       "(80000,)"
      ]
     },
     "execution_count": 12,
     "metadata": {},
     "output_type": "execute_result"
    }
   ],
   "source": [
    "from sklearn.model_selection import train_test_split\n",
    "\n",
    "ratings_train, ratings_test = train_test_split(\n",
    "    all_ratings, test_size=0.2, random_state=0)\n",
    "\n",
    "user_id_train = ratings_train['user_id']\n",
    "item_id_train = ratings_train['item_id']\n",
    "rating_train = ratings_train['rating']\n",
    "\n",
    "user_id_test = ratings_test['user_id']\n",
    "item_id_test = ratings_test['item_id']\n",
    "rating_test = ratings_test['rating']\n",
    "user_id_train.shape"
   ]
  },
  {
   "cell_type": "markdown",
   "metadata": {},
   "source": [
    "# Explicit feedback: supervised ratings prediction\n",
    "\n",
    "For each pair of (user, item) try to predict the rating the user would give to the item.\n",
    "\n",
    "This is the classical setup for building recommender systems from offline data with explicit supervision signal. "
   ]
  },
  {
   "cell_type": "markdown",
   "metadata": {},
   "source": [
    "## Predictive ratings  as a regression problem\n",
    "\n",
    "The following code implements the following architecture:\n",
    "\n",
    "<img src=\"images/rec_archi_1.svg\" style=\"width: 600px;\" />"
   ]
  },
  {
   "cell_type": "code",
   "execution_count": 13,
   "metadata": {
    "collapsed": false
   },
   "outputs": [
    {
     "name": "stderr",
     "output_type": "stream",
     "text": [
      "Using TensorFlow backend.\n"
     ]
    }
   ],
   "source": [
    "from keras.layers import Input, Embedding, Flatten, merge, Dense, Dropout, Lambda\n",
    "from keras.models import Model\n",
    "import keras.backend as K\n",
    "from keras_fixes import dot_mode"
   ]
  },
  {
   "cell_type": "markdown",
   "metadata": {},
   "source": [
    "### Note : \n",
    "\n",
    "- all user/items are identified by an unique integers (<=> one-hot encoding)\n",
    "- For this reason the input shape must be [1]"
   ]
  },
  {
   "cell_type": "code",
   "execution_count": 14,
   "metadata": {
    "collapsed": false
   },
   "outputs": [],
   "source": [
    "# For each sample we input the integer identifiers\n",
    "# of a single user and a single item\n",
    "user_id_input = Input(shape=[1], name='user')\n",
    "item_id_input = Input(shape=[1], name='item')"
   ]
  },
  {
   "cell_type": "code",
   "execution_count": 15,
   "metadata": {
    "collapsed": false
   },
   "outputs": [],
   "source": [
    "embedding_size = 30\n",
    "user_embedding = Embedding(output_dim=embedding_size, input_dim=max_user_id + 1,\n",
    "                           input_length=1, name='user_embedding')(user_id_input)\n",
    "item_embedding = Embedding(output_dim=embedding_size, input_dim=max_item_id + 1,\n",
    "                           input_length=1, name='item_embedding')(item_id_input)\n",
    "\n",
    "# reshape from shape: (batch_size, input_length, embedding_size)\n",
    "# to shape: (batch_size, input_length * embedding_size) which is\n",
    "# equal to shape: (batch_size, embedding_size)\n",
    "user_vecs = Flatten()(user_embedding)\n",
    "item_vecs = Flatten()(item_embedding)\n",
    "\n",
    "y = merge([user_vecs, item_vecs], mode=dot_mode, output_shape=(1,))\n",
    "\n",
    "model = Model(input=[user_id_input, item_id_input], output=y)\n",
    "model.compile(optimizer='adam', loss='mae')"
   ]
  },
  {
   "cell_type": "code",
   "execution_count": 16,
   "metadata": {
    "collapsed": false
   },
   "outputs": [
    {
     "data": {
      "text/plain": [
       "array([ 0.00435509, -0.00567379,  0.00146699, ...,  0.00260651,\n",
       "       -0.00099381,  0.01268089], dtype=float32)"
      ]
     },
     "execution_count": 16,
     "metadata": {},
     "output_type": "execute_result"
    }
   ],
   "source": [
    "# Useful for debugging the output shape of model\n",
    "initial_train_preds = model.predict([user_id_train, item_id_train])\n",
    "initial_train_preds"
   ]
  },
  {
   "cell_type": "markdown",
   "metadata": {},
   "source": [
    "### Model error\n",
    "\n",
    "Using `initial_train_preds`, compute the model errors:\n",
    "- mean absolute error\n",
    "- mean squared error\n",
    "\n",
    "Converting a pandas Series to numpy array is usually implicit, but you may use `rating_train.values` to do so explicitely. Be sure to monitor the shapes of each object you deal with by using `object.shape`."
   ]
  },
  {
   "cell_type": "code",
   "execution_count": 17,
   "metadata": {
    "collapsed": false
   },
   "outputs": [
    {
     "name": "stdout",
     "output_type": "stream",
     "text": [
      "Random init MSE: 13.732\n",
      "Random init MAE: 3.531\n",
      "Random init MSE: 13.732\n",
      "Random init MAE: 3.531\n"
     ]
    }
   ],
   "source": [
    "squared_differences = np.square(initial_train_preds - rating_train.values)\n",
    "absolute_differences = np.abs(initial_train_preds - rating_train.values)\n",
    "\n",
    "print(\"Random init MSE: %0.3f\" % np.mean(squared_differences))\n",
    "print(\"Random init MAE: %0.3f\" % np.mean(absolute_differences))\n",
    "\n",
    "# You may also use sklearn metrics to do so with less numpy engineering \n",
    "from sklearn.metrics import mean_squared_error, mean_absolute_error\n",
    "#\n",
    "print(\"Random init MSE: %0.3f\" % mean_squared_error(initial_train_preds, rating_train))\n",
    "print(\"Random init MAE: %0.3f\" % mean_absolute_error(initial_train_preds, rating_train))"
   ]
  },
  {
   "cell_type": "markdown",
   "metadata": {},
   "source": [
    "### Monitoring runs\n",
    "\n",
    "Keras enables to monitor various variables during training. \n",
    "\n",
    "`history.history` returned by the `model.fit` function is a dictionary\n",
    "containing the `'loss'` and validation loss `'val_loss'` after each epoch"
   ]
  },
  {
   "cell_type": "markdown",
   "metadata": {},
   "source": [
    "### Note : \n",
    "- the batch_size can have a bad impact on convergence\n",
    "- In order to keep in memory the convergence ==> create a new object history as below "
   ]
  },
  {
   "cell_type": "code",
   "execution_count": 35,
   "metadata": {
    "collapsed": false
   },
   "outputs": [
    {
     "name": "stdout",
     "output_type": "stream",
     "text": [
      "Train on 72000 samples, validate on 8000 samples\n",
      "Epoch 1/6\n",
      "72000/72000 [==============================] - 5s - loss: 0.9043 - val_loss: 0.9226\n",
      "Epoch 2/6\n",
      "72000/72000 [==============================] - 5s - loss: 0.9044 - val_loss: 0.9229\n",
      "Epoch 3/6\n",
      "72000/72000 [==============================] - 5s - loss: 0.9043 - val_loss: 0.9223\n",
      "Epoch 4/6\n",
      "72000/72000 [==============================] - 5s - loss: 0.9043 - val_loss: 0.9222\n",
      "Epoch 5/6\n",
      "72000/72000 [==============================] - 5s - loss: 0.9042 - val_loss: 0.9228\n",
      "Epoch 6/6\n",
      "72000/72000 [==============================] - 5s - loss: 0.9042 - val_loss: 0.9234\n",
      "CPU times: user 35.5 s, sys: 10.2 s, total: 45.7 s\n",
      "Wall time: 32 s\n"
     ]
    }
   ],
   "source": [
    "%%time\n",
    "# Training the model\n",
    "history = model.fit([user_id_train, item_id_train], rating_train,\n",
    "                    batch_size=64, nb_epoch=6, validation_split=0.1,\n",
    "                    shuffle=True)"
   ]
  },
  {
   "cell_type": "code",
   "execution_count": 336,
   "metadata": {
    "collapsed": false
   },
   "outputs": [
    {
     "data": {
      "image/png": "[encoded data removed]",
      "text/plain": [
       "<matplotlib.figure.Figure at 0x1449ecda0>"
      ]
     },
     "metadata": {},
     "output_type": "display_data"
    }
   ],
   "source": [
    "plt.plot(history.history['loss'], label='train')\n",
    "plt.plot(history.history['val_loss'], label='validation')\n",
    "plt.ylim(0.6, 1.5)\n",
    "plt.legend(loc='best')\n",
    "plt.title('Loss');"
   ]
  },
  {
   "cell_type": "markdown",
   "metadata": {},
   "source": [
    "Now that the model is trained, the model MSE and MAE look nicer:"
   ]
  },
  {
   "cell_type": "markdown",
   "metadata": {},
   "source": [
    "### Note : \n",
    "\n",
    "- MAE is better in terms of interpretation because it belongs to the same magnitude of ratings"
   ]
  },
  {
   "cell_type": "code",
   "execution_count": 42,
   "metadata": {
    "collapsed": false
   },
   "outputs": [
    {
     "name": "stdout",
     "output_type": "stream",
     "text": [
      "Final test MSE: 1.423\n",
      "Final test MAE: 0.901\n"
     ]
    }
   ],
   "source": [
    "from sklearn.metrics import mean_squared_error\n",
    "from sklearn.metrics import mean_absolute_error\n",
    "\n",
    "test_preds = model.predict([user_id_test, item_id_test])\n",
    "print(\"Final test MSE: %0.3f\" % mean_squared_error(test_preds, rating_test))\n",
    "print(\"Final test MAE: %0.3f\" % mean_absolute_error(test_preds, rating_test))"
   ]
  },
  {
   "cell_type": "code",
   "execution_count": 43,
   "metadata": {
    "collapsed": false
   },
   "outputs": [
    {
     "name": "stdout",
     "output_type": "stream",
     "text": [
      "Final train MSE: 1.411\n",
      "Final train MAE: 0.900\n"
     ]
    }
   ],
   "source": [
    "train_preds = model.predict([user_id_train, item_id_train])\n",
    "print(\"Final train MSE: %0.3f\" % mean_squared_error(train_preds, rating_train))\n",
    "print(\"Final train MAE: %0.3f\" % mean_absolute_error(train_preds, rating_train))"
   ]
  },
  {
   "cell_type": "markdown",
   "metadata": {},
   "source": [
    "## A Deep recommender model\n",
    "\n",
    "Using a similar framework as previously, the following deep model described in the course was built (with only two fully connected)\n",
    "\n",
    "<img src=\"images/rec_archi_2.svg\" style=\"width: 600px;\" />\n",
    "\n",
    "\n",
    "### Exercise\n",
    "\n",
    "- The following code has **4 errors** that prevent it from working correctly. **Correct them and explain** why they are critical.\n",
    "\n",
    "The model is underfitting , Why ? \n",
    "\n",
    "Were are using a tanh output layer : \n",
    "\n",
    "We want to predict a output of range(0,5) ==> fail\n",
    "\n",
    "Note : \n",
    "\n",
    "- We could do as an output layer"
   ]
  },
  {
   "cell_type": "code",
   "execution_count": 67,
   "metadata": {
    "collapsed": false
   },
   "outputs": [
    {
     "name": "stdout",
     "output_type": "stream",
     "text": [
      "user input <bound method Tensor.get_shape of <tf.Tensor 'user_15:0' shape=(?, 1) dtype=float32>>\n",
      "user embedding <bound method Tensor.get_shape of <tf.Tensor 'Gather_21:0' shape=(?, 1, 30) dtype=float32>>\n",
      "user vecs <bound method Tensor.get_shape of <tf.Tensor 'Reshape_20:0' shape=(?, ?) dtype=float32>>\n",
      "input merged <bound method Tensor.get_shape of <tf.Tensor 'cond_6/Merge:0' shape=(?, ?) dtype=float32>>\n"
     ]
    }
   ],
   "source": [
    "# For each sample we input the integer identifiers\n",
    "# of a single user and a single item\n",
    "user_id_input = Input(shape=[1], name='user') \n",
    "item_id_input = Input(shape=[1], name='item')\n",
    "\n",
    "embedding_size = 30\n",
    "user_embedding = Embedding(output_dim=embedding_size, input_dim=max_user_id + 1,\n",
    "                           input_length=1, name='user_embedding')(user_id_input)\n",
    "item_embedding = Embedding(output_dim=embedding_size, input_dim=max_item_id + 1,\n",
    "                           input_length=1, name='item_embedding')(item_id_input)\n",
    "\n",
    "# reshape from shape: (batch_size, input_length, embedding_size)\n",
    "# to shape: (batch_size, input_length * embedding_size) which is\n",
    "# equal to shape: (batch_size, embedding_size)\n",
    "user_vecs = Flatten()(user_embedding)\n",
    "item_vecs = Flatten()(item_embedding)\n",
    "input_vecs = merge([user_vecs, item_vecs], mode='concat')\n",
    "input_vecs = Dropout(0.5)(input_vecs)\n",
    "\n",
    "x = Dense(64, activation='relu')(input_vecs)\n",
    "y = Dense(1)(x) # better !!\n",
    "#y = Dense(2, activation='tanh')(x)\n",
    "print(\"user input\",user_id_input.get_shape)\n",
    "print(\"user embedding\",user_embedding.get_shape)\n",
    "print(\"user vecs\",user_vecs.get_shape)\n",
    "print(\"input merged\",input_vecs.get_shape)\n",
    "\n",
    "\n",
    "\n",
    "model = Model(input=[user_id_input, item_id_input], output=y)\n",
    "model.compile(optimizer='adam', loss='mae')\n",
    "\n",
    "initial_train_preds = model.predict([user_id_train, item_id_train])"
   ]
  },
  {
   "cell_type": "code",
   "execution_count": 80,
   "metadata": {
    "collapsed": false
   },
   "outputs": [
    {
     "name": "stdout",
     "output_type": "stream",
     "text": [
      "Train on 72000 samples, validate on 8000 samples\n",
      "Epoch 1/5\n",
      "72000/72000 [==============================] - 8s - loss: 1.0104 - val_loss: 0.7634\n",
      "Epoch 2/5\n",
      "72000/72000 [==============================] - 7s - loss: 0.7520 - val_loss: 0.7576\n",
      "Epoch 3/5\n",
      "72000/72000 [==============================] - 7s - loss: 0.7382 - val_loss: 0.7496\n",
      "Epoch 4/5\n",
      "72000/72000 [==============================] - 7s - loss: 0.7322 - val_loss: 0.7469\n",
      "Epoch 5/5\n",
      "72000/72000 [==============================] - 7s - loss: 0.7254 - val_loss: 0.7432\n",
      "CPU times: user 40.1 s, sys: 19.3 s, total: 59.3 s\n",
      "Wall time: 38.8 s\n"
     ]
    }
   ],
   "source": [
    "%%time\n",
    "history = model.fit([user_id_train, item_id_train], rating_train,\n",
    "                    batch_size=64, nb_epoch=5, validation_split=0.1,\n",
    "                    shuffle=True)"
   ]
  },
  {
   "cell_type": "code",
   "execution_count": 81,
   "metadata": {
    "collapsed": false
   },
   "outputs": [
    {
     "data": {
      "image/png": "[encoded data removed]",
      "text/plain": [
       "<matplotlib.figure.Figure at 0x1222216d8>"
      ]
     },
     "metadata": {},
     "output_type": "display_data"
    }
   ],
   "source": [
    "plt.plot(history.history['loss'], label='train')\n",
    "plt.plot(history.history['val_loss'], label='validation')\n",
    "plt.ylim(0, 2)\n",
    "plt.legend(loc='best')\n",
    "plt.title('Loss');"
   ]
  },
  {
   "cell_type": "code",
   "execution_count": 82,
   "metadata": {
    "collapsed": false
   },
   "outputs": [
    {
     "name": "stdout",
     "output_type": "stream",
     "text": [
      "Final test MSE: 0.917\n",
      "Final test MAE: 0.731\n",
      "Final train MSE: 13.765\n",
      "Final train MAE: 3.535\n"
     ]
    }
   ],
   "source": [
    "test_preds = model.predict([user_id_test, item_id_test])\n",
    "print(\"Final test MSE: %0.3f\" % mean_squared_error(test_preds, rating_test))\n",
    "print(\"Final test MAE: %0.3f\" % mean_absolute_error(test_preds, rating_test))\n",
    "\n",
    "print(\"Final train MSE: %0.3f\" % mean_squared_error(train_preds, rating_train))\n",
    "print(\"Final train MAE: %0.3f\" % mean_absolute_error(train_preds, rating_train))"
   ]
  },
  {
   "cell_type": "markdown",
   "metadata": {},
   "source": [
    "### Home assignment: \n",
    " - Add another layer, compare train/test error\n",
    " - What do you notice? \n",
    " - Try adding more dropout and modifying layer sizes: should you increase\n",
    "   or decrease the number of parameters"
   ]
  },
  {
   "cell_type": "code",
   "execution_count": 75,
   "metadata": {
    "collapsed": false
   },
   "outputs": [
    {
     "name": "stdout",
     "output_type": "stream",
     "text": [
      "user input <bound method Tensor.get_shape of <tf.Tensor 'user_22:0' shape=(?, 1) dtype=float32>>\n",
      "user embedding <bound method Tensor.get_shape of <tf.Tensor 'Gather_35:0' shape=(?, 1, 30) dtype=float32>>\n",
      "user vecs <bound method Tensor.get_shape of <tf.Tensor 'Reshape_34:0' shape=(?, ?) dtype=float32>>\n",
      "input merged <bound method Tensor.get_shape of <tf.Tensor 'cond_13/Merge:0' shape=(?, ?) dtype=float32>>\n",
      "(80000, 1)\n"
     ]
    }
   ],
   "source": [
    "user_id_input_2 = Input(shape=[1], name='user') \n",
    "item_id_input_2 = Input(shape=[1], name='item')\n",
    "\n",
    "embedding_size = 30\n",
    "user_embedding_2 = Embedding(output_dim=embedding_size, input_dim=max_user_id + 1,\n",
    "                           input_length=1, name='user_embedding')(user_id_input_2)\n",
    "item_embedding_2 = Embedding(output_dim=embedding_size, input_dim=max_item_id + 1,\n",
    "                           input_length=1, name='item_embedding')(item_id_input_2)\n",
    "\n",
    "# reshape from shape: (batch_size, input_length, embedding_size)\n",
    "# to shape: (batch_size, input_length * embedding_size) which is\n",
    "# equal to shape: (batch_size, embedding_size)\n",
    "user_vecs_2 = Flatten()(user_embedding_2)\n",
    "item_vecs_2 = Flatten()(item_embedding_2)\n",
    "input_vecs_2 = merge([user_vecs_2, item_vecs_2], mode='concat')\n",
    "input_vecs_2 = Dropout(0.5)(input_vecs_2)\n",
    "\n",
    "x_2 = Dense(64, activation='relu')(input_vecs_2)\n",
    "\n",
    "# adding another dense layer with relu activation 128 weights\n",
    "x_2_2 = Dense(128, activation='relu')(x_2)\n",
    "\n",
    "y_2 = Dense(1)(x_2_2) \n",
    "\n",
    "print(\"user input\",user_id_input_2.get_shape)\n",
    "print(\"user embedding\",user_embedding_2.get_shape)\n",
    "print(\"user vecs\",user_vecs_2.get_shape)\n",
    "print(\"input merged\",input_vecs_2.get_shape)\n",
    "\n",
    "\n",
    "\n",
    "model_2 = Model(input=[user_id_input_2, item_id_input_2], output=y_2)\n",
    "model_2.compile(optimizer='adam', loss='mae')\n",
    "\n",
    "initial_train_preds_2 = model_2.predict([user_id_train, item_id_train])\n",
    "print(initial_train_preds_2.shape)"
   ]
  },
  {
   "cell_type": "code",
   "execution_count": 83,
   "metadata": {
    "collapsed": false
   },
   "outputs": [
    {
     "name": "stdout",
     "output_type": "stream",
     "text": [
      "Train on 72000 samples, validate on 8000 samples\n",
      "Epoch 1/5\n",
      "72000/72000 [==============================] - 8s - loss: 0.7266 - val_loss: 0.7519\n",
      "Epoch 2/5\n",
      "72000/72000 [==============================] - 8s - loss: 0.7200 - val_loss: 0.7487\n",
      "Epoch 3/5\n",
      "72000/72000 [==============================] - 8s - loss: 0.7138 - val_loss: 0.7410\n",
      "Epoch 4/5\n",
      "72000/72000 [==============================] - 8s - loss: 0.7072 - val_loss: 0.7383\n",
      "Epoch 5/5\n",
      "72000/72000 [==============================] - 8s - loss: 0.7019 - val_loss: 0.7361\n"
     ]
    }
   ],
   "source": [
    "history_2 = model_2.fit([user_id_train, item_id_train], rating_train,\n",
    "                    batch_size=64, nb_epoch=5, validation_split=0.1,\n",
    "                    shuffle=True)"
   ]
  },
  {
   "cell_type": "code",
   "execution_count": 191,
   "metadata": {
    "collapsed": false
   },
   "outputs": [
    {
     "name": "stdout",
     "output_type": "stream",
     "text": [
      "Model 2  Final test MSE: 0.926 Final train MSE: 0.837\n",
      "Model 1  Final test MSE: 0.917 Final train MSE: 0.858\n",
      "Model 2  Final test MAE: 0.721 Final train MAE: 0.676\n",
      "Model 1  Final test MAE: 0.731 Final train MAE: 0.700\n"
     ]
    }
   ],
   "source": [
    "test_preds_2 = model_2.predict([user_id_test, item_id_test])\n",
    "test_preds = model.predict([user_id_test, item_id_test])\n",
    "train_preds_2 = model_2.predict([user_id_train, item_id_train])\n",
    "train_preds = model.predict([user_id_train, item_id_train])\n",
    "print(\"Model 2 \",\"Final test MSE: %0.3f\" % mean_squared_error(test_preds_2, rating_test),\"Final train MSE: %0.3f\" % mean_squared_error(train_preds_2, rating_train))\n",
    "print(\"Model 1 \",\"Final test MSE: %0.3f\" % mean_squared_error(test_preds, rating_test),\"Final train MSE: %0.3f\" % mean_squared_error(train_preds, rating_train))\n",
    "print(\"Model 2 \",\"Final test MAE: %0.3f\" % mean_absolute_error(test_preds_2, rating_test),\"Final train MAE: %0.3f\" % mean_absolute_error(train_preds_2, rating_train))\n",
    "print(\"Model 1 \",\"Final test MAE: %0.3f\" % mean_absolute_error(test_preds, rating_test),\"Final train MAE: %0.3f\" % mean_absolute_error(train_preds, rating_train))"
   ]
  },
  {
   "cell_type": "code",
   "execution_count": 211,
   "metadata": {
    "collapsed": false
   },
   "outputs": [
    {
     "data": {
      "image/png": "[encoded data removed]",
      "text/plain": [
       "<matplotlib.figure.Figure at 0x1240ff320>"
      ]
     },
     "metadata": {},
     "output_type": "display_data"
    }
   ],
   "source": [
    "width = 0.1\n",
    "train_error_1 = float(\"%.3f\" %mean_squared_error(train_preds, rating_train))\n",
    "valid_error_1 = float(\"%.3f\" %mean_squared_error(test_preds, rating_test))\n",
    "train_error_2 = float(\"%.3f\" %mean_squared_error(train_preds_2, rating_train))\n",
    "valid_error_2 = float(\"%.3f\" %mean_squared_error(test_preds_2, rating_test))\n",
    "plot = plt.bar(np.arange(2),(train_error_1,valid_error_1),width=width,label=\"model 1 no extra layer\")\n",
    "plot2 = plt.bar(np.arange(2)+width,(train_error_2,valid_error_2),width=width,label=\"model 2 extra layer\")\n",
    "plt.xticks(np.arange(2) + width / 2, ('train', 'validation'))\n",
    "plt.tight_layout()\n",
    "plt.legend()\n",
    "plt.show()"
   ]
  },
  {
   "cell_type": "markdown",
   "metadata": {},
   "source": [
    "## Interpretation : \n",
    "\n",
    "- If the result plotted are true then the model with an extra layer is clearly overfitting the data"
   ]
  },
  {
   "cell_type": "code",
   "execution_count": 115,
   "metadata": {
    "collapsed": false
   },
   "outputs": [
    {
     "data": {
      "image/png": "[encoded data removed]",
      "text/plain": [
       "<matplotlib.figure.Figure at 0x1249a6ac8>"
      ]
     },
     "metadata": {},
     "output_type": "display_data"
    }
   ],
   "source": [
    "plt.plot(history.history['loss'], label='train 1')\n",
    "plt.plot(history.history['val_loss'], label='validation 1')\n",
    "plt.plot(history_2.history['loss'], label='train 2 extra layer')\n",
    "plt.plot(history_2.history['val_loss'], label='validation 2 extra layer')\n",
    "plt.ylim(0.6,1 )\n",
    "#plt.yscale(\"log\")\n",
    "plt.legend(loc='best')\n",
    "plt.title('Loss');"
   ]
  },
  {
   "cell_type": "code",
   "execution_count": 225,
   "metadata": {
    "collapsed": false
   },
   "outputs": [
    {
     "data": {
      "text/plain": [
       "(23, 213)"
      ]
     },
     "execution_count": 225,
     "metadata": {},
     "output_type": "execute_result"
    }
   ],
   "source": [
    "a = ()\n",
    "a+(23,213)"
   ]
  },
  {
   "cell_type": "code",
   "execution_count": 242,
   "metadata": {
    "collapsed": true
   },
   "outputs": [],
   "source": [
    "user_id_input_comparison = Input(shape=[1], name='user') \n",
    "item_id_input_comparison = Input(shape=[1], name='item')\n",
    "embedding_size = 30\n",
    "number_hidden_neurons_extra_layer =120\n",
    "\n",
    "def comparison_extra_layer(number_hidden_neurons_extra_layer_list):\n",
    "    test_pred_comparison_list = []\n",
    "    train_preds_comparison_list = []\n",
    "    for number_hidden_neurons_extra_layer in number_hidden_neurons_extra_layer_list : \n",
    "        user_embedding_comparison = Embedding(output_dim=embedding_size, input_dim=max_user_id + 1,\n",
    "                           input_length=1, name='user_embedding')(user_id_input_comparison)\n",
    "        item_embedding_comparison = Embedding(output_dim=embedding_size, input_dim=max_item_id + 1,\n",
    "                           input_length=1, name='item_embedding')(item_id_input_comparison)\n",
    "# reshape from shape: (batch_size, input_length, embedding_size)\n",
    "# to shape: (batch_size, input_length * embedding_size) which is\n",
    "# equal to shape: (batch_size, embedding_size)\n",
    "        user_vecs_comparison = Flatten()(user_embedding_comparison)\n",
    "        item_vecs_comparison = Flatten()(item_embedding_comparison)\n",
    "        input_vecs_comparison = merge([user_vecs_comparison, item_vecs_comparison], mode='concat')\n",
    "        input_vecs_comparison = Dropout(0.5)(input_vecs_comparison)\n",
    "        x_comparison = Dense(64, activation='relu')(input_vecs_comparison)\n",
    "# adding another dense layer with relu activation 128 weights\n",
    "        x_2_comparison = Dense(number_hidden_neurons_extra_layer, activation='relu')(x_comparison)\n",
    "        y_comparison = Dense(1)(x_2_comparison) \n",
    "\n",
    "        model_comparison = Model(input=[user_id_input_2, item_id_input_2], output=y_2)\n",
    "        model_comparison.compile(optimizer='adam', loss='mae')\n",
    "        history_comparison = model_comparison.fit([user_id_train, item_id_train], rating_train,\n",
    "                    batch_size=64, nb_epoch=5, validation_split=0.1,\n",
    "                    shuffle=True)\n",
    "         \n",
    "        train = float(\"%.3f\" %mean_squared_error(model_comparison.predict([user_id_train, item_id_train]), rating_train))\n",
    "        test = float(\"%.3f\" %mean_squared_error(model_comparison.predict([user_id_test, item_id_test]), rating_test))\n",
    "        test_pred_comparison_list.append(test)\n",
    "        train_preds_comparison_list.append(train)\n",
    "    return train_preds_comparison_list, test_pred_comparison_list"
   ]
  },
  {
   "cell_type": "code",
   "execution_count": 423,
   "metadata": {
    "collapsed": false
   },
   "outputs": [
    {
     "name": "stdout",
     "output_type": "stream",
     "text": [
      "Train on 72000 samples, validate on 8000 samples\n",
      "Epoch 1/5\n",
      "72000/72000 [==============================] - 11s - loss: 0.6388 - val_loss: 0.7228\n",
      "Epoch 2/5\n",
      "72000/72000 [==============================] - 9s - loss: 0.6388 - val_loss: 0.7267\n",
      "Epoch 3/5\n",
      "72000/72000 [==============================] - 9s - loss: 0.6405 - val_loss: 0.7231\n",
      "Epoch 4/5\n",
      "72000/72000 [==============================] - 8s - loss: 0.6405 - val_loss: 0.7268\n",
      "Epoch 5/5\n",
      "72000/72000 [==============================] - 9s - loss: 0.6388 - val_loss: 0.7243\n",
      "Train on 72000 samples, validate on 8000 samples\n",
      "Epoch 1/5\n",
      "72000/72000 [==============================] - 11s - loss: 0.6388 - val_loss: 0.7232\n",
      "Epoch 2/5\n",
      "72000/72000 [==============================] - 9s - loss: 0.6405 - val_loss: 0.7265\n",
      "Epoch 3/5\n",
      "72000/72000 [==============================] - 9s - loss: 0.6404 - val_loss: 0.7225\n",
      "Epoch 4/5\n",
      "72000/72000 [==============================] - 9s - loss: 0.6371 - val_loss: 0.7240\n",
      "Epoch 5/5\n",
      "72000/72000 [==============================] - 9s - loss: 0.6400 - val_loss: 0.7249\n",
      "Train on 72000 samples, validate on 8000 samples\n",
      "Epoch 1/5\n",
      "72000/72000 [==============================] - 10s - loss: 0.6388 - val_loss: 0.7235\n",
      "Epoch 2/5\n",
      "72000/72000 [==============================] - 9s - loss: 0.6400 - val_loss: 0.7267\n",
      "Epoch 3/5\n",
      "72000/72000 [==============================] - 9s - loss: 0.6381 - val_loss: 0.7283\n",
      "Epoch 4/5\n",
      "72000/72000 [==============================] - 9s - loss: 0.6387 - val_loss: 0.7312\n",
      "Epoch 5/5\n",
      "72000/72000 [==============================] - 8s - loss: 0.6379 - val_loss: 0.7284\n",
      "Train on 72000 samples, validate on 8000 samples\n",
      "Epoch 1/5\n",
      "72000/72000 [==============================] - 10s - loss: 0.6396 - val_loss: 0.7289\n",
      "Epoch 2/5\n",
      "72000/72000 [==============================] - 9s - loss: 0.6388 - val_loss: 0.7288\n",
      "Epoch 3/5\n",
      "72000/72000 [==============================] - 8s - loss: 0.6405 - val_loss: 0.7262\n",
      "Epoch 4/5\n",
      "72000/72000 [==============================] - 9s - loss: 0.6365 - val_loss: 0.7296\n",
      "Epoch 5/5\n",
      "72000/72000 [==============================] - 9s - loss: 0.6384 - val_loss: 0.7295\n"
     ]
    }
   ],
   "source": [
    "extra_units_list = [24,48,96,192]\n",
    "train, test = comparison_extra_layer(extra_units_list)"
   ]
  },
  {
   "cell_type": "code",
   "execution_count": 424,
   "metadata": {
    "collapsed": false
   },
   "outputs": [
    {
     "data": {
      "image/png": "[encoded data removed]",
      "text/plain": [
       "<matplotlib.figure.Figure at 0x14c617518>"
      ]
     },
     "metadata": {},
     "output_type": "display_data"
    }
   ],
   "source": [
    "width = 0.2\n",
    "train\n",
    "plot = plt.bar(np.arange(4),train,width=width,label=\"train\")\n",
    "plot2 = plt.bar(np.arange(4)+width,test,width=width,label=\"validation\")\n",
    "plt.xticks(np.arange(4) + width / 2, [str(e)+\" extra units\" for e in extra_units_list])\n",
    "#plt.tight_layout()\n",
    "plt.legend()\n",
    "plt.show()"
   ]
  },
  {
   "cell_type": "markdown",
   "metadata": {},
   "source": [
    "### What to do : \n",
    "- Present the results with barplots Ok ich\n",
    "- Present the convergence overlaying on the same graph : ok ich\n",
    "- Present a comparison (through a bar plot for instance) with the test/train error in regard to the number of hidden neurons within the new hidden layer  ok ich\n",
    "- Intepret more clearly the result ? and do the same with drop out ==> GRID dropout x number_extra_hidden_units ? "
   ]
  },
  {
   "cell_type": "markdown",
   "metadata": {},
   "source": [
    "### Model Embeddings\n",
    "\n",
    "- It is possible to retrieve the embeddings by simply using the Keras function `model.get_weights` which returns all the model learnable parameters.\n",
    "- The weights are returned the same order as they were build in the model\n",
    "- What is the total number of parameters?"
   ]
  },
  {
   "cell_type": "code",
   "execution_count": 279,
   "metadata": {
    "collapsed": false
   },
   "outputs": [
    {
     "name": "stdout",
     "output_type": "stream",
     "text": [
      "[(944, 30), (1683, 30), (60, 64), (64,), (64, 1), (1,)]\n",
      "Total number of parameters 82779\n"
     ]
    }
   ],
   "source": [
    "# weights and shape\n",
    "weights = model.get_weights()\n",
    "print([w.shape for w in weights])\n",
    "# good things to check if everything is correct (cf. EXAM !!)\n",
    "def compute_total_number_parameters(weights = model.get_weights()):\n",
    "    total_number_of_parameters = 0\n",
    "    for w in weights:\n",
    "        #for i in range(1):\n",
    "        if len(w.shape)>1: total_number_of_parameters +=w.shape[0]*w.shape[1]\n",
    "        else: total_number_of_parameters +=w.shape[0]\n",
    "    return total_number_of_parameters\n",
    "\n",
    "print(\"Total number of parameters %0.0f\" % compute_total_number_parameters())"
   ]
  },
  {
   "cell_type": "code",
   "execution_count": 280,
   "metadata": {
    "collapsed": false
   },
   "outputs": [],
   "source": [
    "model.summary()"
   ]
  },
  {
   "cell_type": "code",
   "execution_count": 283,
   "metadata": {
    "collapsed": false
   },
   "outputs": [
    {
     "name": "stdout",
     "output_type": "stream",
     "text": [
      "6\n",
      "First item name from metadata: Toy Story (1995)\n",
      "Embedding vector for the first item:\n",
      "[-0.153706    0.02782148 -0.0666879   0.00895518  0.04147837  0.05483565\n",
      " -0.10099007 -0.03408018 -0.03266044 -0.11683965  0.03057031  0.11805814\n",
      "  0.11697408 -0.00268501 -0.02205011  0.08555336 -0.03463333 -0.06418615\n",
      " -0.04046222 -0.03841777 -0.0249313  -0.1118601   0.01167009 -0.00356281\n",
      "  0.06080368  0.00399638  0.06414735  0.0322365  -0.06465223 -0.03773543]\n",
      "shape: (30,)\n"
     ]
    }
   ],
   "source": [
    "print(len(weights))\n",
    "user_embeddings = weights[0]\n",
    "item_embeddings = weights[1]\n",
    "print(\"First item name from metadata:\", items[\"name\"][1])\n",
    "print(\"Embedding vector for the first item:\")\n",
    "print(item_embeddings[1])\n",
    "print(\"shape:\", item_embeddings[1].shape)"
   ]
  },
  {
   "cell_type": "markdown",
   "metadata": {},
   "source": [
    "### Note : \n",
    "- Hence, we managed to transform a one-hot encoding into a dense dimensons 30 space\n",
    "- We are here learning the best item/user embedding so that the target recquirement are satisfied (embedding space is in a way that close user-item are close in the space and far user-item are far)"
   ]
  },
  {
   "cell_type": "markdown",
   "metadata": {},
   "source": [
    "### Finding most similar items\n",
    "Finding k most similar items to a point in embedding space\n",
    "\n",
    "- Write in numpy a function to compute the cosine similarity between two points in embedding space\n",
    "- Write a function which computes the euclidean distance between a point in embedding space and all other points\n",
    "- Write a most similar function, which returns the k item names with lowest euclidean distance\n",
    "- Try with a movie index, such as 181 (Return of the Jedi). What do you observe? Don't expect miracles on such a small training set.\n",
    "\n",
    "Notes:\n",
    "- you may use `np.linalg.norm` to compute the norm of vector, and you may specify the `axis=`\n",
    "- the numpy function `np.argsort(...)` enables to compute the sorted indices of a vector\n",
    "- `items[\"name\"][idxs]` returns the names of the items indexed by array idxs"
   ]
  },
  {
   "cell_type": "markdown",
   "metadata": {},
   "source": [
    "### Note :\n",
    "- Keep in mind that the higher the cosine distance the more similar items are\n",
    "- In opposition with euclidian distance"
   ]
  },
  {
   "cell_type": "code",
   "execution_count": 337,
   "metadata": {
    "collapsed": false
   },
   "outputs": [
    {
     "name": "stdout",
     "output_type": "stream",
     "text": [
      "Distance cosine 3 closest movies \n",
      " 181     Return of the Jedi (1983)\n",
      "179    Clockwork Orange, A (1971)\n",
      "285         Secrets & Lies (1996)\n",
      "Name: name, dtype: object\n",
      " \n",
      "Distance euclidian 3 closest movies \n",
      " 181    Return of the Jedi (1983)\n",
      "632       Sophie's Choice (1982)\n",
      "498    African Queen, The (1951)\n",
      "Name: name, dtype: object\n"
     ]
    }
   ],
   "source": [
    "EPSILON = 1e-07\n",
    "\n",
    "# the result is a 1d array of cosine distance between each item and x\n",
    "def cosine(x):\n",
    "    dot_pdts = np.dot(item_embeddings, x)\n",
    "    norms = np.linalg.norm(x) * np.linalg.norm(item_embeddings, axis=1)\n",
    "    return dot_pdts / (norms + EPSILON) \n",
    "# the result is a 1d array of euclidian distance between each item and xdef euclidean_distances(x):\n",
    "def euclidean_distances(x):\n",
    "    return np.linalg.norm(item_embeddings - x, axis=1)\n",
    "\n",
    "# Computes top_n most similar items to an idx\n",
    "def most_similar(idx, top_n=10,distance=cosine):\n",
    "    # TODO: modify function\n",
    "    if distance==cosine: \n",
    "        idxs = np.argsort(distance(item_embeddings[idx,:]))[::-1][0:top_n]\n",
    "    else : \n",
    "        idxs = np.argsort(distance(item_embeddings[idx,:]))[0:top_n]\n",
    "    return items[\"name\"][idxs]\n",
    "\n",
    "print(\"Distance cosine 3 closest movies \\n\",most_similar(181,top_n=3,distance=cosine))\n",
    "print(\" \")\n",
    "print(\"Distance euclidian 3 closest movies \\n\",most_similar(181,top_n=3,distance=euclidean_distances))"
   ]
  },
  {
   "cell_type": "code",
   "execution_count": 338,
   "metadata": {
    "collapsed": false
   },
   "outputs": [
    {
     "data": {
      "text/plain": [
       "[('Return of the Jedi (1983)', 0.99999946),\n",
       " ('Clockwork Orange, A (1971)', 0.90321898),\n",
       " ('Secrets & Lies (1996)', 0.88905501)]"
      ]
     },
     "execution_count": 338,
     "metadata": {},
     "output_type": "execute_result"
    }
   ],
   "source": [
    "# correction \n",
    "def most_similar2(idx, top_n=10, mode='euclidean'):\n",
    "    sorted_indexes=0\n",
    "    if mode=='euclidean':\n",
    "        dists = euclidean_distances(item_embeddings[idx])\n",
    "        sorted_indexes = np.argsort(dists)\n",
    "        idxs = sorted_indexes[0:top_n]\n",
    "        return list(zip(items[\"name\"][idxs], dists[idxs]))\n",
    "    else:\n",
    "        sims = cosine(item_embeddings[idx])\n",
    "        # [::-1] makes it possible to reverse the order of a numpy\n",
    "        # array, this is required because most similar items have\n",
    "        # a larger cosine similarity value\n",
    "        sorted_indexes = np.argsort(sims)[::-1]\n",
    "        idxs = sorted_indexes[0:top_n]\n",
    "        return list(zip(items[\"name\"][idxs], sims[idxs]))\n",
    "most_similar2(181, top_n=3,mode=\"cosine\")"
   ]
  },
  {
   "cell_type": "markdown",
   "metadata": {},
   "source": [
    "### Visualizing embeddings using TSNE\n",
    "\n",
    "- we use scikit learn to visualize items embeddings\n",
    "- Try different perplexities, and visualize user embeddings as well\n",
    "- What can you conclude ?"
   ]
  },
  {
   "cell_type": "code",
   "execution_count": 55,
   "metadata": {
    "collapsed": true
   },
   "outputs": [],
   "source": [
    "from sklearn.manifold import TSNE\n",
    "import matplotlib.pyplot as plt"
   ]
  },
  {
   "cell_type": "markdown",
   "metadata": {},
   "source": [
    "### Note : Quick Description of t-SNE\n",
    "-  t-SNE is a more efficient way to do vualization based on SNE : Stochastic Neighbor Embedding.\n",
    "-  SNE relies on a few assumtpions \n",
    "    - SNE models the similarity of two observations or two embeddings as a conditional distribution following a gaussian distribution. \n",
    "    - Then the objective is to minimize the kullback divergence of those two similarity distributions (the real one and the embedding one)\n",
    "    - The perpexity is an hyperparameter that allows to constraint the value of the variance of the similarities of the real data. $2^H(Pi)$\n",
    "- In order to solve the \"crowding problem\" and the difficult to optimize objective of SNE, t-SNE replaces the similarities distribution with a student distribution and the cost with a symmetric form of the Kullback"
   ]
  },
  {
   "cell_type": "code",
   "execution_count": 395,
   "metadata": {
    "collapsed": false
   },
   "outputs": [],
   "source": [
    "item_tsne_1 = TSNE(perplexity=1).fit_transform(item_embeddings)\n",
    "item_tsne_10 = TSNE(perplexity=10).fit_transform(item_embeddings)\n",
    "item_tsne_30 = TSNE(perplexity=60).fit_transform(item_embeddings)\n",
    "item_tsne_120 = TSNE(perplexity=100).fit_transform(item_embeddings)"
   ]
  },
  {
   "cell_type": "code",
   "execution_count": 398,
   "metadata": {
    "collapsed": false
   },
   "outputs": [
    {
     "data": {
      "text/plain": [
       "<matplotlib.text.Text at 0x15a517dd8>"
      ]
     },
     "execution_count": 398,
     "metadata": {},
     "output_type": "execute_result"
    },
    {
     "data": {
      "image/png": "[encoded data removed]",
      "text/plain": [
       "<matplotlib.figure.Figure at 0x15a37a1d0>"
      ]
     },
     "metadata": {},
     "output_type": "display_data"
    }
   ],
   "source": [
    "plt.figure(figsize=(18.0, 16.0))\n",
    "plt.suptitle(\"t-SNE item embedding visulization\",fontsize=30)\n",
    "plt.subplot(2, 2, 1)\n",
    "plt.scatter(item_tsne_1[:, 0], item_tsne_1[:, 1]);\n",
    "plt.xticks(()); plt.yticks(());\n",
    "plt.title(\"Perplexity 1\", fontsize=16)\n",
    "#plt.ylim([-2, 2])\n",
    "plt.subplot(2, 2, 2)\n",
    "plt.scatter(item_tsne_30[:, 0], item_tsne_30[:, 1]);\n",
    "plt.xticks(()); plt.yticks(());\n",
    "plt.title(\"Perplexity 10\", fontsize=16)\n",
    "#plt.ylim([-2, 2])\n",
    "plt.subplot(2, 2, 3)\n",
    "plt.scatter(item_tsne_50[:, 0], item_tsne_50[:, 1]);\n",
    "plt.xticks(()); plt.yticks(());\n",
    "plt.title(\"Perplexity 60\", fontsize=16)\n",
    "#plt.ylim([-2, 2])\n",
    "plt.subplot(2, 2, 4)\n",
    "plt.scatter(item_tsne_100[:, 0], item_tsne_100[:, 1]);\n",
    "plt.xticks(()); plt.yticks(());\n",
    "plt.title(\"Perplexity 100\", fontsize=16)"
   ]
  },
  {
   "cell_type": "markdown",
   "metadata": {},
   "source": [
    "## Perplexity impact : \n",
    "- Below a certain threshold the embedding has no specific shape ==> bad visualization \n",
    "- Above a certain threshold (around 100) the embedding does not change regarding the perplexity parameter\n",
    "- Around 50 we distinguish a clear shapes in the embedding"
   ]
  },
  {
   "cell_type": "markdown",
   "metadata": {},
   "source": [
    "## Using item metadata in the model\n",
    "\n",
    "Using a similar framework as previously, we will build another deep model that can also leverage additional metadata. The resulting system is therefore an **Hybrid Recommender System** that does both **Collaborative Filtering** and **Content-based recommendations**.\n",
    "\n",
    "<img src=\"images/rec_archi_3.svg\" style=\"width: 600px;\" />\n"
   ]
  },
  {
   "cell_type": "code",
   "execution_count": 403,
   "metadata": {
    "collapsed": false
   },
   "outputs": [
    {
     "data": {
      "text/plain": [
       "(80000, 20000)"
      ]
     },
     "execution_count": 403,
     "metadata": {},
     "output_type": "execute_result"
    }
   ],
   "source": [
    "# transform the date (string) into an int representing the release year\n",
    "parsed_dates = [int(film_date[-4:])\n",
    "                for film_date in items[\"date\"].tolist()]\n",
    "\n",
    "items['parsed_date'] = pd.Series(parsed_dates, index=items.index)\n",
    "max_date = max(items['parsed_date'])\n",
    "min_date = min(items['parsed_date'])\n",
    "\n",
    "from sklearn.preprocessing import scale\n",
    "\n",
    "items['scaled_date'] = scale(items['parsed_date'].astype('float64'))\n",
    "item_meta_train = items[\"scaled_date\"][item_id_train]\n",
    "item_meta_test = items[\"scaled_date\"][item_id_test]\n",
    "\n",
    "len(item_meta_train), len(item_meta_test)"
   ]
  },
  {
   "cell_type": "code",
   "execution_count": 404,
   "metadata": {
    "collapsed": false
   },
   "outputs": [
    {
     "data": {
      "text/plain": [
       "count    1.682000e+03\n",
       "mean    -2.415758e-15\n",
       "std      1.000297e+00\n",
       "min     -4.730390e+00\n",
       "25%      2.533563e-01\n",
       "50%      3.937435e-01\n",
       "75%      4.639372e-01\n",
       "max      6.043244e-01\n",
       "Name: scaled_date, dtype: float64"
      ]
     },
     "execution_count": 404,
     "metadata": {},
     "output_type": "execute_result"
    }
   ],
   "source": [
    "items[\"scaled_date\"].describe()"
   ]
  },
  {
   "cell_type": "markdown",
   "metadata": {},
   "source": [
    "### Note : \n",
    "\n",
    "- We add a scaled version of the release date for each movie \n",
    "- We input it after the embedding layer using the merge(\"concat\") function "
   ]
  },
  {
   "cell_type": "code",
   "execution_count": 406,
   "metadata": {
    "collapsed": false
   },
   "outputs": [],
   "source": [
    "# For each sample we input the integer identifiers\n",
    "# of a single user and a single item\n",
    "user_id_input = Input(shape=[1], name='user')\n",
    "item_id_input = Input(shape=[1], name='item')\n",
    "meta_input = Input(shape=[1], name='meta_item')\n",
    "\n",
    "embedding_size = 32\n",
    "user_embedding = Embedding(output_dim=embedding_size, input_dim=max_user_id + 1,\n",
    "                           input_length=1, name='user_embedding')(user_id_input)\n",
    "item_embedding = Embedding(output_dim=embedding_size, input_dim=max_item_id + 1,\n",
    "                           input_length=1, name='item_embedding')(item_id_input)\n",
    "\n",
    "\n",
    "# reshape from shape: (batch_size, input_length, embedding_size)\n",
    "# to shape: (batch_size, input_length * embedding_size) which is\n",
    "# equal to shape: (batch_size, embedding_size)\n",
    "user_vecs = Flatten()(user_embedding)\n",
    "item_vecs = Flatten()(item_embedding)\n",
    "\n",
    "input_vecs = merge([user_vecs, item_vecs, meta_input], mode='concat')\n",
    "\n",
    "x = Dense(64, activation='relu')(input_vecs)\n",
    "x = Dropout(0.5)(x)\n",
    "x = Dense(32, activation='relu')(x)\n",
    "y = Dense(1)(x)\n",
    "\n",
    "model_metadata = Model(input=[user_id_input, item_id_input, meta_input], output=y)\n",
    "model_metadata.compile(optimizer='adam', loss='mae')\n",
    "\n",
    "initial_train_preds = model_metadata.predict([user_id_train, item_id_train, item_meta_train])"
   ]
  },
  {
   "cell_type": "code",
   "execution_count": 407,
   "metadata": {
    "collapsed": false
   },
   "outputs": [
    {
     "name": "stdout",
     "output_type": "stream",
     "text": [
      "Train on 72000 samples, validate on 8000 samples\n",
      "Epoch 1/15\n",
      "72000/72000 [==============================] - 12s - loss: 0.9649 - val_loss: 0.7719\n",
      "Epoch 2/15\n",
      "72000/72000 [==============================] - 10s - loss: 0.7632 - val_loss: 0.7553\n",
      "Epoch 3/15\n",
      "72000/72000 [==============================] - 9s - loss: 0.7375 - val_loss: 0.7459\n",
      "Epoch 4/15\n",
      "72000/72000 [==============================] - 9s - loss: 0.7153 - val_loss: 0.7371\n",
      "Epoch 5/15\n",
      "72000/72000 [==============================] - 10s - loss: 0.6986 - val_loss: 0.7277\n",
      "Epoch 6/15\n",
      "72000/72000 [==============================] - 9s - loss: 0.6837 - val_loss: 0.7276\n",
      "Epoch 7/15\n",
      "72000/72000 [==============================] - 10s - loss: 0.6735 - val_loss: 0.7230\n",
      "Epoch 8/15\n",
      "72000/72000 [==============================] - 10s - loss: 0.6653 - val_loss: 0.7273\n",
      "Epoch 9/15\n",
      "72000/72000 [==============================] - 10s - loss: 0.6582 - val_loss: 0.7265\n",
      "Epoch 10/15\n",
      "72000/72000 [==============================] - 10s - loss: 0.6532 - val_loss: 0.7290\n",
      "Epoch 11/15\n",
      "72000/72000 [==============================] - 9s - loss: 0.6487 - val_loss: 0.7354\n",
      "Epoch 12/15\n",
      "72000/72000 [==============================] - 10s - loss: 0.6437 - val_loss: 0.7347\n",
      "Epoch 13/15\n",
      "72000/72000 [==============================] - 9s - loss: 0.6387 - val_loss: 0.7362\n",
      "Epoch 14/15\n",
      "72000/72000 [==============================] - 9s - loss: 0.6345 - val_loss: 0.7303\n",
      "Epoch 15/15\n",
      "72000/72000 [==============================] - 9s - loss: 0.6323 - val_loss: 0.7329\n",
      "CPU times: user 2min 34s, sys: 1min 8s, total: 3min 42s\n",
      "Wall time: 2min 34s\n"
     ]
    }
   ],
   "source": [
    "%%time\n",
    "history = model_metadata.fit([user_id_train, item_id_train, item_meta_train], rating_train,\n",
    "                    batch_size=64, nb_epoch=15, validation_split=0.1,\n",
    "                    shuffle=True)"
   ]
  },
  {
   "cell_type": "code",
   "execution_count": 428,
   "metadata": {
    "collapsed": false
   },
   "outputs": [
    {
     "name": "stdout",
     "output_type": "stream",
     "text": [
      "Final test Loss: 0.968\n",
      "Final test Loss: 0.718\n"
     ]
    }
   ],
   "source": [
    "train_preds_metadata = model_metadata.predict([user_id_train, item_id_train, item_meta_train])\n",
    "test_preds_metadata = model_metadata.predict([user_id_test, item_id_test, item_meta_test])\n",
    "print(\"Final test Loss: %0.3f\" % mean_squared_error(test_preds_metadata, rating_test))\n",
    "print(\"Final test Loss: %0.3f\" % mean_absolute_error(test_preds_metadata, rating_test))"
   ]
  },
  {
   "cell_type": "code",
   "execution_count": 481,
   "metadata": {
    "collapsed": false
   },
   "outputs": [
    {
     "name": "stdout",
     "output_type": "stream",
     "text": [
      "[0.843, 0.839, 0.841, 0.838, 0.792]\n",
      "['24 extra units', '48 extra units', '96 extra units', '192 extra units', 'with meta data']\n",
      "[0.843, 0.839, 0.841, 0.838, 0.792]\n"
     ]
    }
   ],
   "source": [
    "train_withMeta = train.copy()\n",
    "test_withMeta = test.copy()\n",
    "print(train_withMeta)\n",
    "labels =[str(e)+\" extra units\" for e in extra_units_list]\n",
    "labels.append(\"with meta data\")\n",
    "print(labels)\n",
    "#train_withMeta.append(mean_squared_error(train_preds_metadata, rating_train))\n",
    "#test_withMeta.append(mean_squared_error(test_preds_metadata, rating_test))\n",
    "print(train_withMeta)"
   ]
  },
  {
   "cell_type": "code",
   "execution_count": 480,
   "metadata": {
    "collapsed": false
   },
   "outputs": [
    {
     "data": {
      "image/png": "[encoded data removed]",
      "text/plain": [
       "<matplotlib.figure.Figure at 0x1502ea9b0>"
      ]
     },
     "metadata": {},
     "output_type": "display_data"
    }
   ],
   "source": [
    "width = 0.2\n",
    "plt.figure(figsize=(8.0,5.0))\n",
    "plot = plt.bar(np.arange(5),train_withMeta,width=width,label=\"train\")\n",
    "plot2 = plt.bar(np.arange(5)+train_withMeta,test_withMeta,width=width,label=\"validation\")\n",
    "plt.xticks(np.arange(5) + width / 2, labels)\n",
    "#plt.tight_layout()\n",
    "plt.legend()\n",
    "plt.show()"
   ]
  },
  {
   "cell_type": "markdown",
   "metadata": {},
   "source": [
    "### A recommendation function for a given user\n",
    "\n",
    "Once the model is trained, the system can be used to recommend a few items for a user, that he/she hasn't already seen:\n",
    "- we use the `model.predict` to compute the ratings a user would have given to all items\n",
    "- we build a reco function that sorts these items and exclude those the user has already seen"
   ]
  },
  {
   "cell_type": "code",
   "execution_count": 500,
   "metadata": {
    "collapsed": false,
    "scrolled": true
   },
   "outputs": [],
   "source": [
    "def recommend(user_id, top_n=10):\n",
    "    item_ids = range(1, max_item_id)\n",
    "    seen_movies = list(all_ratings[all_ratings[\"user_id\"]==user_id][\"item_id\"])\n",
    "    item_ids = list(filter(lambda x: x not in seen_movies, item_ids))\n",
    "    \n",
    "    print(\"user \"+str(user_id) +\" has seen \"+str(len(seen_movies)) + \" movies. \"+\n",
    "          \"Computing ratings for \"+str(len(item_ids))+ \" other movies\")\n",
    "    \n",
    "    item_ids = np.array(item_ids)\n",
    "    user = np.zeros_like(item_ids)\n",
    "    user[:]=user_id\n",
    "    items_meta = items[\"scaled_date\"][item_ids].values\n",
    "    \n",
    "    rating_preds = model.predict([user, item_ids, items_meta])\n",
    "    \n",
    "    item_ids = np.argsort(rating_preds[:,0])[::-1].tolist()\n",
    "    rec_items = item_ids[:top_n]\n",
    "    return [(items[\"name\"][movie], rating_preds[movie][0]) for movie in rec_items]"
   ]
  },
  {
   "cell_type": "code",
   "execution_count": 501,
   "metadata": {
    "collapsed": false
   },
   "outputs": [
    {
     "name": "stdout",
     "output_type": "stream",
     "text": [
      "user 3 has seen 54 movies. Computing ratings for 1627 other movies\n"
     ]
    },
    {
     "data": {
      "text/plain": [
       "[('Full Speed (1996)', 0.15444106),\n",
       " ('Hunted, The (1995)', 0.15105651),\n",
       " ('Garden of Finzi-Contini, The (Giardino dei Finzi-Contini, Il) (1970)',\n",
       "  0.14801937),\n",
       " ('Braindead (1992)', 0.14751455),\n",
       " ('Aparajito (1956)', 0.14686759),\n",
       " ('Hush (1998)', 0.14406794),\n",
       " ('B*A*P*S (1997)', 0.14302236),\n",
       " ('Paris Was a Woman (1995)', 0.14237665),\n",
       " ('Everest (1998)', 0.14170744),\n",
       " ('One Fine Day (1996)', 0.14073014)]"
      ]
     },
     "execution_count": 501,
     "metadata": {},
     "output_type": "execute_result"
    }
   ],
   "source": [
    "recommend(3)"
   ]
  },
  {
   "cell_type": "markdown",
   "metadata": {},
   "source": [
    "### Home assignment: Predicting ratings as a classification problem\n",
    "\n",
    "In this dataset, the ratings all belong to a finite set of possible values:"
   ]
  },
  {
   "cell_type": "code",
   "execution_count": 62,
   "metadata": {
    "collapsed": false
   },
   "outputs": [
    {
     "data": {
      "text/plain": [
       "array([1, 2, 3, 4, 5])"
      ]
     },
     "execution_count": 62,
     "metadata": {},
     "output_type": "execute_result"
    }
   ],
   "source": [
    "import numpy as np\n",
    "np.unique(rating_train)"
   ]
  },
  {
   "cell_type": "markdown",
   "metadata": {},
   "source": [
    "Maybe we can help the model by forcing it to predict those values by treating the problem as a multiclassification problem. The only required changes are:\n",
    "\n",
    "- setting the final layer to output class membership probabities using a softmax activation with 5 outputs;\n",
    "- optimize the categorical cross-entropy classification loss instead of a regression loss such as MSE or MAE."
   ]
  },
  {
   "cell_type": "code",
   "execution_count": null,
   "metadata": {
    "collapsed": true
   },
   "outputs": [],
   "source": [
    "user_id_input = Input(shape=[1], name='user') \n",
    "item_id_input = Input(shape=[1], name='item')\n",
    "\n",
    "embedding_size = 30\n",
    "user_embedding = Embedding(output_dim=embedding_size, input_dim=max_user_id + 1,\n",
    "                           input_length=1, name='user_embedding')(user_id_input)\n",
    "item_embedding = Embedding(output_dim=embedding_size, input_dim=max_item_id + 1,\n",
    "                           input_length=1, name='item_embedding')(item_id_input)\n",
    "\n",
    "# reshape from shape: (batch_size, input_length, embedding_size)\n",
    "# to shape: (batch_size, input_length * embedding_size) which is\n",
    "# equal to shape: (batch_size, embedding_size)\n",
    "user_vecs = Flatten()(user_embedding)\n",
    "item_vecs = Flatten()(item_embedding)\n",
    "input_vecs = merge([user_vecs, item_vecs], mode='concat')\n",
    "input_vecs = Dropout(0.5)(input_vecs)\n",
    "\n",
    "x = Dense(64, activation='relu')(input_vecs)\n",
    "y = Dense(1)(x) # better !!\n",
    "#y = Dense(2, activation='tanh')(x)\n",
    "print(\"user input\",user_id_input.get_shape)\n",
    "print(\"user embedding\",user_embedding.get_shape)\n",
    "print(\"user vecs\",user_vecs.get_shape)\n",
    "print(\"input merged\",input_vecs.get_shape)\n",
    "\n",
    "\n",
    "\n",
    "model = Model(input=[user_id_input, item_id_input], output=y)\n",
    "model.compile(optimizer='adam', loss='mae')\n",
    "\n",
    "initial_train_preds = model.predict([user_id_train, item_id_train])"
   ]
  },
  {
   "cell_type": "markdown",
   "metadata": {
    "collapsed": true
   },
   "source": [
    "## Note : \n",
    "- as our target is a 1 dim array of intergers betwwen 1 and 5, we use a loss of sparse_categorical_crossentropy\n",
    "- this loss is equivalent to adding a transformation of 1-hot encoded layer for the target "
   ]
  },
  {
   "cell_type": "code",
   "execution_count": 497,
   "metadata": {
    "collapsed": false
   },
   "outputs": [],
   "source": [
    "user_id_input_2 = Input(shape=[1], name='user') \n",
    "item_id_input_2 = Input(shape=[1], name='item')\n",
    "\n",
    "embedding_size = 30\n",
    "user_embedding_2 = Embedding(output_dim=embedding_size, input_dim=max_user_id + 1,\n",
    "                           input_length=1, name='user_embedding')(user_id_input_2)\n",
    "item_embedding_2 = Embedding(output_dim=embedding_size, input_dim=max_item_id + 1,\n",
    "                           input_length=1, name='item_embedding')(item_id_input_2)\n",
    "\n",
    "# reshape from shape: (batch_size, input_length, embedding_size)\n",
    "# to shape: (batch_size, input_length * embedding_size) which is\n",
    "# equal to shape: (batch_size, embedding_size)\n",
    "user_vecs_2 = Flatten()(user_embedding_2)\n",
    "item_vecs_2 = Flatten()(item_embedding_2)\n",
    "input_vecs_2 = merge([user_vecs_2, item_vecs_2], mode='concat')\n",
    "input_vecs_2 = Dropout(0.5)(input_vecs_2)\n",
    "x_2 = Dense(64, activation='relu')(input_vecs_2)\n",
    "# adding another dense layer with softmax in order to do multiclass prediction\n",
    "x_2_2 = Dense(activation='softmax',output_dim=5)(x_2)\n",
    "\n",
    "model_softmax = Model(input=[user_id_input_2, item_id_input_2], output=x_2_2)\n",
    "model_softmax.compile(optimizer='adam', loss='sparse_categorical_crossentropy')\n",
    "\n",
    "initial_train_pred_softmax = model_softmax.predict([user_id_train, item_id_train])"
   ]
  },
  {
   "cell_type": "code",
   "execution_count": 499,
   "metadata": {
    "collapsed": false
   },
   "outputs": [
    {
     "name": "stdout",
     "output_type": "stream",
     "text": [
      "Train on 72000 samples, validate on 8000 samples\n",
      "Epoch 1/5\n",
      "72000/72000 [==============================] - 9s - loss: 1.3526 - val_loss: 1.2818\n",
      "Epoch 2/5\n",
      "72000/72000 [==============================] - 8s - loss: 1.2580 - val_loss: 1.2695\n",
      "Epoch 3/5\n",
      "72000/72000 [==============================] - 8s - loss: 1.2384 - val_loss: 1.2654\n",
      "Epoch 4/5\n",
      "72000/72000 [==============================] - 8s - loss: 1.2263 - val_loss: 1.2603\n",
      "Epoch 5/5\n",
      "72000/72000 [==============================] - 8s - loss: 1.2157 - val_loss: 1.2597\n"
     ]
    },
    {
     "data": {
      "text/plain": [
       "<keras.callbacks.History at 0x151b0ef98>"
      ]
     },
     "execution_count": 499,
     "metadata": {},
     "output_type": "execute_result"
    }
   ],
   "source": [
    "model_softmax.fit([user_id_train, item_id_train], rating_train-1,\n",
    "                    batch_size=64, nb_epoch=5, validation_split=0.1,\n",
    "                    shuffle=True)"
   ]
  },
  {
   "cell_type": "markdown",
   "metadata": {},
   "source": []
  }
 ],
 "metadata": {
  "anaconda-cloud": {},
  "kernelspec": {
   "display_name": "Python [conda env:py35]",
   "language": "python",
   "name": "conda-env-py35-py"
  },
  "language_info": {
   "codemirror_mode": {
    "name": "ipython",
    "version": 3
   },
   "file_extension": ".py",
   "mimetype": "text/x-python",
   "name": "python",
   "nbconvert_exporter": "python",
   "pygments_lexer": "ipython3",
   "version": "3.5.2"
  }
 },
 "nbformat": 4,
 "nbformat_minor": 1
}
