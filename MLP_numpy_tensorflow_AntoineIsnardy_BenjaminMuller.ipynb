{
 "cells": [
  {
   "cell_type": "markdown",
   "metadata": {
    "collapsed": true
   },
   "source": [
    "# Backpropagation and Multilayer Neural Networks\n",
    "- **Antoine ISNARDY**\n",
    "- **Benjamin MULLER**\n",
    "### Goals: \n",
    "- Diving deep: implement a real gradient descent in `Numpy`\n",
    "- Auto-differentiation: the basics of `TensorFlow`\n",
    "\n",
    "### Dataset:\n",
    "- Digits: 10 class handwritten digits\n",
    "- http://scikit-learn.org/stable/modules/generated/sklearn.datasets.load_digits.html#sklearn.datasets.load_digits"
   ]
  },
  {
   "cell_type": "code",
   "execution_count": 1,
   "metadata": {
    "collapsed": false
   },
   "outputs": [],
   "source": [
    "%matplotlib inline \n",
    "# display figures in the notebook\n",
    "import matplotlib.pyplot as plt\n",
    "import numpy as np\n",
    "from sklearn.datasets import load_digits\n",
    "\n",
    "digits = load_digits()"
   ]
  },
  {
   "cell_type": "code",
   "execution_count": 2,
   "metadata": {
    "collapsed": false
   },
   "outputs": [
    {
     "data": {
      "image/png": "[encoded data removed]",
      "text/plain": [
       "<matplotlib.figure.Figure at 0x10cb50160>"
      ]
     },
     "metadata": {},
     "output_type": "display_data"
    }
   ],
   "source": [
    "sample_index = 45\n",
    "plt.figure(figsize=(3, 3))\n",
    "plt.imshow(digits.images[sample_index], cmap=plt.cm.gray_r,\n",
    "           interpolation='nearest')\n",
    "plt.title(\"image label: %d\" % digits.target[sample_index]);"
   ]
  },
  {
   "cell_type": "markdown",
   "metadata": {},
   "source": [
    "### Preprocessing\n",
    "\n",
    "- normalization\n",
    "- train/test split"
   ]
  },
  {
   "cell_type": "code",
   "execution_count": 3,
   "metadata": {
    "collapsed": false
   },
   "outputs": [],
   "source": [
    "from sklearn import preprocessing\n",
    "from sklearn.model_selection import train_test_split\n",
    "\n",
    "data = np.asarray(digits.data, dtype='float32')\n",
    "target = np.asarray(digits.target, dtype='int32')\n",
    "\n",
    "X_train, X_test, y_train, y_test = train_test_split(data, target, test_size=0.15, random_state=37)\n",
    "\n",
    "# mean = 0 ; standard deviation = 1.0\n",
    "scaler = preprocessing.StandardScaler()\n",
    "X_train = scaler.fit_transform(X_train)\n",
    "X_test = scaler.transform(X_test)\n",
    "\n",
    "# print(scaler.mean_)\n",
    "# print(scaler.scale_)"
   ]
  },
  {
   "cell_type": "markdown",
   "metadata": {},
   "source": [
    "Let's display the one of the transformed sample (after feature standardization):"
   ]
  },
  {
   "cell_type": "code",
   "execution_count": 4,
   "metadata": {
    "collapsed": false
   },
   "outputs": [
    {
     "data": {
      "image/png": "[encoded data removed]",
      "text/plain": [
       "<matplotlib.figure.Figure at 0x10ce28390>"
      ]
     },
     "metadata": {},
     "output_type": "display_data"
    }
   ],
   "source": [
    "sample_index = 45\n",
    "plt.figure(figsize=(3, 3))\n",
    "plt.imshow(X_train[sample_index].reshape(8, 8),\n",
    "           cmap=plt.cm.gray_r, interpolation='nearest')\n",
    "plt.title(\"transformed sample\\n(standardization)\");"
   ]
  },
  {
   "cell_type": "markdown",
   "metadata": {},
   "source": [
    "The scaler objects makes it possible to recover the original sample:"
   ]
  },
  {
   "cell_type": "code",
   "execution_count": 5,
   "metadata": {
    "collapsed": false
   },
   "outputs": [
    {
     "data": {
      "image/png": "[encoded data removed]",
      "text/plain": [
       "<matplotlib.figure.Figure at 0x10ce4dcf8>"
      ]
     },
     "metadata": {},
     "output_type": "display_data"
    }
   ],
   "source": [
    "plt.figure(figsize=(3, 3))\n",
    "plt.imshow(scaler.inverse_transform(X_train[sample_index]).reshape(8, 8),\n",
    "           cmap=plt.cm.gray_r, interpolation='nearest')\n",
    "plt.title(\"original sample\");"
   ]
  },
  {
   "cell_type": "code",
   "execution_count": 6,
   "metadata": {
    "collapsed": false
   },
   "outputs": [
    {
     "name": "stdout",
     "output_type": "stream",
     "text": [
      "(1527, 64) (1527,)\n",
      "(270, 64) (270,)\n"
     ]
    }
   ],
   "source": [
    "print(X_train.shape, y_train.shape)\n",
    "print(X_test.shape, y_test.shape)"
   ]
  },
  {
   "cell_type": "markdown",
   "metadata": {},
   "source": [
    "# I) Feed Forward NN with Keras\n",
    "\n",
    "Objectives of this section:\n",
    "\n",
    "- Build and train a first feedforward network using `Keras`\n",
    "    - https://keras.io/getting-started/sequential-model-guide/\n",
    "- Experiment with different optimizers, activations, size of layers, initializations\n",
    "\n",
    "### a) Keras Workflow"
   ]
  },
  {
   "cell_type": "markdown",
   "metadata": {},
   "source": [
    "To build a first neural network we need to turn the target variable into a vector \"one-hot-encoding\" representation. Here are the labels of the first samples in the training set encoded as integers:"
   ]
  },
  {
   "cell_type": "code",
   "execution_count": 7,
   "metadata": {
    "collapsed": false
   },
   "outputs": [
    {
     "data": {
      "text/plain": [
       "array([2, 9, 5], dtype=int32)"
      ]
     },
     "execution_count": 7,
     "metadata": {},
     "output_type": "execute_result"
    }
   ],
   "source": [
    "y_train[:3]"
   ]
  },
  {
   "cell_type": "markdown",
   "metadata": {},
   "source": [
    "Keras provides a utility function to convert integer-encoded categorical variables as one-hot encoded values:"
   ]
  },
  {
   "cell_type": "code",
   "execution_count": 8,
   "metadata": {
    "collapsed": false
   },
   "outputs": [
    {
     "name": "stderr",
     "output_type": "stream",
     "text": [
      "Using TensorFlow backend.\n"
     ]
    },
    {
     "data": {
      "text/plain": [
       "array([[ 0.,  0.,  1.,  0.,  0.,  0.,  0.,  0.,  0.,  0.],\n",
       "       [ 0.,  0.,  0.,  0.,  0.,  0.,  0.,  0.,  0.,  1.],\n",
       "       [ 0.,  0.,  0.,  0.,  0.,  1.,  0.,  0.,  0.,  0.]])"
      ]
     },
     "execution_count": 8,
     "metadata": {},
     "output_type": "execute_result"
    }
   ],
   "source": [
    "from keras.utils.np_utils import to_categorical\n",
    "\n",
    "Y_train = to_categorical(y_train)\n",
    "Y_train[:3]"
   ]
  },
  {
   "cell_type": "markdown",
   "metadata": {},
   "source": [
    "We can now build an train a our first feed forward neural network using the high level API from keras:\n",
    "\n",
    "- first we define the model by stacking layers with the right dimensions\n",
    "- then we define a loss function and plug the SGD optimizer\n",
    "- then we feed the model the training data for fixed number of epochs"
   ]
  },
  {
   "cell_type": "code",
   "execution_count": 9,
   "metadata": {
    "collapsed": false
   },
   "outputs": [
    {
     "name": "stdout",
     "output_type": "stream",
     "text": [
      "Epoch 1/15\n",
      "1527/1527 [==============================] - 0s - loss: 0.8326 - acc: 0.7950     \n",
      "Epoch 2/15\n",
      "1527/1527 [==============================] - 0s - loss: 0.2775 - acc: 0.9476     \n",
      "Epoch 3/15\n",
      "1527/1527 [==============================] - 0s - loss: 0.1891 - acc: 0.9614     \n",
      "Epoch 4/15\n",
      "1527/1527 [==============================] - 0s - loss: 0.1473 - acc: 0.9712     \n",
      "Epoch 5/15\n",
      "1527/1527 [==============================] - 0s - loss: 0.1224 - acc: 0.9797     \n",
      "Epoch 6/15\n",
      "1527/1527 [==============================] - 0s - loss: 0.1047 - acc: 0.9817     \n",
      "Epoch 7/15\n",
      "1527/1527 [==============================] - 0s - loss: 0.0911 - acc: 0.9862     \n",
      "Epoch 8/15\n",
      "1527/1527 [==============================] - 0s - loss: 0.0815 - acc: 0.9889     \n",
      "Epoch 9/15\n",
      "1527/1527 [==============================] - 0s - loss: 0.0728 - acc: 0.9895     \n",
      "Epoch 10/15\n",
      "1527/1527 [==============================] - 0s - loss: 0.0662 - acc: 0.9908     \n",
      "Epoch 11/15\n",
      "1527/1527 [==============================] - 0s - loss: 0.0602 - acc: 0.9928     \n",
      "Epoch 12/15\n",
      "1527/1527 [==============================] - 0s - loss: 0.0553 - acc: 0.9935     \n",
      "Epoch 13/15\n",
      "1527/1527 [==============================] - 0s - loss: 0.0512 - acc: 0.9941     \n",
      "Epoch 14/15\n",
      "1527/1527 [==============================] - 0s - loss: 0.0472 - acc: 0.9948     \n",
      "Epoch 15/15\n",
      "1527/1527 [==============================] - 0s - loss: 0.0442 - acc: 0.9948     \n"
     ]
    },
    {
     "data": {
      "text/plain": [
       "<keras.callbacks.History at 0x11a745ba8>"
      ]
     },
     "execution_count": 9,
     "metadata": {},
     "output_type": "execute_result"
    }
   ],
   "source": [
    "import keras\n",
    "from keras.models import Sequential\n",
    "from keras.layers.core import Dense, Activation\n",
    "from keras import optimizers\n",
    "\n",
    "N = X_train.shape[1]\n",
    "H = 100\n",
    "K = 10\n",
    "\n",
    "model = Sequential()\n",
    "model.add(Dense(H, input_dim=N))\n",
    "model.add(Activation(\"tanh\"))\n",
    "model.add(Dense(K))\n",
    "model.add(Activation(\"softmax\"))\n",
    "\n",
    "model.compile(optimizer=optimizers.SGD(lr=0.1),\n",
    "              loss='categorical_crossentropy', metrics=['accuracy'])\n",
    "\n",
    "model.fit(X_train, Y_train, nb_epoch=15, batch_size=32)"
   ]
  },
  {
   "cell_type": "markdown",
   "metadata": {},
   "source": [
    "### b) Exercises: Impact of the Optimizer\n",
    "\n",
    "- Try to decrease the learning rate value by 10 or 100. What do you observe?\n",
    "\n",
    "- Try to increase the learning rate value to make the optimization diverge.\n",
    "\n",
    "- Configure the SGD optimizer to enable a Nesterov momentum of 0.9\n",
    "  \n",
    "Note that the keras API documentation is avaiable at:\n",
    "\n",
    "https://keras.io/\n",
    "\n",
    "It is also possible to learn more about the parameters of a class by using the question mark: type and evaluate:\n",
    "\n",
    "```python\n",
    "optimizers.SGD?\n",
    "```\n",
    "\n",
    "in a jupyter notebook cell."
   ]
  },
  {
   "cell_type": "code",
   "execution_count": 10,
   "metadata": {
    "collapsed": true
   },
   "outputs": [],
   "source": [
    "def basic_model():\n",
    "    model = Sequential()\n",
    "    model.add(Dense(H, input_dim=N))\n",
    "    model.add(Activation(\"tanh\"))\n",
    "    model.add(Dense(K))\n",
    "    model.add(Activation(\"softmax\"))\n",
    "    return model"
   ]
  },
  {
   "cell_type": "code",
   "execution_count": 11,
   "metadata": {
    "collapsed": false
   },
   "outputs": [
    {
     "name": "stdout",
     "output_type": "stream",
     "text": [
      "Epoch 1/15\n",
      "1527/1527 [==============================] - 0s - loss: 1.9757 - acc: 0.3379     \n",
      "Epoch 2/15\n",
      "1527/1527 [==============================] - 0s - loss: 1.2717 - acc: 0.6870     \n",
      "Epoch 3/15\n",
      "1527/1527 [==============================] - 0s - loss: 0.9371 - acc: 0.7845     \n",
      "Epoch 4/15\n",
      "1527/1527 [==============================] - 0s - loss: 0.7528 - acc: 0.8271     \n",
      "Epoch 5/15\n",
      "1527/1527 [==============================] - 0s - loss: 0.6344 - acc: 0.8612     \n",
      "Epoch 6/15\n",
      "1527/1527 [==============================] - 0s - loss: 0.5508 - acc: 0.8802     \n",
      "Epoch 7/15\n",
      "1527/1527 [==============================] - 0s - loss: 0.4881 - acc: 0.9011     \n",
      "Epoch 8/15\n",
      "1527/1527 [==============================] - 0s - loss: 0.4394 - acc: 0.9129     \n",
      "Epoch 9/15\n",
      "1527/1527 [==============================] - 0s - loss: 0.4005 - acc: 0.9214     \n",
      "Epoch 10/15\n",
      "1527/1527 [==============================] - 0s - loss: 0.3687 - acc: 0.9299     \n",
      "Epoch 11/15\n",
      "1527/1527 [==============================] - 0s - loss: 0.3421 - acc: 0.9358     \n",
      "Epoch 12/15\n",
      "1527/1527 [==============================] - 0s - loss: 0.3199 - acc: 0.9404     \n",
      "Epoch 13/15\n",
      "1527/1527 [==============================] - 0s - loss: 0.3006 - acc: 0.9456     \n",
      "Epoch 14/15\n",
      "1527/1527 [==============================] - 0s - loss: 0.2838 - acc: 0.9522     \n",
      "Epoch 15/15\n",
      "1527/1527 [==============================] - 0s - loss: 0.2692 - acc: 0.9568     \n"
     ]
    },
    {
     "data": {
      "text/plain": [
       "<keras.callbacks.History at 0x11abcd9e8>"
      ]
     },
     "execution_count": 11,
     "metadata": {},
     "output_type": "execute_result"
    }
   ],
   "source": [
    "model = basic_model()\n",
    "model.compile(optimizer=optimizers.SGD(lr=.01),\n",
    "              loss='categorical_crossentropy', metrics=['accuracy'])\n",
    "model.fit(X_train, Y_train, nb_epoch=15, batch_size=32)"
   ]
  },
  {
   "cell_type": "code",
   "execution_count": 12,
   "metadata": {
    "collapsed": false
   },
   "outputs": [
    {
     "name": "stdout",
     "output_type": "stream",
     "text": [
      "Epoch 1/15\n",
      "1527/1527 [==============================] - 0s - loss: 2.6582 - acc: 0.0439     \n",
      "Epoch 2/15\n",
      "1527/1527 [==============================] - 0s - loss: 2.5175 - acc: 0.0629     \n",
      "Epoch 3/15\n",
      "1527/1527 [==============================] - 0s - loss: 2.3861 - acc: 0.0995     \n",
      "Epoch 4/15\n",
      "1527/1527 [==============================] - 0s - loss: 2.2635 - acc: 0.1408     \n",
      "Epoch 5/15\n",
      "1527/1527 [==============================] - 0s - loss: 2.1494 - acc: 0.1978     \n",
      "Epoch 6/15\n",
      "1527/1527 [==============================] - 0s - loss: 2.0434 - acc: 0.2705     \n",
      "Epoch 7/15\n",
      "1527/1527 [==============================] - 0s - loss: 1.9450 - acc: 0.3491     \n",
      "Epoch 8/15\n",
      "1527/1527 [==============================] - 0s - loss: 1.8538 - acc: 0.4178     \n",
      "Epoch 9/15\n",
      "1527/1527 [==============================] - 0s - loss: 1.7692 - acc: 0.4676     \n",
      "Epoch 10/15\n",
      "1527/1527 [==============================] - 0s - loss: 1.6910 - acc: 0.5141     \n",
      "Epoch 11/15\n",
      "1527/1527 [==============================] - 0s - loss: 1.6185 - acc: 0.5521     \n",
      "Epoch 12/15\n",
      "1527/1527 [==============================] - 0s - loss: 1.5514 - acc: 0.5789     \n",
      "Epoch 13/15\n",
      "1527/1527 [==============================] - 0s - loss: 1.4893 - acc: 0.6103     \n",
      "Epoch 14/15\n",
      "1527/1527 [==============================] - 0s - loss: 1.4318 - acc: 0.6424     \n",
      "Epoch 15/15\n",
      "1527/1527 [==============================] - 0s - loss: 1.3783 - acc: 0.6680     \n"
     ]
    },
    {
     "data": {
      "text/plain": [
       "<keras.callbacks.History at 0x11b249a20>"
      ]
     },
     "execution_count": 12,
     "metadata": {},
     "output_type": "execute_result"
    }
   ],
   "source": [
    "model = basic_model()\n",
    "model.compile(optimizer=optimizers.SGD(lr=.001),\n",
    "              loss='categorical_crossentropy', metrics=['accuracy'])\n",
    "model.fit(X_train, Y_train, nb_epoch=15, batch_size=32)"
   ]
  },
  {
   "cell_type": "markdown",
   "metadata": {},
   "source": [
    "- Slower as $\\eta$ decreases. Not surprising, since if $\\eta$ is too slow, convergence is slow as well"
   ]
  },
  {
   "cell_type": "code",
   "execution_count": 13,
   "metadata": {
    "collapsed": false
   },
   "outputs": [
    {
     "name": "stdout",
     "output_type": "stream",
     "text": [
      "Epoch 1/15\n",
      "1527/1527 [==============================] - 0s - loss: 11.3123 - acc: 0.2770     \n",
      "Epoch 2/15\n",
      "1527/1527 [==============================] - 0s - loss: 9.9933 - acc: 0.3772      \n",
      "Epoch 3/15\n",
      "1527/1527 [==============================] - 0s - loss: 9.5781 - acc: 0.4034     \n",
      "Epoch 4/15\n",
      "1527/1527 [==============================] - 0s - loss: 9.8308 - acc: 0.3857     \n",
      "Epoch 5/15\n",
      "1527/1527 [==============================] - 0s - loss: 9.0595 - acc: 0.4375     \n",
      "Epoch 6/15\n",
      "1527/1527 [==============================] - 0s - loss: 9.2389 - acc: 0.4257     \n",
      "Epoch 7/15\n",
      "1527/1527 [==============================] - 0s - loss: 9.2023 - acc: 0.4270     \n",
      "Epoch 8/15\n",
      "1527/1527 [==============================] - 0s - loss: 9.0234 - acc: 0.4401     \n",
      "Epoch 9/15\n",
      "1527/1527 [==============================] - 0s - loss: 9.1158 - acc: 0.4322     \n",
      "Epoch 10/15\n",
      "1527/1527 [==============================] - 0s - loss: 9.3027 - acc: 0.4224     \n",
      "Epoch 11/15\n",
      "1527/1527 [==============================] - 0s - loss: 8.9387 - acc: 0.4420     \n",
      "Epoch 12/15\n",
      "1527/1527 [==============================] - 0s - loss: 9.4980 - acc: 0.4073     \n",
      "Epoch 13/15\n",
      "1527/1527 [==============================] - 0s - loss: 9.2026 - acc: 0.4250     \n",
      "Epoch 14/15\n",
      "1527/1527 [==============================] - 0s - loss: 8.7830 - acc: 0.4545     \n",
      "Epoch 15/15\n",
      "1527/1527 [==============================] - 0s - loss: 8.8413 - acc: 0.4506     \n"
     ]
    },
    {
     "data": {
      "text/plain": [
       "<keras.callbacks.History at 0x11b905ba8>"
      ]
     },
     "execution_count": 13,
     "metadata": {},
     "output_type": "execute_result"
    }
   ],
   "source": [
    "# Very large value of eta\n",
    "model = basic_model()\n",
    "model.compile(optimizer=optimizers.SGD(lr=100),\n",
    "              loss='categorical_crossentropy', metrics=['accuracy'])\n",
    "model.fit(X_train, Y_train, nb_epoch=15, batch_size=32)"
   ]
  },
  {
   "cell_type": "code",
   "execution_count": 14,
   "metadata": {
    "collapsed": false
   },
   "outputs": [
    {
     "name": "stdout",
     "output_type": "stream",
     "text": [
      "Epoch 1/15\n",
      "1527/1527 [==============================] - 0s - loss: 0.4121 - acc: 0.8736     \n",
      "Epoch 2/15\n",
      "1527/1527 [==============================] - 0s - loss: 0.0837 - acc: 0.9745     \n",
      "Epoch 3/15\n",
      "1527/1527 [==============================] - 0s - loss: 0.0383 - acc: 0.9915     \n",
      "Epoch 4/15\n",
      "1527/1527 [==============================] - 0s - loss: 0.0185 - acc: 0.9961     \n",
      "Epoch 5/15\n",
      "1527/1527 [==============================] - 0s - loss: 0.0119 - acc: 0.9993     \n",
      "Epoch 6/15\n",
      "1527/1527 [==============================] - 0s - loss: 0.0071 - acc: 1.0000     \n",
      "Epoch 7/15\n",
      "1527/1527 [==============================] - 0s - loss: 0.0056 - acc: 1.0000     \n",
      "Epoch 8/15\n",
      "1527/1527 [==============================] - 0s - loss: 0.0046 - acc: 1.0000     \n",
      "Epoch 9/15\n",
      "1527/1527 [==============================] - 0s - loss: 0.0039 - acc: 1.0000     \n",
      "Epoch 10/15\n",
      "1527/1527 [==============================] - 0s - loss: 0.0034 - acc: 1.0000     \n",
      "Epoch 11/15\n",
      "1527/1527 [==============================] - 0s - loss: 0.0031 - acc: 1.0000     \n",
      "Epoch 12/15\n",
      "1527/1527 [==============================] - 0s - loss: 0.0028 - acc: 1.0000     \n",
      "Epoch 13/15\n",
      "1527/1527 [==============================] - 0s - loss: 0.0026 - acc: 1.0000     \n",
      "Epoch 14/15\n",
      "1527/1527 [==============================] - 0s - loss: 0.0024 - acc: 1.0000     \n",
      "Epoch 15/15\n",
      "1527/1527 [==============================] - 0s - loss: 0.0022 - acc: 1.0000     \n"
     ]
    },
    {
     "data": {
      "text/plain": [
       "<keras.callbacks.History at 0x11bf03c88>"
      ]
     },
     "execution_count": 14,
     "metadata": {},
     "output_type": "execute_result"
    }
   ],
   "source": [
    "# Nesterov momentum\n",
    "model = basic_model()\n",
    "model.compile(optimizer=optimizers.SGD(lr=.1, momentum=.9, nesterov=True),\n",
    "              loss='categorical_crossentropy', metrics=['accuracy'])\n",
    "model.fit(X_train, Y_train, nb_epoch=15, batch_size=32)"
   ]
  },
  {
   "cell_type": "code",
   "execution_count": 15,
   "metadata": {
    "collapsed": false
   },
   "outputs": [
    {
     "name": "stdout",
     "output_type": "stream",
     "text": [
      "Epoch 1/15\n",
      "1527/1527 [==============================] - 0s - loss: 0.4194 - acc: 0.8651     \n",
      "Epoch 2/15\n",
      "1527/1527 [==============================] - 0s - loss: 0.0711 - acc: 0.9810     \n",
      "Epoch 3/15\n",
      "1527/1527 [==============================] - 0s - loss: 0.0289 - acc: 0.9954     \n",
      "Epoch 4/15\n",
      "1527/1527 [==============================] - 0s - loss: 0.0151 - acc: 0.9987     \n",
      "Epoch 5/15\n",
      "1527/1527 [==============================] - 0s - loss: 0.0106 - acc: 0.9987     \n",
      "Epoch 6/15\n",
      "1527/1527 [==============================] - 0s - loss: 0.0072 - acc: 1.0000     \n",
      "Epoch 7/15\n",
      "1527/1527 [==============================] - 0s - loss: 0.0058 - acc: 1.0000     \n",
      "Epoch 8/15\n",
      "1527/1527 [==============================] - 0s - loss: 0.0048 - acc: 1.0000     \n",
      "Epoch 9/15\n",
      "1527/1527 [==============================] - 0s - loss: 0.0042 - acc: 1.0000     \n",
      "Epoch 10/15\n",
      "1527/1527 [==============================] - 0s - loss: 0.0037 - acc: 1.0000     \n",
      "Epoch 11/15\n",
      "1527/1527 [==============================] - 0s - loss: 0.0033 - acc: 1.0000     \n",
      "Epoch 12/15\n",
      "1527/1527 [==============================] - 0s - loss: 0.0029 - acc: 1.0000     \n",
      "Epoch 13/15\n",
      "1527/1527 [==============================] - 0s - loss: 0.0027 - acc: 1.0000     \n",
      "Epoch 14/15\n",
      "1527/1527 [==============================] - 0s - loss: 0.0025 - acc: 1.0000     \n",
      "Epoch 15/15\n",
      "1527/1527 [==============================] - 0s - loss: 0.0023 - acc: 1.0000     \n"
     ]
    },
    {
     "data": {
      "text/plain": [
       "<keras.callbacks.History at 0x11bfb1d68>"
      ]
     },
     "execution_count": 15,
     "metadata": {},
     "output_type": "execute_result"
    }
   ],
   "source": [
    "# %load solutions/keras_sgd_and_momentum.py\n",
    "model = Sequential()\n",
    "model.add(Dense(H, input_dim=N))\n",
    "model.add(Activation(\"tanh\"))\n",
    "model.add(Dense(K))\n",
    "model.add(Activation(\"softmax\"))\n",
    "\n",
    "optimizer = optimizers.SGD(lr=0.1, momentum=0.9, nesterov=True)\n",
    "model.compile(optimizer=optimizer, loss='categorical_crossentropy',\n",
    "              metrics=['accuracy'])\n",
    "model.fit(X_train, Y_train, nb_epoch=15, batch_size=32)\n",
    "\n",
    "\n",
    "# Analysis:\n",
    "#\n",
    "# Setting the learning rate value to a small value (e.g. lr=0.001 on\n",
    "# this dataset) makes the model train much slower (it has not\n",
    "# converged yet after 15 epochs).\n",
    "#\n",
    "# Using momentum tends to mitigate the small learning rate / slow\n",
    "# training problem a bit.\n",
    "#\n",
    "# Setting the learning rate to a very large value (e.g. lr=10)\n",
    "# makes the model randomly bounce around a good local\n",
    "# minimum and therefore prevent it to reach a low training loss even\n",
    "# after 30 epochs."
   ]
  },
  {
   "cell_type": "markdown",
   "metadata": {},
   "source": [
    "- Replace the SGD optimizer by the Adam optimizer from keras and run it\n",
    "  with the default parameters.\n",
    "\n",
    "- Add another hidden layer and use the \"Rectified Linear Unit\" for each\n",
    "  hidden layer. Can you still train the model with Adam with its default global\n",
    "  learning rate?\n",
    "\n",
    "- Bonus: try the Adadelta optimizer (no learning rate to set).\n",
    "\n",
    "Hint: use `optimizers.<TAB>` to tab-complete the list of implemented optimizers in Keras."
   ]
  },
  {
   "cell_type": "code",
   "execution_count": 16,
   "metadata": {
    "collapsed": false
   },
   "outputs": [
    {
     "name": "stdout",
     "output_type": "stream",
     "text": [
      "Epoch 1/15\n",
      "1527/1527 [==============================] - 0s - loss: 1.3425 - acc: 0.6326     \n",
      "Epoch 2/15\n",
      "1527/1527 [==============================] - 0s - loss: 0.5148 - acc: 0.9070     \n",
      "Epoch 3/15\n",
      "1527/1527 [==============================] - 0s - loss: 0.3207 - acc: 0.9456     \n",
      "Epoch 4/15\n",
      "1527/1527 [==============================] - 0s - loss: 0.2361 - acc: 0.9633     \n",
      "Epoch 5/15\n",
      "1527/1527 [==============================] - 0s - loss: 0.1872 - acc: 0.9679     \n",
      "Epoch 6/15\n",
      "1527/1527 [==============================] - 0s - loss: 0.1544 - acc: 0.9751     \n",
      "Epoch 7/15\n",
      "1527/1527 [==============================] - 0s - loss: 0.1313 - acc: 0.9790     \n",
      "Epoch 8/15\n",
      "1527/1527 [==============================] - 0s - loss: 0.1136 - acc: 0.9817     \n",
      "Epoch 9/15\n",
      "1527/1527 [==============================] - 0s - loss: 0.0992 - acc: 0.9830     \n",
      "Epoch 10/15\n",
      "1527/1527 [==============================] - 0s - loss: 0.0879 - acc: 0.9856     \n",
      "Epoch 11/15\n",
      "1527/1527 [==============================] - 0s - loss: 0.0788 - acc: 0.9882     \n",
      "Epoch 12/15\n",
      "1527/1527 [==============================] - 0s - loss: 0.0702 - acc: 0.9895     \n",
      "Epoch 13/15\n",
      "1527/1527 [==============================] - 0s - loss: 0.0633 - acc: 0.9908     \n",
      "Epoch 14/15\n",
      "1527/1527 [==============================] - 0s - loss: 0.0567 - acc: 0.9928     \n",
      "Epoch 15/15\n",
      "1527/1527 [==============================] - 0s - loss: 0.0521 - acc: 0.9941     \n"
     ]
    },
    {
     "data": {
      "text/plain": [
       "<keras.callbacks.History at 0x11cbe1828>"
      ]
     },
     "execution_count": 16,
     "metadata": {},
     "output_type": "execute_result"
    }
   ],
   "source": [
    "# Adam optimizer\n",
    "model = basic_model()\n",
    "optimizer = optimizers.Adam()\n",
    "model.compile(optimizer=optimizer, loss='categorical_crossentropy',\n",
    "              metrics=['accuracy'])\n",
    "model.fit(X_train, Y_train, nb_epoch=15, batch_size=32)"
   ]
  },
  {
   "cell_type": "markdown",
   "metadata": {},
   "source": [
    "- Better than SGD with default parameters. Not as good as Nesterov though with default parameters."
   ]
  },
  {
   "cell_type": "code",
   "execution_count": 17,
   "metadata": {
    "collapsed": false
   },
   "outputs": [
    {
     "name": "stdout",
     "output_type": "stream",
     "text": [
      "Epoch 1/15\n",
      "1527/1527 [==============================] - 0s - loss: 1.4435 - acc: 0.6280     \n",
      "Epoch 2/15\n",
      "1527/1527 [==============================] - 0s - loss: 0.3580 - acc: 0.9214     \n",
      "Epoch 3/15\n",
      "1527/1527 [==============================] - 0s - loss: 0.1612 - acc: 0.9699     \n",
      "Epoch 4/15\n",
      "1527/1527 [==============================] - 0s - loss: 0.0981 - acc: 0.9862     \n",
      "Epoch 5/15\n",
      "1527/1527 [==============================] - 0s - loss: 0.0653 - acc: 0.9902     \n",
      "Epoch 6/15\n",
      "1527/1527 [==============================] - 0s - loss: 0.0460 - acc: 0.9948     \n",
      "Epoch 7/15\n",
      "1527/1527 [==============================] - 0s - loss: 0.0330 - acc: 0.9961     \n",
      "Epoch 8/15\n",
      "1527/1527 [==============================] - 0s - loss: 0.0244 - acc: 0.9987     \n",
      "Epoch 9/15\n",
      "1527/1527 [==============================] - 0s - loss: 0.0194 - acc: 0.9993     \n",
      "Epoch 10/15\n",
      "1527/1527 [==============================] - 0s - loss: 0.0145 - acc: 1.0000     \n",
      "Epoch 11/15\n",
      "1527/1527 [==============================] - 0s - loss: 0.0118 - acc: 1.0000     \n",
      "Epoch 12/15\n",
      "1527/1527 [==============================] - 0s - loss: 0.0092 - acc: 1.0000     \n",
      "Epoch 13/15\n",
      "1527/1527 [==============================] - 0s - loss: 0.0077 - acc: 1.0000     \n",
      "Epoch 14/15\n",
      "1527/1527 [==============================] - 0s - loss: 0.0065 - acc: 1.0000     \n",
      "Epoch 15/15\n",
      "1527/1527 [==============================] - 0s - loss: 0.0055 - acc: 1.0000     \n"
     ]
    },
    {
     "data": {
      "text/plain": [
       "<keras.callbacks.History at 0x11d548d30>"
      ]
     },
     "execution_count": 17,
     "metadata": {},
     "output_type": "execute_result"
    }
   ],
   "source": [
    "# Additional hidden layer\n",
    "model = Sequential()\n",
    "model.add(Dense(H, input_dim=N))\n",
    "model.add(Activation(\"relu\"))\n",
    "model.add(Dense(H))\n",
    "model.add(Activation(\"relu\"))\n",
    "model.add(Dense(K))\n",
    "model.add(Activation(\"softmax\"))\n",
    "model.compile(optimizer=\"adam\", loss='categorical_crossentropy',\n",
    "              metrics=['accuracy'])\n",
    "model.fit(X_train, Y_train, nb_epoch=15, batch_size=32)"
   ]
  },
  {
   "cell_type": "markdown",
   "metadata": {},
   "source": [
    "- Still possible to run with default parameters"
   ]
  },
  {
   "cell_type": "code",
   "execution_count": 18,
   "metadata": {
    "collapsed": false
   },
   "outputs": [
    {
     "name": "stdout",
     "output_type": "stream",
     "text": [
      "Epoch 1/15\n",
      "1527/1527 [==============================] - 0s - loss: 1.8923 - acc: 0.4355     \n",
      "Epoch 2/15\n",
      "1527/1527 [==============================] - 0s - loss: 1.0066 - acc: 0.8284     \n",
      "Epoch 3/15\n",
      "1527/1527 [==============================] - 0s - loss: 0.5572 - acc: 0.8959     \n",
      "Epoch 4/15\n",
      "1527/1527 [==============================] - 0s - loss: 0.3614 - acc: 0.9293     \n",
      "Epoch 5/15\n",
      "1527/1527 [==============================] - 0s - loss: 0.2627 - acc: 0.9437     \n",
      "Epoch 6/15\n",
      "1527/1527 [==============================] - 0s - loss: 0.2031 - acc: 0.9594     \n",
      "Epoch 7/15\n",
      "1527/1527 [==============================] - 0s - loss: 0.1654 - acc: 0.9659     \n",
      "Epoch 8/15\n",
      "1527/1527 [==============================] - 0s - loss: 0.1371 - acc: 0.9731     \n",
      "Epoch 9/15\n",
      "1527/1527 [==============================] - 0s - loss: 0.1159 - acc: 0.9790     \n",
      "Epoch 10/15\n",
      "1527/1527 [==============================] - 0s - loss: 0.0996 - acc: 0.9817     \n",
      "Epoch 11/15\n",
      "1527/1527 [==============================] - 0s - loss: 0.0860 - acc: 0.9843     \n",
      "Epoch 12/15\n",
      "1527/1527 [==============================] - 0s - loss: 0.0747 - acc: 0.9876     \n",
      "Epoch 13/15\n",
      "1527/1527 [==============================] - 0s - loss: 0.0664 - acc: 0.9895     \n",
      "Epoch 14/15\n",
      "1527/1527 [==============================] - 0s - loss: 0.0584 - acc: 0.9902     \n",
      "Epoch 15/15\n",
      "1527/1527 [==============================] - 0s - loss: 0.0517 - acc: 0.9928     \n"
     ]
    },
    {
     "data": {
      "text/plain": [
       "<keras.callbacks.History at 0x11dfb5710>"
      ]
     },
     "execution_count": 18,
     "metadata": {},
     "output_type": "execute_result"
    }
   ],
   "source": [
    "# Adadelta\n",
    "model = Sequential()\n",
    "model.add(Dense(H, input_dim=N))\n",
    "model.add(Activation(\"relu\"))\n",
    "model.add(Dense(H))\n",
    "model.add(Activation(\"relu\"))\n",
    "model.add(Dense(K))\n",
    "model.add(Activation(\"softmax\"))\n",
    "model.compile(optimizer=\"adadelta\", loss='categorical_crossentropy',\n",
    "              metrics=['accuracy'])\n",
    "model.fit(X_train, Y_train, nb_epoch=15, batch_size=32)"
   ]
  },
  {
   "cell_type": "code",
   "execution_count": 19,
   "metadata": {
    "collapsed": false
   },
   "outputs": [
    {
     "name": "stdout",
     "output_type": "stream",
     "text": [
      "Epoch 1/15\n",
      "1527/1527 [==============================] - 0s - loss: 1.3890 - acc: 0.6320     \n",
      "Epoch 2/15\n",
      "1527/1527 [==============================] - 0s - loss: 0.4005 - acc: 0.9044     \n",
      "Epoch 3/15\n",
      "1527/1527 [==============================] - 0s - loss: 0.1830 - acc: 0.9587     \n",
      "Epoch 4/15\n",
      "1527/1527 [==============================] - 0s - loss: 0.1094 - acc: 0.9751     \n",
      "Epoch 5/15\n",
      "1527/1527 [==============================] - 0s - loss: 0.0703 - acc: 0.9895     \n",
      "Epoch 6/15\n",
      "1527/1527 [==============================] - 0s - loss: 0.0502 - acc: 0.9941     \n",
      "Epoch 7/15\n",
      "1527/1527 [==============================] - 0s - loss: 0.0365 - acc: 0.9974     \n",
      "Epoch 8/15\n",
      "1527/1527 [==============================] - 0s - loss: 0.0269 - acc: 0.9987     \n",
      "Epoch 9/15\n",
      "1527/1527 [==============================] - 0s - loss: 0.0201 - acc: 0.9987     \n",
      "Epoch 10/15\n",
      "1527/1527 [==============================] - 0s - loss: 0.0158 - acc: 1.0000     \n",
      "Epoch 11/15\n",
      "1527/1527 [==============================] - 0s - loss: 0.0128 - acc: 1.0000     \n",
      "Epoch 12/15\n",
      "1527/1527 [==============================] - 0s - loss: 0.0099 - acc: 1.0000     \n",
      "Epoch 13/15\n",
      "1527/1527 [==============================] - 0s - loss: 0.0083 - acc: 1.0000     \n",
      "Epoch 14/15\n",
      "1527/1527 [==============================] - 0s - loss: 0.0069 - acc: 1.0000     \n",
      "Epoch 15/15\n",
      "1527/1527 [==============================] - 0s - loss: 0.0058 - acc: 1.0000     \n"
     ]
    },
    {
     "data": {
      "text/plain": [
       "<keras.callbacks.History at 0x11ec2efd0>"
      ]
     },
     "execution_count": 19,
     "metadata": {},
     "output_type": "execute_result"
    }
   ],
   "source": [
    "# %load solutions/keras_adam_and_adadelta.py\n",
    "model = Sequential()\n",
    "model.add(Dense(H, input_dim=N))\n",
    "model.add(Activation(\"relu\"))\n",
    "model.add(Dense(H))\n",
    "model.add(Activation(\"relu\"))\n",
    "model.add(Dense(K))\n",
    "model.add(Activation(\"softmax\"))\n",
    "model.compile(optimizer=\"adam\", loss='categorical_crossentropy',\n",
    "              metrics=['accuracy'])\n",
    "\n",
    "model.fit(X_train, Y_train, nb_epoch=15, batch_size=32)\n",
    "\n",
    "# Analysis:\n",
    "#\n",
    "# Adam with its default global learning rate of 0.001 tends to work\n",
    "# in many settings often converge as fast or faster than SGD\n",
    "# with a well tuned learning rate.\n",
    "#\n",
    "# Adadelta has no learning rate setting at all\n",
    "#\n",
    "# References:\n",
    "#\n",
    "# Adadelta: https://arxiv.org/abs/1212.5701\n",
    "# Adam:     https://arxiv.org/abs/1412.6980"
   ]
  },
  {
   "cell_type": "markdown",
   "metadata": {},
   "source": [
    "### c) Exercises: forward pass and generalization\n",
    "\n",
    "- Compute predictions on test set using `model.predict_classes(...)`\n",
    "- Compute average accuracy of the model on the test set"
   ]
  },
  {
   "cell_type": "code",
   "execution_count": 20,
   "metadata": {
    "collapsed": false
   },
   "outputs": [
    {
     "name": "stdout",
     "output_type": "stream",
     "text": [
      "Epoch 1/15\n",
      "1527/1527 [==============================] - 0s - loss: 0.3905 - acc: 0.8841     \n",
      "Epoch 2/15\n",
      "1527/1527 [==============================] - 0s - loss: 0.0693 - acc: 0.9797     \n",
      "Epoch 3/15\n",
      "1527/1527 [==============================] - 0s - loss: 0.0336 - acc: 0.9928     \n",
      "Epoch 4/15\n",
      "1527/1527 [==============================] - 0s - loss: 0.0166 - acc: 0.9987     \n",
      "Epoch 5/15\n",
      "1527/1527 [==============================] - 0s - loss: 0.0098 - acc: 0.9993     \n",
      "Epoch 6/15\n",
      "1527/1527 [==============================] - 0s - loss: 0.0068 - acc: 1.0000     \n",
      "Epoch 7/15\n",
      "1527/1527 [==============================] - 0s - loss: 0.0059 - acc: 1.0000     \n",
      "Epoch 8/15\n",
      "1527/1527 [==============================] - 0s - loss: 0.0048 - acc: 1.0000     \n",
      "Epoch 9/15\n",
      "1527/1527 [==============================] - 0s - loss: 0.0042 - acc: 1.0000     \n",
      "Epoch 10/15\n",
      "1527/1527 [==============================] - 0s - loss: 0.0037 - acc: 1.0000     \n",
      "Epoch 11/15\n",
      "1527/1527 [==============================] - 0s - loss: 0.0033 - acc: 1.0000     \n",
      "Epoch 12/15\n",
      "1527/1527 [==============================] - 0s - loss: 0.0030 - acc: 1.0000     \n",
      "Epoch 13/15\n",
      "1527/1527 [==============================] - 0s - loss: 0.0027 - acc: 1.0000     \n",
      "Epoch 14/15\n",
      "1527/1527 [==============================] - 0s - loss: 0.0025 - acc: 1.0000     \n",
      "Epoch 15/15\n",
      "1527/1527 [==============================] - 0s - loss: 0.0023 - acc: 1.0000     \n"
     ]
    },
    {
     "data": {
      "text/plain": [
       "<keras.callbacks.History at 0x11edb6cf8>"
      ]
     },
     "execution_count": 20,
     "metadata": {},
     "output_type": "execute_result"
    }
   ],
   "source": [
    "# Nesterov momentum\n",
    "model = basic_model()\n",
    "model.compile(optimizer=optimizers.SGD(lr=.1, momentum=.9, nesterov=True),\n",
    "              loss='categorical_crossentropy', metrics=['accuracy'])\n",
    "model.fit(X_train, Y_train, nb_epoch=15, batch_size=32)"
   ]
  },
  {
   "cell_type": "code",
   "execution_count": 21,
   "metadata": {
    "collapsed": false
   },
   "outputs": [],
   "source": [
    "Y_pred = model.predict_classes(X_test, verbose=0)"
   ]
  },
  {
   "cell_type": "code",
   "execution_count": 22,
   "metadata": {
    "collapsed": false
   },
   "outputs": [
    {
     "data": {
      "text/plain": [
       "array([2, 4, 7, 9, 1, 1, 5, 6, 2, 5, 0, 8, 0, 5, 4, 8, 7, 0, 3, 6, 8, 1, 9,\n",
       "       8, 0, 9, 8, 4, 2, 7, 5, 4, 2, 8, 6, 9, 6, 1, 8, 6, 5, 7, 8, 1, 6, 5,\n",
       "       0, 1, 9, 4, 8, 5, 3, 9, 3, 4, 4, 6, 7, 5, 4, 0, 3, 8, 1, 2, 6, 8, 6,\n",
       "       8, 1, 7, 4, 7, 4, 1, 7, 0, 8, 8, 5, 2, 0, 3, 7, 4, 2, 7, 6, 0, 6, 0,\n",
       "       8, 3, 6, 7, 3, 0, 7, 4, 8, 5, 8, 1, 4, 1, 2, 9, 1, 4, 8, 9, 9, 0, 9,\n",
       "       5, 6, 8, 2, 1, 4, 3, 3, 8, 7, 0, 4, 2, 1, 1, 5, 2, 5, 6, 9, 1, 2, 7,\n",
       "       6, 0, 9, 2, 1, 6, 8, 2, 1, 4, 2, 4, 1, 5, 9, 3, 3, 4, 8, 2, 2, 5, 6,\n",
       "       0, 7, 9, 6, 8, 6, 1, 1, 3, 9, 2, 0, 9, 0, 2, 2, 8, 0, 7, 6, 0, 8, 5,\n",
       "       3, 9, 5, 7, 9, 9, 8, 0, 7, 1, 8, 4, 7, 7, 4, 0, 8, 1, 4, 0, 8, 8, 6,\n",
       "       5, 0, 1, 6, 2, 0, 4, 7, 5, 3, 7, 3, 4, 5, 9, 9, 7, 3, 4, 5, 8, 1, 1,\n",
       "       9, 5, 5, 1, 4, 1, 2, 9, 2, 9, 5, 3, 6, 0, 8, 6, 7, 6, 7, 9, 2, 6, 8,\n",
       "       3, 2, 8, 5, 5, 4, 2, 2, 5, 0, 5, 2, 8, 8, 8, 9, 0])"
      ]
     },
     "execution_count": 22,
     "metadata": {},
     "output_type": "execute_result"
    }
   ],
   "source": [
    "Y_pred"
   ]
  },
  {
   "cell_type": "code",
   "execution_count": 23,
   "metadata": {
    "collapsed": false
   },
   "outputs": [
    {
     "name": "stdout",
     "output_type": "stream",
     "text": [
      "Accuracy: 0.97778\n"
     ]
    }
   ],
   "source": [
    "print(\"Accuracy: %0.5f\"%np.mean(Y_pred==y_test))"
   ]
  },
  {
   "cell_type": "code",
   "execution_count": 24,
   "metadata": {
    "collapsed": false
   },
   "outputs": [
    {
     "name": "stdout",
     "output_type": "stream",
     "text": [
      "test acc: 0.9778\n"
     ]
    },
    {
     "data": {
      "image/png": "[encoded data removed]",
      "text/plain": [
       "<matplotlib.figure.Figure at 0x11f7da4e0>"
      ]
     },
     "metadata": {},
     "output_type": "display_data"
    }
   ],
   "source": [
    "# %load solutions/keras_accuracy_on_test_set.py\n",
    "y_predicted = model.predict_classes(X_test, verbose=0)\n",
    "\n",
    "# Let's display the first inputs image, the predicted labels and the true labels\n",
    "plt.figure(figsize=(12, 9))\n",
    "for i in range(15):\n",
    "    plt.subplot(3, 5, i + 1)\n",
    "    plt.imshow(scaler.inverse_transform(X_test[i]).reshape(8, 8),\n",
    "               cmap=plt.cm.gray_r, interpolation='nearest')\n",
    "    plt.title(\"predicted label: %d\\n true label: %d\"\n",
    "              % (y_predicted[i], y_test[i]))\n",
    "    \n",
    "print(\"test acc: %0.4f\" % np.mean(y_predicted == y_test))"
   ]
  },
  {
   "cell_type": "markdown",
   "metadata": {},
   "source": [
    "- Compute the conditional probabilities of sample number 42 of the test set with `model.predict_proba(...)`\n",
    "- Derive the loss (negative log likelihood of that sample) using numpy operations\n",
    "- Compute the average negative log likelihood of the test set.\n",
    "- Compare this value to the training loss reported by keras: is the model overfitting or underfitting?\n",
    "\n",
    "Note: you might need to retrain the model with a larger number of epochs (e.g. 50) to ensure that it has fully converged."
   ]
  },
  {
   "cell_type": "code",
   "execution_count": 25,
   "metadata": {
    "collapsed": false
   },
   "outputs": [],
   "source": [
    "# id idx\n",
    "idx = 42"
   ]
  },
  {
   "cell_type": "code",
   "execution_count": 26,
   "metadata": {
    "collapsed": false
   },
   "outputs": [],
   "source": [
    "# Conditional proba for test sample \n",
    "y_pred_proba = model.predict_proba(X_test, verbose=0)"
   ]
  },
  {
   "cell_type": "code",
   "execution_count": 27,
   "metadata": {
    "collapsed": false
   },
   "outputs": [
    {
     "name": "stdout",
     "output_type": "stream",
     "text": [
      "Conditional probabilities of sample nb 42\n"
     ]
    },
    {
     "data": {
      "text/plain": [
       "array([  0.00000000e+00,   0.00000000e+00,   0.00000000e+00,\n",
       "         0.00000000e+00,   0.00000000e+00,   0.00000000e+00,\n",
       "         0.00000000e+00,   0.00000000e+00,   9.99989986e-01,\n",
       "         9.99999975e-06], dtype=float32)"
      ]
     },
     "execution_count": 27,
     "metadata": {},
     "output_type": "execute_result"
    }
   ],
   "source": [
    "print('Conditional probabilities of sample nb %d'%idx)\n",
    "np.around(y_pred_proba[42], 5)"
   ]
  },
  {
   "cell_type": "code",
   "execution_count": 28,
   "metadata": {
    "collapsed": false
   },
   "outputs": [
    {
     "name": "stdout",
     "output_type": "stream",
     "text": [
      "Negative log-likelihood of sample nb 42\n"
     ]
    },
    {
     "data": {
      "text/plain": [
       "0.99998856"
      ]
     },
     "execution_count": 28,
     "metadata": {},
     "output_type": "execute_result"
    }
   ],
   "source": [
    "print('Negative log-likelihood of sample nb %d'%idx)\n",
    "y_pred_proba[idx, y_test[idx]] # relevant with above"
   ]
  },
  {
   "cell_type": "code",
   "execution_count": 29,
   "metadata": {
    "collapsed": false
   },
   "outputs": [
    {
     "name": "stdout",
     "output_type": "stream",
     "text": [
      "Negative log-likelihood on test set: 0.0780\n"
     ]
    }
   ],
   "source": [
    "Y_test = to_categorical(y_test)\n",
    "ll = np.sum(np.log(y_pred_proba) * Y_test, axis=1)\n",
    "print('Negative log-likelihood on test set: %0.4f'%-np.mean(ll))"
   ]
  },
  {
   "cell_type": "code",
   "execution_count": 30,
   "metadata": {
    "collapsed": false
   },
   "outputs": [
    {
     "name": "stdout",
     "output_type": "stream",
     "text": [
      "Predicted probability distribution for sample #42:\n",
      "0: 0.00000\n",
      "1: 0.00000\n",
      "2: 0.00000\n",
      "3: 0.00000\n",
      "4: 0.00000\n",
      "5: 0.00000\n",
      "6: 0.00000\n",
      "7: 0.00000\n",
      "8: 0.99999\n",
      "9: 0.00001\n",
      "\n",
      "Likelihood of true class for sample #42:\n",
      "0.999989\n",
      "\n",
      "Average negative loglikelihood of the test set:\n",
      "0.0779925171688\n"
     ]
    },
    {
     "data": {
      "image/png": "[encoded data removed]",
      "text/plain": [
       "<matplotlib.figure.Figure at 0x1207ec518>"
      ]
     },
     "metadata": {},
     "output_type": "display_data"
    }
   ],
   "source": [
    "# %load solutions/keras_loss_on_test_set.py\n",
    "sample_idx = 42\n",
    "plt.imshow(scaler.inverse_transform(X_test[sample_idx]).reshape(8, 8),\n",
    "           cmap=plt.cm.gray_r, interpolation='nearest')\n",
    "plt.title(\"true label: %d\" % y_test[sample_idx])\n",
    "\n",
    "# Compute all probabilities for all samples in the test set at\n",
    "# once:\n",
    "probabilities = model.predict_proba(X_test, verbose=0)\n",
    "\n",
    "print(\"Predicted probability distribution for sample #42:\")\n",
    "for class_idx, prob in enumerate(probabilities[sample_idx]):\n",
    "    print(\"%d: %0.5f\" % (class_idx, prob))\n",
    "print()\n",
    "    \n",
    "print(\"Likelihood of true class for sample #42:\")\n",
    "print(probabilities[sample_idx, y_test[sample_idx]])\n",
    "print()\n",
    "\n",
    "print(\"Average negative loglikelihood of the test set:\")\n",
    "Y_test = to_categorical(y_test)\n",
    "loglikelihoods = np.sum(np.log(probabilities) * Y_test, axis=1)\n",
    "print(-np.mean(loglikelihoods))\n",
    "\n",
    "# Analysis\n",
    "#\n",
    "# Depending on the random init, the 2 hidden layers net trained with\n",
    "# adam seem to converge to a training loss very close to zero when\n",
    "# given enough epochs (the accuracy on the training set is 100%).\n",
    "# This model is therefore not underfitting: it has enough capacity\n",
    "# to perfectly memorise the full training set.\n",
    "#\n",
    "# On the test set the negative log likelihood is also close to zero\n",
    "# but never as much as on the training set (~= 0.07) even after\n",
    "# increasing the maximum number of epochs. The model is therefore\n",
    "# overfitting as little."
   ]
  },
  {
   "cell_type": "markdown",
   "metadata": {},
   "source": [
    "## d) Home assignment: impact of initialization\n",
    "\n",
    "Let us now study the impact of a bad initialization when training\n",
    "a deep feed forward network.\n",
    "\n",
    "By default Keras dense layers use the \"Glorot Uniform\" initialization\n",
    "strategy to initialize the weight matrices:\n",
    "\n",
    "- each weight coefficient is randomly sampled from [-scale, scale]\n",
    "- scale is proportional to $\\frac{1}{\\sqrt{n_{in} + n_{out}}}$\n",
    "\n",
    "This strategy is known to work well to initialize deep neural networks\n",
    "with \"tanh\" or \"relu\" activation functions and then trained with\n",
    "standard SGD.\n",
    "\n",
    "To assess the impact of initialization let us plug an alternative init\n",
    "scheme into a 2 hidden layers networks with \"tanh\" activations.\n",
    "For the sake of the example let's use normal distributed weights\n",
    "with a manually adjustable scale (standard deviation) and see the\n",
    "impact the scale value:"
   ]
  },
  {
   "cell_type": "code",
   "execution_count": 31,
   "metadata": {
    "collapsed": false
   },
   "outputs": [
    {
     "name": "stdout",
     "output_type": "stream",
     "text": [
      "Epoch 1/10\n",
      "1527/1527 [==============================] - 0s - loss: 2.3033     \n",
      "Epoch 2/10\n",
      "1527/1527 [==============================] - 0s - loss: 2.3028     \n",
      "Epoch 3/10\n",
      "1527/1527 [==============================] - 0s - loss: 2.3021     \n",
      "Epoch 4/10\n",
      "1527/1527 [==============================] - 0s - loss: 2.2996     \n",
      "Epoch 5/10\n",
      "1527/1527 [==============================] - 0s - loss: 2.2817     \n",
      "Epoch 6/10\n",
      "1527/1527 [==============================] - 0s - loss: 2.0981     \n",
      "Epoch 7/10\n",
      "1527/1527 [==============================] - 0s - loss: 1.7846     \n",
      "Epoch 8/10\n",
      "1527/1527 [==============================] - 0s - loss: 1.4430     \n",
      "Epoch 9/10\n",
      "1527/1527 [==============================] - 0s - loss: 1.1352     \n",
      "Epoch 10/10\n",
      "1527/1527 [==============================] - 0s - loss: 0.9025     \n"
     ]
    }
   ],
   "source": [
    "# IMPORTANT QCM\n",
    "from keras import initializations\n",
    "\n",
    "def normal_init(shape, name=None):\n",
    "    return initializations.normal(shape, scale=0.01, name=name)\n",
    "\n",
    "\n",
    "model = Sequential()\n",
    "model.add(Dense(H, input_dim=N, init=normal_init))\n",
    "model.add(Activation(\"tanh\"))\n",
    "model.add(Dense(K, init=normal_init))\n",
    "model.add(Activation(\"tanh\"))\n",
    "model.add(Dense(K, init=normal_init))\n",
    "model.add(Activation(\"softmax\"))\n",
    "\n",
    "model.compile(optimizer=optimizers.SGD(lr=0.1),\n",
    "              loss='categorical_crossentropy')\n",
    "\n",
    "history = model.fit(X_train, Y_train,\n",
    "                    nb_epoch=10, batch_size=32)"
   ]
  },
  {
   "cell_type": "markdown",
   "metadata": {},
   "source": [
    "#### Questions:\n",
    "\n",
    "- Try the following initialization schemes and see whether\n",
    "  the SGD algorithm can successfully train the network or\n",
    "  not:\n",
    "  \n",
    "  - a very small e.g. `scale=1e-3`\n",
    "  - a larger scale e.g. `scale=1` or `10`\n",
    "  - initialize all weights to 0 (constant initialization)\n",
    "  \n",
    "- What do you observe? Can you find an explanation for those\n",
    "  outcomes?\n",
    "\n",
    "- Are better solvers such as SGD with momentum or Adam able\n",
    "  to deal better with such bad initializations?"
   ]
  },
  {
   "cell_type": "code",
   "execution_count": 32,
   "metadata": {
    "collapsed": false
   },
   "outputs": [
    {
     "name": "stdout",
     "output_type": "stream",
     "text": [
      "Epoch 1/10\n",
      "1527/1527 [==============================] - 0s - loss: 2.3035     \n",
      "Epoch 2/10\n",
      "1527/1527 [==============================] - 0s - loss: 2.3032     \n",
      "Epoch 3/10\n",
      "1527/1527 [==============================] - 0s - loss: 2.3027     \n",
      "Epoch 4/10\n",
      "1527/1527 [==============================] - 0s - loss: 2.3024     \n",
      "Epoch 5/10\n",
      "1527/1527 [==============================] - 0s - loss: 2.3013     \n",
      "Epoch 6/10\n",
      "1527/1527 [==============================] - 0s - loss: 2.2982     \n",
      "Epoch 7/10\n",
      "1527/1527 [==============================] - 0s - loss: 2.2718     \n",
      "Epoch 8/10\n",
      "1527/1527 [==============================] - 0s - loss: 2.0451     \n",
      "Epoch 9/10\n",
      "1527/1527 [==============================] - 0s - loss: 1.6622     \n",
      "Epoch 10/10\n",
      "1527/1527 [==============================] - 0s - loss: 1.2945     \n"
     ]
    }
   ],
   "source": [
    "def small_init(shape, name=None):\n",
    "    return initializations.normal(shape, scale=0.001, name=name)\n",
    "\n",
    "\n",
    "model = Sequential()\n",
    "model.add(Dense(H, input_dim=N, init=small_init))\n",
    "model.add(Activation(\"tanh\"))\n",
    "model.add(Dense(K, init=normal_init))\n",
    "model.add(Activation(\"tanh\"))\n",
    "model.add(Dense(K, init=normal_init))\n",
    "model.add(Activation(\"softmax\"))\n",
    "\n",
    "model.compile(optimizer=optimizers.SGD(lr=0.1),\n",
    "              loss='categorical_crossentropy')\n",
    "\n",
    "history = model.fit(X_train, Y_train,\n",
    "                    nb_epoch=10, batch_size=32)"
   ]
  },
  {
   "cell_type": "code",
   "execution_count": 33,
   "metadata": {
    "collapsed": false
   },
   "outputs": [
    {
     "name": "stdout",
     "output_type": "stream",
     "text": [
      "Epoch 1/10\n",
      "1527/1527 [==============================] - 0s - loss: 2.3036     \n",
      "Epoch 2/10\n",
      "1527/1527 [==============================] - 0s - loss: 2.3027     \n",
      "Epoch 3/10\n",
      "1527/1527 [==============================] - 0s - loss: 2.3019     \n",
      "Epoch 4/10\n",
      "1527/1527 [==============================] - 0s - loss: 2.2978     \n",
      "Epoch 5/10\n",
      "1527/1527 [==============================] - 0s - loss: 2.2347     \n",
      "Epoch 6/10\n",
      "1527/1527 [==============================] - 0s - loss: 1.9194     \n",
      "Epoch 7/10\n",
      "1527/1527 [==============================] - 0s - loss: 1.7818     \n",
      "Epoch 8/10\n",
      "1527/1527 [==============================] - 0s - loss: 1.7215     \n",
      "Epoch 9/10\n",
      "1527/1527 [==============================] - 0s - loss: 1.5887     \n",
      "Epoch 10/10\n",
      "1527/1527 [==============================] - 0s - loss: 1.2633     \n"
     ]
    }
   ],
   "source": [
    "def large_init(shape, name=None):\n",
    "    return initializations.normal(shape, scale=1, name=name)\n",
    "\n",
    "\n",
    "model = Sequential()\n",
    "model.add(Dense(H, input_dim=N, init=normal_init))\n",
    "model.add(Activation(\"tanh\"))\n",
    "model.add(Dense(K, init=normal_init))\n",
    "model.add(Activation(\"tanh\"))\n",
    "model.add(Dense(K, init=normal_init))\n",
    "model.add(Activation(\"softmax\"))\n",
    "\n",
    "model.compile(optimizer=optimizers.SGD(lr=0.1),\n",
    "              loss='categorical_crossentropy')\n",
    "\n",
    "history = model.fit(X_train, Y_train,\n",
    "                    nb_epoch=10, batch_size=32)"
   ]
  },
  {
   "cell_type": "code",
   "execution_count": 34,
   "metadata": {
    "collapsed": false
   },
   "outputs": [
    {
     "name": "stdout",
     "output_type": "stream",
     "text": [
      "Epoch 1/10\n",
      "1527/1527 [==============================] - 0s - loss: 2.2217     \n",
      "Epoch 2/10\n",
      "1527/1527 [==============================] - 0s - loss: 1.6363     \n",
      "Epoch 3/10\n",
      "1527/1527 [==============================] - 0s - loss: 1.1567     \n",
      "Epoch 4/10\n",
      "1527/1527 [==============================] - 0s - loss: 0.8351     \n",
      "Epoch 5/10\n",
      "1527/1527 [==============================] - 0s - loss: 0.6251     \n",
      "Epoch 6/10\n",
      "1527/1527 [==============================] - 0s - loss: 0.4880     \n",
      "Epoch 7/10\n",
      "1527/1527 [==============================] - 0s - loss: 0.4000     \n",
      "Epoch 8/10\n",
      "1527/1527 [==============================] - 0s - loss: 0.3415     \n",
      "Epoch 9/10\n",
      "1527/1527 [==============================] - 0s - loss: 0.2994     \n",
      "Epoch 10/10\n",
      "1527/1527 [==============================] - 0s - loss: 0.2665     \n"
     ]
    }
   ],
   "source": [
    "def very_large_init(shape, name=None):\n",
    "    return initializations.normal(shape, scale=10, name=name)\n",
    "\n",
    "\n",
    "model = Sequential()\n",
    "model.add(Dense(H, input_dim=N, init=very_large_init))\n",
    "model.add(Activation(\"tanh\"))\n",
    "model.add(Dense(K, init=normal_init))\n",
    "model.add(Activation(\"tanh\"))\n",
    "model.add(Dense(K, init=normal_init))\n",
    "model.add(Activation(\"softmax\"))\n",
    "\n",
    "model.compile(optimizer=optimizers.SGD(lr=0.1),\n",
    "              loss='categorical_crossentropy')\n",
    "\n",
    "history = model.fit(X_train, Y_train,\n",
    "                    nb_epoch=10, batch_size=32)"
   ]
  },
  {
   "cell_type": "code",
   "execution_count": 35,
   "metadata": {
    "collapsed": false
   },
   "outputs": [
    {
     "name": "stdout",
     "output_type": "stream",
     "text": [
      "Epoch 1/10\n",
      "1527/1527 [==============================] - 0s - loss: 2.3033     \n",
      "Epoch 2/10\n",
      "1527/1527 [==============================] - 0s - loss: 2.3030     \n",
      "Epoch 3/10\n",
      "1527/1527 [==============================] - 0s - loss: 2.3031     \n",
      "Epoch 4/10\n",
      "1527/1527 [==============================] - 0s - loss: 2.3027     \n",
      "Epoch 5/10\n",
      "1527/1527 [==============================] - 0s - loss: 2.3022     \n",
      "Epoch 6/10\n",
      "1527/1527 [==============================] - 0s - loss: 2.3013     \n",
      "Epoch 7/10\n",
      "1527/1527 [==============================] - 0s - loss: 2.2971     \n",
      "Epoch 8/10\n",
      "1527/1527 [==============================] - 0s - loss: 2.2555     \n",
      "Epoch 9/10\n",
      "1527/1527 [==============================] - 0s - loss: 1.9549     \n",
      "Epoch 10/10\n",
      "1527/1527 [==============================] - 0s - loss: 1.5427     \n"
     ]
    }
   ],
   "source": [
    "model = Sequential()\n",
    "model.add(Dense(H, input_dim=N, init='zero'))\n",
    "model.add(Activation(\"tanh\"))\n",
    "model.add(Dense(K, init=normal_init))\n",
    "model.add(Activation(\"tanh\"))\n",
    "model.add(Dense(K, init=normal_init))\n",
    "model.add(Activation(\"softmax\"))\n",
    "\n",
    "model.compile(optimizer=optimizers.SGD(lr=0.1),\n",
    "              loss='categorical_crossentropy')\n",
    "\n",
    "history = model.fit(X_train, Y_train,\n",
    "                    nb_epoch=10, batch_size=32)"
   ]
  },
  {
   "cell_type": "markdown",
   "metadata": {},
   "source": [
    "- Very small or very large init: loss is very high and struggles to decrease !\n",
    "    - Small init: hard to escape low gradients\n",
    "    - Large init: softmax values are either very close to 1 or to 0 => too much confidence\n",
    "- Initialization to 0: activations always set to 0 => learnign looks impossible"
   ]
  },
  {
   "cell_type": "code",
   "execution_count": 36,
   "metadata": {
    "collapsed": false
   },
   "outputs": [
    {
     "data": {
      "image/png": "[encoded data removed]",
      "text/plain": [
       "<matplotlib.figure.Figure at 0x11e592588>"
      ]
     },
     "metadata": {},
     "output_type": "display_data"
    },
    {
     "data": {
      "image/png": "[encoded data removed]",
      "text/plain": [
       "<matplotlib.figure.Figure at 0x121c329e8>"
      ]
     },
     "metadata": {},
     "output_type": "display_data"
    }
   ],
   "source": [
    "# %load solutions/keras_initializations.py\n",
    "def large_scale_init(shape, name=None):\n",
    "    return initializations.normal(shape, scale=1, name=name)\n",
    "\n",
    "\n",
    "def small_scale_init(shape, name=None):\n",
    "    return initializations.normal(shape, scale=1e-3, name=name)\n",
    "\n",
    "\n",
    "optimizer_list = [\n",
    "    ('SGD', optimizers.SGD(lr=0.1)),\n",
    "    ('Adam', optimizers.Adam()),\n",
    "#     ('SGD + Nesterov momentum', optimizers.SGD(\n",
    "#             lr=0.1, momentum=0.9,nesterov=True)),\n",
    "]\n",
    "\n",
    "init_list = [\n",
    "    ('glorot uniform init', 'glorot_uniform', '-'),\n",
    "    ('small init scale', small_scale_init, '-'),\n",
    "    ('large init scale', large_scale_init, '-'),\n",
    "    ('zero init', 'zero', '--'),\n",
    "]\n",
    "\n",
    "\n",
    "for optimizer_name, optimizer in optimizer_list:\n",
    "    plt.figure(figsize=(12, 6))\n",
    "    for init_name, init, linestyle in init_list:\n",
    "        model = Sequential()\n",
    "        model.add(Dense(H, input_dim=N, init=init))\n",
    "        model.add(Activation(\"tanh\"))\n",
    "        model.add(Dense(K, init=init))\n",
    "        model.add(Activation(\"tanh\"))\n",
    "        model.add(Dense(K, init=init))\n",
    "        model.add(Activation(\"softmax\"))\n",
    "        \n",
    "        model.compile(optimizer=optimizer,\n",
    "                      loss='categorical_crossentropy')\n",
    "\n",
    "        history = model.fit(X_train, Y_train,\n",
    "                            nb_epoch=10, batch_size=32, verbose=0)\n",
    "        plt.plot(history.history['loss'], linestyle=linestyle,\n",
    "                 label=init_name)\n",
    "\n",
    "    plt.xlabel('# epochs')\n",
    "    plt.ylabel('Training loss')\n",
    "    plt.ylim(0, 6)\n",
    "    plt.legend(loc='best');\n",
    "    plt.title('Impact of initialization on convergence with %s'\n",
    "              % optimizer_name)"
   ]
  },
  {
   "cell_type": "code",
   "execution_count": 37,
   "metadata": {
    "collapsed": false
   },
   "outputs": [],
   "source": [
    "# %load solutions/keras_initializations_analysis.py\n",
    "# Analysis\n",
    "#\n",
    "# If the network is initialized to zero weights, the activations of the hidden\n",
    "# layers are always set to zero, whatever the value of the inputs. The gradient\n",
    "# is always zero for all training samples and no learning can happen with any\n",
    "# gradient-based optimizer (SGD, Adam...): the loss stays constant.\n",
    "#\n",
    "# A network with null weights has null gradients but this not a local minimum\n",
    "# (nor a local maximum): it is a saddle point at the center of a neighborhood\n",
    "# with very low gradients. \n",
    "#\n",
    "# Therefore when the scale of a random initializations of the weights is too\n",
    "# small, SGD has a hard time evading that area of low gradients. Adding\n",
    "# momentum can help but especially for deep networks it can take many epochs to\n",
    "# evade the area.\n",
    "#\n",
    "# Initializing the weights with large random values will make the output\n",
    "# distribution (softmax) very peaky: the network is very \"confident\" of its\n",
    "# predictions even if they are completely random. This leads to a very high\n",
    "# initial loss value.\n",
    "#\n",
    "# The softmax function does not saturate (bad classification always have a\n",
    "# non-zero gradient). However the intermediate tanh layers can saturate,\n",
    "# therefore squashing the gradients and making the network train much slower. \n",
    "#\n",
    "# The Glorot uniform init uses a scale that depends on the dimensions of the\n",
    "# weigh matrix so has to preserve the average norm of activations and flowing\n",
    "# gradients so as to make learning possible. Keras provides alternatives that\n",
    "# can be better in some cases. Please refer to the references in the Keras\n",
    "# documentation to learn more on the theoretical justifications behind those\n",
    "# schemes.\n",
    "#\n",
    "# Adam tends to be more robust when it comes to bad initialization thanks to\n",
    "# its per-weight learning rate adjustments but still benefits from a good\n",
    "# initialization.\n",
    "#\n",
    "# More on this in a later class on optimization issues. For now  just remember\n",
    "# that if you network fails to learn at all (the loss stays at its initial\n",
    "# value):\n",
    "#\n",
    "# - ensure that the weights are properly initialized,\n",
    "# - inspect the per-layer gradient norms to help identify the bad layer,\n",
    "# - use Adam instead of SGD as your default go to initializer.\n"
   ]
  },
  {
   "cell_type": "markdown",
   "metadata": {},
   "source": [
    "# II) Numpy Implementation\n",
    "\n",
    "## a) Logistic Regression\n",
    "\n",
    "In this section we will implement a logistic regression model trainable with SGD using numpy. Here are the objectives:\n",
    "\n",
    "1/ Implement a simple forward model with no hidden layer (equivalent to a logistic regression):\n",
    "note: shape, transpose of W with regards to course\n",
    "$y = softmax(\\mathbf{W} \\dot x + b)$\n",
    "\n",
    "2/ build a predict function which returns the most probable class given an input $x$\n",
    "\n",
    "3/ build an accuracy function for a batch of inputs $X$ and the corresponding expected outputs $y_{true}$\n",
    "\n",
    "4/ build a grad function which computes $\\frac{d}{dW} -\\log(softmax(W \\dot x + b))$ for an $x$ and its corresponding expected output $y_{true}$ ; check that the gradients are well defined\n",
    "\n",
    "5/ build a train function which uses the grad function output to update $\\mathbf{W}$ and $b$\n",
    "\n",
    "\n",
    "First let's define a helper function to compute the one hot encoding of an integer array for a fixed number of classes (similar to keras' `to_categorical`):"
   ]
  },
  {
   "cell_type": "code",
   "execution_count": 38,
   "metadata": {
    "collapsed": true
   },
   "outputs": [],
   "source": [
    "def one_hot(n_classes, y):\n",
    "    return np.eye(n_classes)[y]"
   ]
  },
  {
   "cell_type": "code",
   "execution_count": 39,
   "metadata": {
    "collapsed": false
   },
   "outputs": [
    {
     "data": {
      "text/plain": [
       "array([ 0.,  0.,  0.,  1.,  0.,  0.,  0.,  0.,  0.,  0.])"
      ]
     },
     "execution_count": 39,
     "metadata": {},
     "output_type": "execute_result"
    }
   ],
   "source": [
    "one_hot(10, 3)"
   ]
  },
  {
   "cell_type": "code",
   "execution_count": 40,
   "metadata": {
    "collapsed": false
   },
   "outputs": [
    {
     "data": {
      "text/plain": [
       "array([[ 1.,  0.,  0.,  0.,  0.,  0.,  0.,  0.,  0.,  0.],\n",
       "       [ 0.,  0.,  0.,  0.,  1.,  0.,  0.,  0.,  0.,  0.],\n",
       "       [ 0.,  0.,  0.,  0.,  0.,  0.,  0.,  0.,  0.,  1.],\n",
       "       [ 0.,  1.,  0.,  0.,  0.,  0.,  0.,  0.,  0.,  0.]])"
      ]
     },
     "execution_count": 40,
     "metadata": {},
     "output_type": "execute_result"
    }
   ],
   "source": [
    "one_hot(10, [0, 4, 9, 1])"
   ]
  },
  {
   "cell_type": "markdown",
   "metadata": {},
   "source": [
    "Now let's implement the softmax vector function:\n",
    "\n",
    "$$\n",
    "softmax(\\mathbf{x}) = \\frac{1}{\\sum_{i=1}^{n}{e^{x_i}}}\n",
    "\\cdot\n",
    "\\begin{bmatrix}\n",
    "  e^{x_1}\\\\\\\\\n",
    "  e^{x_2}\\\\\\\\\n",
    "  \\vdots\\\\\\\\\n",
    "  e^{x_n}\n",
    "\\end{bmatrix}\n",
    "$$"
   ]
  },
  {
   "cell_type": "code",
   "execution_count": 41,
   "metadata": {
    "collapsed": false
   },
   "outputs": [],
   "source": [
    "def softmax(X):\n",
    "    exp = np.exp(X)\n",
    "    return exp / np.sum(exp, axis=0)"
   ]
  },
  {
   "cell_type": "markdown",
   "metadata": {},
   "source": [
    "Make sure that this works one vector at a time (and check that the components sum to one):"
   ]
  },
  {
   "cell_type": "code",
   "execution_count": 42,
   "metadata": {
    "collapsed": false
   },
   "outputs": [
    {
     "name": "stdout",
     "output_type": "stream",
     "text": [
      "[  9.99662391e-01   3.35349373e-04   2.25956630e-06]\n"
     ]
    }
   ],
   "source": [
    "print(softmax([10, 2, -3]))"
   ]
  },
  {
   "cell_type": "markdown",
   "metadata": {},
   "source": [
    "Note that a naive implementation of softmax might not be able process a batch of activations in a single call:"
   ]
  },
  {
   "cell_type": "code",
   "execution_count": 43,
   "metadata": {
    "collapsed": false
   },
   "outputs": [
    {
     "name": "stdout",
     "output_type": "stream",
     "text": [
      "[[  9.99983299e-01   4.74258732e-02   9.99999959e-01]\n",
      " [  1.67014218e-05   9.52574127e-01   4.13993755e-08]]\n"
     ]
    }
   ],
   "source": [
    "X = np.array([[10, 2, -3],\n",
    "              [-1, 5, -20]])\n",
    "print(softmax(X))"
   ]
  },
  {
   "cell_type": "markdown",
   "metadata": {},
   "source": [
    "Here is a way to implement softmax that works both for an individal vector of activations and for a batch of activation vectors at once:"
   ]
  },
  {
   "cell_type": "code",
   "execution_count": 44,
   "metadata": {
    "collapsed": false
   },
   "outputs": [
    {
     "name": "stdout",
     "output_type": "stream",
     "text": [
      "softmax of a single vector:\n",
      "[  9.99662391e-01   3.35349373e-04   2.25956630e-06]\n",
      "1.0\n"
     ]
    }
   ],
   "source": [
    "def softmax(X):\n",
    "    exp = np.exp(X)\n",
    "    return exp / np.sum(exp, axis=-1, keepdims=True)\n",
    "\n",
    "\n",
    "print(\"softmax of a single vector:\")\n",
    "print(softmax([10, 2, -3]))\n",
    "print(np.sum(softmax([10, 2, -3])))"
   ]
  },
  {
   "cell_type": "code",
   "execution_count": 45,
   "metadata": {
    "collapsed": false
   },
   "outputs": [
    {
     "name": "stdout",
     "output_type": "stream",
     "text": [
      "sotfmax of 2 vectors:\n",
      "[[  9.99662391e-01   3.35349373e-04   2.25956630e-06]\n",
      " [  2.47262316e-03   9.97527377e-01   1.38536042e-11]]\n",
      "[ 1.  1.]\n"
     ]
    }
   ],
   "source": [
    "print(\"sotfmax of 2 vectors:\")\n",
    "X = np.array([[10, 2, -3],\n",
    "              [-1, 5, -20]])\n",
    "print(softmax(X))\n",
    "print(np.sum(softmax(X), axis=1))"
   ]
  },
  {
   "cell_type": "markdown",
   "metadata": {},
   "source": [
    "Implement a function that given the true one-hot encoded class `Y_true` and and some predicted probabilities `Y_pred` returns the negative log likelihood."
   ]
  },
  {
   "cell_type": "code",
   "execution_count": 46,
   "metadata": {
    "collapsed": false
   },
   "outputs": [
    {
     "name": "stdout",
     "output_type": "stream",
     "text": [
      "0.0100503357525\n"
     ]
    }
   ],
   "source": [
    "def nll(Y_true, Y_pred):\n",
    "    Y_true, Y_pred = np.atleast_2d(Y_true), np.atleast_2d(Y_pred)\n",
    "    epsilon=1e-10 # Make sure 0 is excluded\n",
    "    ll = np.sum(np.log(Y_pred + epsilon) * Y_true)\n",
    "    return - np.mean(ll)\n",
    "\n",
    "\n",
    "# Make sure that it works for a simple sample at a time\n",
    "print(nll([1, 0, 0], [.99, 0.01, 0]))"
   ]
  },
  {
   "cell_type": "markdown",
   "metadata": {},
   "source": [
    "Check that the nll of a very confident yet bad prediction is a much higher positive number:"
   ]
  },
  {
   "cell_type": "code",
   "execution_count": 47,
   "metadata": {
    "collapsed": false
   },
   "outputs": [
    {
     "name": "stdout",
     "output_type": "stream",
     "text": [
      "4.60517017599\n"
     ]
    }
   ],
   "source": [
    "print(nll([1, 0, 0], [0.01, 0.01, .98]))"
   ]
  },
  {
   "cell_type": "markdown",
   "metadata": {},
   "source": [
    "Make sure that your implementation can compute the average negative log likelihood of a group of predictions: `Y_pred` and `Y_true` can therefore be past as 2D arrays:"
   ]
  },
  {
   "cell_type": "code",
   "execution_count": 48,
   "metadata": {
    "collapsed": true
   },
   "outputs": [],
   "source": [
    "def nll(Y_true, Y_pred):\n",
    "    Y_true, Y_pred = np.atleast_2d(Y_true), np.atleast_2d(Y_pred)\n",
    "    epsilon=1e-10\n",
    "    ll = np.sum(np.log(Y_pred + epsilon) * Y_true, axis=1)\n",
    "    return - np.mean(ll)"
   ]
  },
  {
   "cell_type": "code",
   "execution_count": 49,
   "metadata": {
    "collapsed": false
   },
   "outputs": [
    {
     "name": "stdout",
     "output_type": "stream",
     "text": [
      "0.00335011185083\n"
     ]
    }
   ],
   "source": [
    "# Check that the average NLL of the following 3 almost perfect\n",
    "# predictions is close to 0\n",
    "Y_true = np.array([[0, 1, 0],\n",
    "                   [1, 0, 0],\n",
    "                   [0, 0, 1]])\n",
    "\n",
    "Y_pred = np.array([[0,   1,    0],\n",
    "                   [.99, 0.01, 0],\n",
    "                   [0,   0,    1]])\n",
    "\n",
    "print(nll(Y_true, Y_pred))"
   ]
  },
  {
   "cell_type": "code",
   "execution_count": 50,
   "metadata": {
    "collapsed": false
   },
   "outputs": [
    {
     "name": "stdout",
     "output_type": "stream",
     "text": [
      "0.0100503257525\n",
      "4.60516918599\n",
      "0.0033501019175\n"
     ]
    }
   ],
   "source": [
    "# %load solutions/numpy_nll.py\n",
    "EPSILON = 1e-8\n",
    "\n",
    "\n",
    "def nll(Y_true, Y_pred):\n",
    "    Y_true, Y_pred = np.atleast_2d(Y_true), np.atleast_2d(Y_pred)\n",
    "    loglikelihoods = np.sum(np.log(EPSILON + Y_pred) * Y_true, axis=1)\n",
    "    return -np.mean(loglikelihoods)\n",
    "\n",
    "\n",
    "# Make sure that it works for a simple sample at a time\n",
    "print(nll([1, 0, 0], [.99, 0.01, 0]))\n",
    "\n",
    "# Check that the nll of a very confident yet bad prediction\n",
    "# is very high:\n",
    "print(nll([1, 0, 0], [0.01, 0.01, .98]))\n",
    "\n",
    "# Check that the average NLL of the following 3 almost perfect\n",
    "# predictions is close to 0\n",
    "Y_true = np.array([[0, 1, 0],\n",
    "                   [1, 0, 0],\n",
    "                   [0, 0, 1]])\n",
    "\n",
    "Y_pred = np.array([[0,   1,    0],\n",
    "                   [.99, 0.01, 0],\n",
    "                   [0,   0,    1]])\n",
    "print(nll(Y_true, Y_pred))"
   ]
  },
  {
   "cell_type": "markdown",
   "metadata": {},
   "source": [
    "Let us now study the following linear model trainable by SGD, **one sample at a time**."
   ]
  },
  {
   "cell_type": "code",
   "execution_count": 51,
   "metadata": {
    "collapsed": false
   },
   "outputs": [],
   "source": [
    "class LogisticRegression():\n",
    "\n",
    "    def __init__(self, input_size, output_size):\n",
    "        self.W = np.random.uniform(size=(input_size, output_size), high=0.1, low=-0.1)\n",
    "        self.b = np.random.uniform(size=(output_size), high=0.1, low=-0.1)\n",
    "        self.output_size = output_size\n",
    "        \n",
    "    def forward(self, X):\n",
    "        Z = np.dot(X, self.W) + self.b\n",
    "        return softmax(Z)\n",
    "    \n",
    "    def predict(self, X):\n",
    "        if len(X.shape) == 1:\n",
    "            return np.argmax(self.forward(X))\n",
    "        else:\n",
    "            return np.argmax(self.forward(X), axis=1)\n",
    "    \n",
    "    def grad_loss(self, x, y_true):\n",
    "        y_pred = self.forward(x)\n",
    "        dnll_output =  y_pred - one_hot(self.output_size, y_true)\n",
    "        grad_W = np.outer(x, dnll_output)\n",
    "        grad_b = dnll_output\n",
    "        grads = {\"W\": grad_W, \"b\": grad_b}\n",
    "        return grads\n",
    "    \n",
    "    def train(self, x, y, learning_rate):\n",
    "        # Traditional SGD update without momentum\n",
    "        grads = self.grad_loss(x, y)\n",
    "        self.W = self.W - learning_rate * grads[\"W\"]\n",
    "        self.b = self.b - learning_rate * grads[\"b\"]      \n",
    "        \n",
    "    def loss(self, x, y):\n",
    "        return nll(one_hot(self.output_size, y), self.forward(x))\n",
    "\n",
    "    def accuracy(self, X, y):\n",
    "        y_preds = np.argmax(self.forward(X), axis=1)\n",
    "        return np.mean(y_preds == y)"
   ]
  },
  {
   "cell_type": "code",
   "execution_count": 52,
   "metadata": {
    "collapsed": false
   },
   "outputs": [
    {
     "name": "stdout",
     "output_type": "stream",
     "text": [
      "Evaluation of the untrained model:\n",
      "train loss: 2.5240, train acc: 0.063, test acc: 0.067\n"
     ]
    }
   ],
   "source": [
    "# Build a model and test its forward inference\n",
    "n_features = X_train.shape[1]\n",
    "n_classes = Y_train.shape[1]\n",
    "lr = LogisticRegression(n_features, n_classes)\n",
    "\n",
    "print(\"Evaluation of the untrained model:\")\n",
    "train_loss = lr.loss(X_train, y_train)\n",
    "train_acc = lr.accuracy(X_train, y_train)\n",
    "test_acc = lr.accuracy(X_test, y_test)\n",
    "\n",
    "print(\"train loss: %0.4f, train acc: %0.3f, test acc: %0.3f\"\n",
    "      % (train_loss, train_acc, test_acc))"
   ]
  },
  {
   "cell_type": "code",
   "execution_count": 53,
   "metadata": {
    "collapsed": false
   },
   "outputs": [
    {
     "name": "stdout",
     "output_type": "stream",
     "text": [
      "0\n"
     ]
    },
    {
     "data": {
      "image/png": "[encoded data removed]",
      "text/plain": [
       "<matplotlib.figure.Figure at 0x11bf6c860>"
      ]
     },
     "metadata": {},
     "output_type": "display_data"
    }
   ],
   "source": [
    "# Test the untrained model on the first example\n",
    "sample_idx = 0\n",
    "plt.plot(lr.forward(X_train[sample_idx]), linestyle='-', label='prediction')\n",
    "plt.plot(one_hot(10, y_train[sample_idx]), linestyle='--', label='true')\n",
    "plt.title('output probabilities')\n",
    "plt.legend()\n",
    "print(lr.predict(X_train[sample_idx]))"
   ]
  },
  {
   "cell_type": "code",
   "execution_count": 54,
   "metadata": {
    "collapsed": false
   },
   "outputs": [
    {
     "name": "stdout",
     "output_type": "stream",
     "text": [
      "Update #0, train loss: 2.4833, train acc: 0.067, test acc: 0.074\n",
      "Update #100, train loss: 1.3573, train acc: 0.662, test acc: 0.678\n",
      "Update #200, train loss: 0.8847, train acc: 0.847, test acc: 0.863\n",
      "Update #300, train loss: 0.6498, train acc: 0.895, test acc: 0.907\n",
      "Update #400, train loss: 0.5377, train acc: 0.906, test acc: 0.911\n",
      "Update #500, train loss: 0.4660, train acc: 0.916, test acc: 0.922\n",
      "Update #600, train loss: 0.4058, train acc: 0.929, test acc: 0.926\n",
      "Update #700, train loss: 0.3665, train acc: 0.936, test acc: 0.941\n",
      "Update #800, train loss: 0.3447, train acc: 0.935, test acc: 0.948\n",
      "Update #900, train loss: 0.3196, train acc: 0.942, test acc: 0.952\n",
      "Update #1000, train loss: 0.3003, train acc: 0.943, test acc: 0.948\n",
      "Update #1100, train loss: 0.2806, train acc: 0.946, test acc: 0.956\n",
      "Update #1200, train loss: 0.2694, train acc: 0.947, test acc: 0.967\n",
      "Update #1300, train loss: 0.2601, train acc: 0.946, test acc: 0.941\n",
      "Update #1400, train loss: 0.2469, train acc: 0.952, test acc: 0.952\n",
      "Update #1500, train loss: 0.2376, train acc: 0.954, test acc: 0.948\n"
     ]
    }
   ],
   "source": [
    "# Training for one epoch\n",
    "learning_rate = 0.01\n",
    "\n",
    "for i, (x, y) in enumerate(zip(X_train, y_train)):\n",
    "    lr.train(x, y, learning_rate)\n",
    "    if i % 100 == 0:\n",
    "        train_loss = lr.loss(X_train, y_train)\n",
    "        train_acc = lr.accuracy(X_train, y_train)\n",
    "        test_acc = lr.accuracy(X_test, y_test)\n",
    "        print(\"Update #%d, train loss: %0.4f, train acc: %0.3f, test acc: %0.3f\"\n",
    "              % (i, train_loss, train_acc, test_acc))"
   ]
  },
  {
   "cell_type": "code",
   "execution_count": 55,
   "metadata": {
    "collapsed": false
   },
   "outputs": [
    {
     "name": "stdout",
     "output_type": "stream",
     "text": [
      "2\n"
     ]
    },
    {
     "data": {
      "image/png": "[encoded data removed]",
      "text/plain": [
       "<matplotlib.figure.Figure at 0x11e53d208>"
      ]
     },
     "metadata": {},
     "output_type": "display_data"
    }
   ],
   "source": [
    "# Evaluate the trained model on the first example\n",
    "sample_idx = 0\n",
    "plt.plot(lr.forward(X_train[sample_idx]), linestyle='-', label='prediction')\n",
    "plt.plot(one_hot(10, y_train[sample_idx]), linestyle='--', label='true')\n",
    "plt.title('output probabilities')\n",
    "plt.legend()\n",
    "print(lr.predict(X_train[sample_idx]))"
   ]
  },
  {
   "cell_type": "markdown",
   "metadata": {},
   "source": [
    "## b) Feedforward Multilayer\n",
    "\n",
    "The objective of this section is to implement the backpropagation algorithm (SGD with the chain rule) on a single layer neural network using the sigmoid activation function.\n",
    "\n",
    "- Implement the `sigmoid` and its element-wise derivative `dsigmoid` functions:\n",
    "\n",
    "$$\n",
    "sigmoid(x) = \\frac{1}{1 + e^{-x}}\n",
    "$$\n",
    "\n",
    "$$\n",
    "dsigmoid(x) = sigmoid(x) \\cdot (1 - sigmoid(x))\n",
    "$$"
   ]
  },
  {
   "cell_type": "code",
   "execution_count": 56,
   "metadata": {
    "collapsed": true
   },
   "outputs": [],
   "source": [
    "# On l'utilise pas parce qu'elle ecrase trop le gradient\n",
    "def sigmoid(X):\n",
    "    return 1./(1+np.exp(-X))\n",
    "\n",
    "\n",
    "def dsigmoid(X):\n",
    "    tmp = sigmoid(X)\n",
    "    return tmp*(1-tmp)"
   ]
  },
  {
   "cell_type": "code",
   "execution_count": 57,
   "metadata": {
    "collapsed": false
   },
   "outputs": [
    {
     "data": {
      "image/png": "[encoded data removed]",
      "text/plain": [
       "<matplotlib.figure.Figure at 0x126735a90>"
      ]
     },
     "metadata": {},
     "output_type": "display_data"
    }
   ],
   "source": [
    "# %load solutions/sigmoid.py\n",
    "def sigmoid(X):\n",
    "    return 1 / (1 + np.exp(-X))\n",
    "\n",
    "\n",
    "def dsigmoid(X):\n",
    "    sig=sigmoid(X)\n",
    "    return sig * (1 - sig)\n",
    "\n",
    "\n",
    "x = np.linspace(-5, 5, 100)\n",
    "plt.plot(x, sigmoid(x), label='sigmoid')\n",
    "plt.plot(x, dsigmoid(x), label='dsigmoid')\n",
    "plt.legend(loc='best');"
   ]
  },
  {
   "cell_type": "markdown",
   "metadata": {},
   "source": [
    "- Implement `forward` and `forward_keep_all` functions for a model with a hidden layer, similar to the first one in Keras:\n",
    "  - $h = sigmoid(\\mathbf{W}^h x + b^h)$\n",
    "  - $y = softmax(\\mathbf{W}^o h + b^o)$\n",
    "\n",
    "Notes: \n",
    "  - try to keep the code as similar as possible as the previous one;\n",
    "  - `forward_keep_activations` is similar to forward, but also returns hidden activations and pre activations;\n",
    "\n",
    "- update the grad function to compute all gradients; check that the gradients are well defined;\n",
    "\n",
    "- implement the `train` and `loss` functions.\n",
    "\n",
    "Bonus: reimplementing all from scratch without looking at the solution of the `LogisticRegression` is an excellent exercise."
   ]
  },
  {
   "cell_type": "code",
   "execution_count": 58,
   "metadata": {
    "collapsed": false
   },
   "outputs": [],
   "source": [
    "EPSILON = 1e-8\n",
    "scale=.01\n",
    "\n",
    "class NeuralNet():\n",
    "    \"\"\"MLP with 1 hidden layer with a sigmoid activation\"\"\"\n",
    "    \n",
    "    def __init__(self, input_size, hidden_size, output_size):\n",
    "        self.W_h = np.random.uniform((input_size, hidden_size), low=-scale, high=scale)\n",
    "        self.b_h = np.zeros(hidden_size)\n",
    "        self.W_o = np.random.uniform((hidden_size, output_size), low=-scale, high=scale)\n",
    "        self.b_o = np.zeros(output_size)\n",
    "        self.output_size = output_size\n",
    "        \n",
    "    def forward(self, X):\n",
    "        h = sigmoid(np.dot(X, self.W_h) + self.b_h)\n",
    "        y = softmax(np.dot(X, self.W_o) + self.b_o)\n",
    "        return y\n",
    "        \n",
    "    def forward_keep_activations(self, X):\n",
    "        z_h = np.dot(X, self.W_h) + self.b_h\n",
    "        h = sigmoid(z_h)\n",
    "        y = softmax(np.dot(X, self.W_o) + self.b_o)\n",
    "        return y, h, z_h\n",
    "    \n",
    "    def loss(self, X, y):\n",
    "        return nll(one_hot(self.output_size, y), self.forward(X))\n",
    "\n",
    "    def grad_loss(self, x, y_true):\n",
    "        # Need the forward pass !\n",
    "        y, h, z_h = self.forward_keep_activations(X)\n",
    "        \n",
    "        # Compute gradient from the end to the beginning\n",
    "        grad_z_o = y - one_hot(self.output_size, y_true)\n",
    "        grad_W_o = np.outer(h, grad_z_o)\n",
    "        grad_b_o = grad_z_o\n",
    "        grad_h = np.dot(grad_z_o, np.transpose(self.W_o))\n",
    "        grad_z_h = grad_h * dsigmoid(z_h)\n",
    "        grad_W_h = np.outer(x, grad_z_h)\n",
    "        grad_b_h = grad_z_h\n",
    "        return {\"W_h\": grad_W_h, \"b_h\": grad_b_h, \"W_o\": grad_W_o, \"b_o\": grad_b_o}\n",
    "\n",
    "    def train(self, x, y, learning_rate):\n",
    "        # Pass is an SGD update: x_{t+1} = x_t - \\nu * grad(x_t)\n",
    "        grads = self.grad_loss(x, y)\n",
    "        self.W_h = self.W_h - learning_rate * grads[\"W_h\"]\n",
    "        self.b_h = self.b_h - learning_rate * grads[\"b_h\"]\n",
    "        self.W_o = self.W_o - learning_rate * grads[\"W_o\"]\n",
    "        self.b_o = self.b_o - learning_rate * grads[\"b_o\"]\n",
    "        pass\n",
    "\n",
    "    def predict(self, X):\n",
    "        if len(X.shape) == 1:\n",
    "            return np.argmax(self.forward(x))\n",
    "        else:\n",
    "            return np.argmax(self.forward(x), axis=1)\n",
    "\n",
    "    def accuracy(self, X, y):\n",
    "        y_preds = np.argmax(self.forward(X), axis=1)\n",
    "        return np.mean(y_preds == y)"
   ]
  },
  {
   "cell_type": "code",
   "execution_count": 59,
   "metadata": {
    "collapsed": true
   },
   "outputs": [],
   "source": [
    "# %load solutions/neural_net.py\n",
    "class NeuralNet():\n",
    "    \"\"\"MLP with 1 hidden layer with a sigmoid activation\"\"\"\n",
    "\n",
    "    def __init__(self, input_size, hidden_size, output_size,\n",
    "                 activation_funcs=(sigmoid, dsigmoid, ''), init='uniform'):\n",
    "        \n",
    "        if init=='uniform':\n",
    "            self.W_h = np.random.uniform(\n",
    "                size=(input_size, hidden_size), high=0.01, low=-0.01)\n",
    "            self.W_o = np.random.uniform(\n",
    "                size=(hidden_size, output_size), high=0.01, low=-0.01)\n",
    "        else:\n",
    "            self.W_h = np.zeros((input_size, hidden_size))\n",
    "            self.W_o = np.zeros((hidden_size, output_size))\n",
    "            \n",
    "        self.b_h = np.zeros(hidden_size)\n",
    "        self.b_o = np.zeros(output_size)\n",
    "        self.output_size = output_size\n",
    "        \n",
    "        self.activation, self.grad_act, _ = activation_funcs\n",
    "        \n",
    "    def forward(self, X):\n",
    "        h = self.activation(np.dot(X, self.W_h) + self.b_h)\n",
    "        y = softmax(np.dot(h, self.W_o) + self.b_o)\n",
    "        return y\n",
    "    \n",
    "    def forward_keep_activations(self, X):\n",
    "        z_h = np.dot(X, self.W_h) + self.b_h\n",
    "        h = self.activation(z_h)\n",
    "        z_o = np.dot(h, self.W_o) + self.b_o\n",
    "        y = softmax(z_o)\n",
    "        return y, h, z_h\n",
    "    \n",
    "    def loss(self, X, y):\n",
    "        return nll(one_hot(self.output_size, y), self.forward(X))\n",
    "\n",
    "    def grad_loss(self, X, y_true):\n",
    "        y, h, z_h = self.forward_keep_activations(X)\n",
    "        grad_z_o = y - one_hot(self.output_size, y_true)\n",
    "        grad_W_o = np.outer(h, grad_z_o)\n",
    "        grad_b_o = grad_z_o\n",
    "        grad_h = np.dot(grad_z_o, np.transpose(self.W_o))\n",
    "        grad_z_h = grad_h * self.grad_act(z_h)\n",
    "        grad_W_h = np.outer(X, grad_z_h)\n",
    "        grad_b_h = grad_z_h\n",
    "        grads = {\"W_h\": grad_W_h, \"b_h\": grad_b_h,\n",
    "                 \"W_o\": grad_W_o, \"b_o\": grad_b_o}\n",
    "        return grads\n",
    "\n",
    "    def train(self, x, y, learning_rate):\n",
    "        # Traditional SGD update on one sample at a time\n",
    "        grads = self.grad_loss(x, y)\n",
    "        self.W_h = self.W_h - learning_rate * grads[\"W_h\"]\n",
    "        self.b_h = self.b_h - learning_rate * grads[\"b_h\"]\n",
    "        self.W_o = self.W_o - learning_rate * grads[\"W_o\"]\n",
    "        self.b_o = self.b_o - learning_rate * grads[\"b_o\"]\n",
    "\n",
    "    def predict(self, X):\n",
    "        if len(X.shape) == 1:\n",
    "            return np.argmax(self.forward(X))\n",
    "        else:\n",
    "            return np.argmax(self.forward(X), axis=1)\n",
    "\n",
    "    def accuracy(self, X, y):\n",
    "        y_preds = np.argmax(self.forward(X), axis=1)\n",
    "        return np.mean(y_preds == y)"
   ]
  },
  {
   "cell_type": "code",
   "execution_count": 60,
   "metadata": {
    "collapsed": false
   },
   "outputs": [],
   "source": [
    "n_hidden = 10\n",
    "model = NeuralNet(n_features, n_hidden, n_classes)"
   ]
  },
  {
   "cell_type": "code",
   "execution_count": 61,
   "metadata": {
    "collapsed": false
   },
   "outputs": [
    {
     "data": {
      "text/plain": [
       "2.3026486402130684"
      ]
     },
     "execution_count": 61,
     "metadata": {},
     "output_type": "execute_result"
    }
   ],
   "source": [
    "model.loss(X_train, y_train)"
   ]
  },
  {
   "cell_type": "code",
   "execution_count": 62,
   "metadata": {
    "collapsed": false
   },
   "outputs": [
    {
     "data": {
      "text/plain": [
       "0.098886705959397511"
      ]
     },
     "execution_count": 62,
     "metadata": {},
     "output_type": "execute_result"
    }
   ],
   "source": [
    "model.accuracy(X_train, y_train)"
   ]
  },
  {
   "cell_type": "code",
   "execution_count": 63,
   "metadata": {
    "collapsed": false
   },
   "outputs": [
    {
     "name": "stdout",
     "output_type": "stream",
     "text": [
      "5\n"
     ]
    },
    {
     "data": {
      "image/png": "[encoded data removed]",
      "text/plain": [
       "<matplotlib.figure.Figure at 0x1267425c0>"
      ]
     },
     "metadata": {},
     "output_type": "display_data"
    }
   ],
   "source": [
    "sample_idx = 0\n",
    "plt.plot(model.forward(X_train[sample_idx]), linestyle='-', label='prediction')\n",
    "plt.plot(one_hot(10, y_train[sample_idx]), linestyle='--', label='true')\n",
    "plt.title('output probabilities')\n",
    "plt.legend()\n",
    "print(model.predict(X_train[sample_idx]))"
   ]
  },
  {
   "cell_type": "code",
   "execution_count": 64,
   "metadata": {
    "collapsed": false
   },
   "outputs": [
    {
     "name": "stdout",
     "output_type": "stream",
     "text": [
      "Random init: train loss: 2.3026, train acc: 0.099, test acc: 0.115\n",
      "Epoch #1, train loss: 0.4051, train acc: 0.881, test acc: 0.826\n",
      "Epoch #2, train loss: 0.1779, train acc: 0.962, test acc: 0.930\n",
      "Epoch #3, train loss: 0.1240, train acc: 0.975, test acc: 0.941\n",
      "Epoch #4, train loss: 0.0943, train acc: 0.981, test acc: 0.941\n",
      "Epoch #5, train loss: 0.0799, train acc: 0.984, test acc: 0.926\n",
      "Epoch #6, train loss: 0.0613, train acc: 0.991, test acc: 0.944\n",
      "Epoch #7, train loss: 0.0486, train acc: 0.995, test acc: 0.952\n",
      "Epoch #8, train loss: 0.0419, train acc: 0.995, test acc: 0.956\n",
      "Epoch #9, train loss: 0.0365, train acc: 0.995, test acc: 0.959\n",
      "Epoch #10, train loss: 0.0325, train acc: 0.997, test acc: 0.963\n",
      "Epoch #11, train loss: 0.0290, train acc: 0.997, test acc: 0.952\n",
      "Epoch #12, train loss: 0.0273, train acc: 0.997, test acc: 0.967\n",
      "Epoch #13, train loss: 0.0247, train acc: 0.998, test acc: 0.963\n",
      "Epoch #14, train loss: 0.0229, train acc: 0.998, test acc: 0.963\n",
      "Epoch #15, train loss: 0.0214, train acc: 0.998, test acc: 0.963\n"
     ]
    }
   ],
   "source": [
    "losses, accuracies, accuracies_test = [], [], []\n",
    "losses.append(model.loss(X_train, y_train))\n",
    "accuracies.append(model.accuracy(X_train, y_train))\n",
    "accuracies_test.append(model.accuracy(X_test, y_test))\n",
    "\n",
    "print(\"Random init: train loss: %0.4f, train acc: %0.3f, test acc: %0.3f\"\n",
    "      % (losses[-1], accuracies[-1], accuracies_test[-1]))\n",
    "\n",
    "for epoch in range(15):\n",
    "    for i, (x, y) in enumerate(zip(X_train, y_train)):\n",
    "        model.train(x, y, 0.1)\n",
    "\n",
    "    losses.append(model.loss(X_train, y_train))\n",
    "    accuracies.append(model.accuracy(X_train, y_train))\n",
    "    accuracies_test.append(model.accuracy(X_test, y_test))\n",
    "    print(\"Epoch #%d, train loss: %0.4f, train acc: %0.3f, test acc: %0.3f\"\n",
    "          % (epoch + 1, losses[-1], accuracies[-1], accuracies_test[-1]))"
   ]
  },
  {
   "cell_type": "code",
   "execution_count": 65,
   "metadata": {
    "collapsed": false
   },
   "outputs": [
    {
     "data": {
      "image/png": "[encoded data removed]",
      "text/plain": [
       "<matplotlib.figure.Figure at 0x1267b1b00>"
      ]
     },
     "metadata": {},
     "output_type": "display_data"
    }
   ],
   "source": [
    "plt.plot(losses)\n",
    "plt.title(\"Training loss\");"
   ]
  },
  {
   "cell_type": "code",
   "execution_count": 66,
   "metadata": {
    "collapsed": false
   },
   "outputs": [
    {
     "data": {
      "image/png": "[encoded data removed]",
      "text/plain": [
       "<matplotlib.figure.Figure at 0x126d36400>"
      ]
     },
     "metadata": {},
     "output_type": "display_data"
    }
   ],
   "source": [
    "plt.plot(accuracies, label='train')\n",
    "plt.plot(accuracies_test, label='test')\n",
    "plt.ylim(0, 1.1)\n",
    "plt.ylabel(\"accuracy\")\n",
    "plt.legend(loc='best');"
   ]
  },
  {
   "cell_type": "markdown",
   "metadata": {},
   "source": [
    "## c) Exercises"
   ]
  },
  {
   "cell_type": "markdown",
   "metadata": {},
   "source": [
    "### i - Hyper parameters settings\n",
    "\n",
    "- Experiment with different hyper parameters:\n",
    "  - learning rate,\n",
    "  - size of hidden layer,\n",
    "  - initialization scheme: test with 0 initialization vs uniform,\n",
    "  - implement other activation functions,\n",
    "  - implement the support for a second hidden layer."
   ]
  },
  {
   "cell_type": "markdown",
   "metadata": {},
   "source": [
    "---\n",
    "- To make the network more manageable, we slightly edited the NeuralNetwork class\n",
    "#### Play with hyperparameters"
   ]
  },
  {
   "cell_type": "code",
   "execution_count": 67,
   "metadata": {
    "collapsed": true
   },
   "outputs": [],
   "source": [
    "def tanh(X):\n",
    "    return 2. / (1 + np.exp(-2*X)) - 1\n",
    "\n",
    "def grad_tanh(X):\n",
    "    return 1 - tanh(X)**2"
   ]
  },
  {
   "cell_type": "code",
   "execution_count": 68,
   "metadata": {
    "collapsed": true
   },
   "outputs": [],
   "source": [
    "learning_rates = [.01, .1, 1]\n",
    "hidden_layer_sizes = [5, 10, 15, 20]\n",
    "inits = ['uniform', 'zero']\n",
    "activation_functions = [(sigmoid, dsigmoid, 'sigmoid'), (tanh, grad_tanh, 'tanh')]"
   ]
  },
  {
   "cell_type": "code",
   "execution_count": 69,
   "metadata": {
    "collapsed": false,
    "scrolled": false
   },
   "outputs": [
    {
     "name": "stdout",
     "output_type": "stream",
     "text": [
      "Training on 15 epochs\n",
      "   init    |     lr     |  n_hidden  | activation |    loss    | acc train  |  acc test \n",
      "   uniform |       0.01 |          5 |    sigmoid |     0.1856 |     0.9522 |     0.8926\n",
      "   uniform |       0.01 |          5 |       tanh |     0.2495 |     0.9476 |     0.9148\n",
      "   uniform |       0.01 |         10 |    sigmoid |     0.0207 |     0.9980 |     0.9444\n",
      "   uniform |       0.01 |         10 |       tanh |     0.0617 |     0.9810 |     0.9481\n",
      "   uniform |       0.01 |         15 |    sigmoid |     0.0087 |     1.0000 |     0.9741\n",
      "   uniform |       0.01 |         15 |       tanh |     0.0044 |     1.0000 |     0.9481\n",
      "   uniform |       0.01 |         20 |    sigmoid |     0.0071 |     1.0000 |     0.9741\n",
      "   uniform |       0.01 |         20 |       tanh |     0.0029 |     0.9993 |     0.9593\n",
      "   uniform |       0.10 |          5 |    sigmoid |     0.1961 |     0.9463 |     0.8852\n",
      "   uniform |       0.10 |          5 |       tanh |     0.2857 |     0.9293 |     0.8889\n",
      "   uniform |       0.10 |         10 |    sigmoid |     0.0200 |     0.9980 |     0.9667\n",
      "   uniform |       0.10 |         10 |       tanh |     0.0603 |     0.9817 |     0.9593\n",
      "   uniform |       0.10 |         15 |    sigmoid |     0.0084 |     1.0000 |     0.9704\n",
      "   uniform |       0.10 |         15 |       tanh |     0.0129 |     0.9961 |     0.9630\n",
      "   uniform |       0.10 |         20 |    sigmoid |     0.0069 |     1.0000 |     0.9852\n",
      "   uniform |       0.10 |         20 |       tanh |     0.0018 |     1.0000 |     0.9778\n",
      "   uniform |       1.00 |          5 |    sigmoid |     0.1756 |     0.9568 |     0.8815\n",
      "   uniform |       1.00 |          5 |       tanh |     0.2974 |     0.9247 |     0.8778\n",
      "   uniform |       1.00 |         10 |    sigmoid |     0.0178 |     0.9987 |     0.9519\n",
      "   uniform |       1.00 |         10 |       tanh |     0.1050 |     0.9679 |     0.9259\n",
      "   uniform |       1.00 |         15 |    sigmoid |     0.0147 |     0.9993 |     0.9815\n",
      "   uniform |       1.00 |         15 |       tanh |     0.0068 |     0.9993 |     0.9667\n",
      "   uniform |       1.00 |         20 |    sigmoid |     0.0079 |     1.0000 |     0.9704\n",
      "   uniform |       1.00 |         20 |       tanh |     0.0042 |     0.9993 |     0.9741\n",
      "      zero |       0.01 |          5 |    sigmoid |     1.6174 |     0.2999 |     0.2778\n",
      "      zero |       0.01 |          5 |       tanh |     2.3328 |     0.1022 |     0.0889\n",
      "      zero |       0.01 |         10 |    sigmoid |     1.5945 |     0.3255 |     0.2926\n",
      "      zero |       0.01 |         10 |       tanh |     2.3328 |     0.1022 |     0.0889\n",
      "      zero |       0.01 |         15 |    sigmoid |     1.5646 |     0.3510 |     0.3222\n",
      "      zero |       0.01 |         15 |       tanh |     2.3328 |     0.1022 |     0.0889\n",
      "      zero |       0.01 |         20 |    sigmoid |     1.5486 |     0.3628 |     0.3481\n",
      "      zero |       0.01 |         20 |       tanh |     2.3328 |     0.1022 |     0.0889\n",
      "      zero |       0.10 |          5 |    sigmoid |     1.6174 |     0.2999 |     0.2778\n",
      "      zero |       0.10 |          5 |       tanh |     2.3328 |     0.1022 |     0.0889\n",
      "      zero |       0.10 |         10 |    sigmoid |     1.5945 |     0.3255 |     0.2926\n",
      "      zero |       0.10 |         10 |       tanh |     2.3328 |     0.1022 |     0.0889\n",
      "      zero |       0.10 |         15 |    sigmoid |     1.5646 |     0.3510 |     0.3222\n",
      "      zero |       0.10 |         15 |       tanh |     2.3328 |     0.1022 |     0.0889\n",
      "      zero |       0.10 |         20 |    sigmoid |     1.5486 |     0.3628 |     0.3481\n",
      "      zero |       0.10 |         20 |       tanh |     2.3328 |     0.1022 |     0.0889\n",
      "      zero |       1.00 |          5 |    sigmoid |     1.6174 |     0.2999 |     0.2778\n",
      "      zero |       1.00 |          5 |       tanh |     2.3328 |     0.1022 |     0.0889\n",
      "      zero |       1.00 |         10 |    sigmoid |     1.5945 |     0.3255 |     0.2926\n",
      "      zero |       1.00 |         10 |       tanh |     2.3328 |     0.1022 |     0.0889\n",
      "      zero |       1.00 |         15 |    sigmoid |     1.5646 |     0.3510 |     0.3222\n",
      "      zero |       1.00 |         15 |       tanh |     2.3328 |     0.1022 |     0.0889\n",
      "      zero |       1.00 |         20 |    sigmoid |     1.5486 |     0.3628 |     0.3481\n",
      "      zero |       1.00 |         20 |       tanh |     2.3328 |     0.1022 |     0.0889\n"
     ]
    }
   ],
   "source": [
    "import itertools\n",
    "n_epoch = 15\n",
    "print('Training on %d epochs'%n_epoch)\n",
    "\n",
    "print(' | '.join([name.center(10) for name in ['init', 'lr', 'n_hidden',\n",
    "                                              'activation', 'loss', 'acc train', 'acc test']]))\n",
    "\n",
    "for init, learning_rate, n_hidden, activation_function in itertools.product(*(inits,\n",
    "                                                                              learning_rates,\n",
    "                                                                              hidden_layer_sizes,\n",
    "                                                                              activation_functions)):\n",
    "    model = NeuralNet(n_features, n_hidden, n_classes, activation_function, init)\n",
    "    losses, accuracies, accuracies_test = [], [], []\n",
    "    losses.append(model.loss(X_train, y_train))\n",
    "    accuracies.append(model.accuracy(X_train, y_train))\n",
    "    accuracies_test.append(model.accuracy(X_test, y_test))\n",
    "    for epoch in range(n_epoch):\n",
    "        for i, (x, y) in enumerate(zip(X_train, y_train)):\n",
    "            model.train(x, y, 0.1)\n",
    "        losses.append(model.loss(X_train, y_train))\n",
    "        accuracies.append(model.accuracy(X_train, y_train))\n",
    "        accuracies_test.append(model.accuracy(X_test, y_test))\n",
    "    print(' | '.join([('%s'%init).rjust(10),\n",
    "                      ('%0.2f'%learning_rate).rjust(10),\n",
    "                      ('%d'%n_hidden).rjust(10),\n",
    "                      ('%s'%activation_function[2]).rjust(10),\n",
    "                      ('%0.4f'%losses[-1]).rjust(10),\n",
    "                      ('%0.4f'%accuracies[-1]).rjust(10),\n",
    "                      ('%0.4f'%accuracies_test[-1]).rjust(10)]))"
   ]
  },
  {
   "cell_type": "markdown",
   "metadata": {},
   "source": [
    "- As expected, 0 init gives very poor results\n",
    "- Sigmoid and tanh both achieve best results: uniform |       0.10 |         15 |    * |     0.0096 |     1.0000 |     0.9778\n",
    "- For this problem, 5 layers does not look reasonnable as it gives poorest results\n",
    "----\n",
    "#### 2 hidden layers"
   ]
  },
  {
   "cell_type": "code",
   "execution_count": 70,
   "metadata": {
    "collapsed": false
   },
   "outputs": [],
   "source": [
    "class NeuralNet2HL():\n",
    "    \"\"\"MLP with 1 hidden layer with a sigmoid activation\"\"\"\n",
    "\n",
    "    def __init__(self, input_size, hidden_size1, hidden_size2, output_size,\n",
    "                 activation_funcs=(sigmoid, dsigmoid, ''), init='uniform'):\n",
    "        \n",
    "        if init=='uniform':\n",
    "            self.W_h1 = np.random.uniform(\n",
    "                size=(input_size, hidden_size1), high=0.01, low=-0.01)\n",
    "            self.W_h2 = np.random.uniform(\n",
    "                size=(hidden_size1, hidden_size2), high=0.01, low=-0.01)\n",
    "            self.W_o = np.random.uniform(\n",
    "                size=(hidden_size2, output_size), high=0.01, low=-0.01)\n",
    "        else:\n",
    "            self.W_h1 = np.zeros((input_size, hidden_size1))\n",
    "            self.W_h2 = np.zeros((hidden_size1, hidden_size2))\n",
    "            self.W_o = np.zeros((hidden_size2, output_size))\n",
    "            \n",
    "        self.b_h1 = np.zeros(hidden_size1)\n",
    "        self.b_h2 = np.zeros(hidden_size2)\n",
    "        self.b_o = np.zeros(output_size)\n",
    "        self.output_size = output_size\n",
    "        \n",
    "        self.activation, self.grad_act, _ = activation_funcs\n",
    "        \n",
    "    def forward(self, X):\n",
    "        z_h1 = np.dot(X, self.W_h1) + self.b_h1\n",
    "        h1 = self.activation(z_h1)\n",
    "        z_h2 = np.dot(h1, self.W_h2) + self.b_h2\n",
    "        h2 = self.activation(z_h2)\n",
    "        y = softmax(np.dot(h2, self.W_o) + self.b_o)\n",
    "        return y\n",
    "    \n",
    "    def forward_keep_activations(self, X):\n",
    "        z_h1 = np.dot(X, self.W_h1) + self.b_h1\n",
    "        h1 = self.activation(z_h1)\n",
    "        z_h2 = np.dot(h1, self.W_h2) + self.b_h2\n",
    "        h2 = self.activation(z_h2)\n",
    "        y = softmax(np.dot(h2, self.W_o) + self.b_o)\n",
    "        return y, h2, z_h2, h1, z_h1\n",
    "    \n",
    "    def loss(self, X, y):\n",
    "        return nll(one_hot(self.output_size, y), self.forward(X))\n",
    "    \n",
    "    def grad_loss(self, X, y_true):\n",
    "        y, h2, z_h2, h1, z_h1 = self.forward_keep_activations(X)\n",
    "        \n",
    "        grad_z_o = y - one_hot(self.output_size, y_true)\n",
    "        grad_W_o = np.outer(h2, grad_z_o)\n",
    "        grad_b_o = grad_z_o\n",
    "        \n",
    "        grad_h2 = np.dot(grad_z_o, np.transpose(self.W_o))\n",
    "        grad_z_h2 = grad_h2 * self.grad_act(z_h2)\n",
    "        grad_W_h2 = np.outer(h1, grad_z_h2)\n",
    "        grad_b_h2 = grad_z_h2\n",
    "        \n",
    "        grad_h1 = np.dot(grad_z_h2, np.transpose(self.W_h2))\n",
    "        grad_z_h1 = grad_h1 * self.grad_act(z_h1)\n",
    "        grad_W_h1 = np.outer(X, grad_z_h1)\n",
    "        grad_b_h1 = grad_z_h1\n",
    "        grads = {\"W_h1\": grad_W_h1, \"b_h1\": grad_b_h1, \"W_h2\": grad_W_h2, \"b_h2\": grad_b_h2,\n",
    "                 \"W_o\": grad_W_o, \"b_o\": grad_b_o}\n",
    "        return grads\n",
    "\n",
    "    def train(self, x, y, learning_rate):\n",
    "        # Traditional SGD update on one sample at a time\n",
    "        grads = self.grad_loss(x, y)\n",
    "        self.W_h1 = self.W_h1 - learning_rate * grads[\"W_h1\"]\n",
    "        self.b_h1 = self.b_h1 - learning_rate * grads[\"b_h1\"]\n",
    "        self.W_h2 = self.W_h2 - learning_rate * grads[\"W_h2\"]\n",
    "        self.b_h2 = self.b_h2 - learning_rate * grads[\"b_h2\"]\n",
    "        self.W_o = self.W_o - learning_rate * grads[\"W_o\"]\n",
    "        self.b_o = self.b_o - learning_rate * grads[\"b_o\"]\n",
    "\n",
    "    def predict(self, X):\n",
    "        if len(X.shape) == 1:\n",
    "            return np.argmax(self.forward(X))\n",
    "        else:\n",
    "            return np.argmax(self.forward(X), axis=1)\n",
    "\n",
    "    def accuracy(self, X, y):\n",
    "        y_preds = np.argmax(self.forward(X), axis=1)\n",
    "        return np.mean(y_preds == y)"
   ]
  },
  {
   "cell_type": "markdown",
   "metadata": {},
   "source": [
    "- Code may have been propper. In particular, could be generalized to an arbitrary of hidden layers, as formula are always the same. However, we're not keras..."
   ]
  },
  {
   "cell_type": "code",
   "execution_count": 71,
   "metadata": {
    "collapsed": false
   },
   "outputs": [],
   "source": [
    "n_hidden1 = 10\n",
    "n_hidden2 = 8\n",
    "model = NeuralNet2HL(n_features, n_hidden1, n_hidden2, n_classes)"
   ]
  },
  {
   "cell_type": "code",
   "execution_count": 72,
   "metadata": {
    "collapsed": false
   },
   "outputs": [
    {
     "name": "stdout",
     "output_type": "stream",
     "text": [
      "Random init: train loss: 2.3026, train acc: 0.099, test acc: 0.115\n",
      "Epoch #1, train loss: 2.2813, train acc: 0.102, test acc: 0.089\n",
      "Epoch #2, train loss: 1.8215, train acc: 0.224, test acc: 0.244\n",
      "Epoch #3, train loss: 1.6595, train acc: 0.255, test acc: 0.263\n",
      "Epoch #4, train loss: 1.4439, train acc: 0.409, test acc: 0.385\n",
      "Epoch #5, train loss: 1.0598, train acc: 0.542, test acc: 0.548\n",
      "Epoch #6, train loss: 0.6671, train acc: 0.695, test acc: 0.674\n",
      "Epoch #7, train loss: 0.4658, train acc: 0.853, test acc: 0.800\n",
      "Epoch #8, train loss: 0.3244, train acc: 0.919, test acc: 0.893\n",
      "Epoch #9, train loss: 0.2055, train acc: 0.954, test acc: 0.911\n",
      "Epoch #10, train loss: 0.1439, train acc: 0.965, test acc: 0.930\n",
      "Epoch #11, train loss: 0.1075, train acc: 0.976, test acc: 0.930\n",
      "Epoch #12, train loss: 0.0948, train acc: 0.977, test acc: 0.937\n",
      "Epoch #13, train loss: 0.0818, train acc: 0.981, test acc: 0.933\n",
      "Epoch #14, train loss: 0.0825, train acc: 0.978, test acc: 0.933\n",
      "Epoch #15, train loss: 0.1271, train acc: 0.965, test acc: 0.930\n",
      "Epoch #16, train loss: 0.1089, train acc: 0.967, test acc: 0.915\n",
      "Epoch #17, train loss: 0.0643, train acc: 0.984, test acc: 0.930\n",
      "Epoch #18, train loss: 0.0758, train acc: 0.980, test acc: 0.926\n",
      "Epoch #19, train loss: 0.0491, train acc: 0.989, test acc: 0.933\n",
      "Epoch #20, train loss: 0.0381, train acc: 0.993, test acc: 0.937\n",
      "Epoch #21, train loss: 0.0414, train acc: 0.991, test acc: 0.930\n",
      "Epoch #22, train loss: 0.0340, train acc: 0.995, test acc: 0.926\n",
      "Epoch #23, train loss: 0.0274, train acc: 0.995, test acc: 0.930\n",
      "Epoch #24, train loss: 0.0263, train acc: 0.996, test acc: 0.930\n",
      "Epoch #25, train loss: 0.0235, train acc: 0.996, test acc: 0.933\n",
      "Epoch #26, train loss: 0.0237, train acc: 0.996, test acc: 0.933\n",
      "Epoch #27, train loss: 0.0211, train acc: 0.996, test acc: 0.941\n",
      "Epoch #28, train loss: 0.0214, train acc: 0.996, test acc: 0.933\n",
      "Epoch #29, train loss: 0.0191, train acc: 0.996, test acc: 0.944\n",
      "Epoch #30, train loss: 0.0191, train acc: 0.996, test acc: 0.937\n"
     ]
    }
   ],
   "source": [
    "losses, accuracies, accuracies_test = [], [], []\n",
    "losses.append(model.loss(X_train, y_train))\n",
    "accuracies.append(model.accuracy(X_train, y_train))\n",
    "accuracies_test.append(model.accuracy(X_test, y_test))\n",
    "\n",
    "print(\"Random init: train loss: %0.4f, train acc: %0.3f, test acc: %0.3f\"\n",
    "      % (losses[-1], accuracies[-1], accuracies_test[-1]))\n",
    "\n",
    "for epoch in range(30):\n",
    "    for i, (x, y) in enumerate(zip(X_train, y_train)):\n",
    "        model.train(x, y, 0.1)\n",
    "\n",
    "    losses.append(model.loss(X_train, y_train))\n",
    "    accuracies.append(model.accuracy(X_train, y_train))\n",
    "    accuracies_test.append(model.accuracy(X_test, y_test))\n",
    "    print(\"Epoch #%d, train loss: %0.4f, train acc: %0.3f, test acc: %0.3f\"\n",
    "          % (epoch + 1, losses[-1], accuracies[-1], accuracies_test[-1]))"
   ]
  },
  {
   "cell_type": "code",
   "execution_count": 73,
   "metadata": {
    "collapsed": false
   },
   "outputs": [
    {
     "data": {
      "image/png": "[encoded data removed]",
      "text/plain": [
       "<matplotlib.figure.Figure at 0x126d5f470>"
      ]
     },
     "metadata": {},
     "output_type": "display_data"
    }
   ],
   "source": [
    "plt.plot(losses)\n",
    "plt.title(\"Training loss\");"
   ]
  },
  {
   "cell_type": "code",
   "execution_count": 74,
   "metadata": {
    "collapsed": false
   },
   "outputs": [
    {
     "data": {
      "image/png": "[encoded data removed]",
      "text/plain": [
       "<matplotlib.figure.Figure at 0x12864eeb8>"
      ]
     },
     "metadata": {},
     "output_type": "display_data"
    }
   ],
   "source": [
    "plt.plot(accuracies, label='train')\n",
    "plt.plot(accuracies_test, label='test')\n",
    "plt.ylim(0, 1.1)\n",
    "plt.ylabel(\"accuracy\")\n",
    "plt.legend(loc='best');"
   ]
  },
  {
   "cell_type": "markdown",
   "metadata": {},
   "source": [
    "- Longer to train since more paramters"
   ]
  },
  {
   "cell_type": "markdown",
   "metadata": {},
   "source": [
    "-----\n",
    "### ii - Mini-batches\n",
    "\n",
    "- Bonus: the current implementations of `train` and `grad_loss` function currently only accept a single sample at a time:\n",
    "    - implement the support for training with a mini-batch of 32 samples at a time instead of one,\n",
    "    - experiment with different sizes of batches,\n",
    "    - monitor the norm of the average gradients on the full training set at the end of each epoch."
   ]
  },
  {
   "cell_type": "code",
   "execution_count": 75,
   "metadata": {
    "collapsed": false
   },
   "outputs": [],
   "source": [
    "# %load solutions/neural_net.py\n",
    "class NeuralNetMB():\n",
    "    \"\"\"MLP with 1 hidden layer with a sigmoid activation\"\"\"\n",
    "\n",
    "    def __init__(self, input_size, hidden_size, output_size,\n",
    "                 activation_funcs=(sigmoid, dsigmoid, ''), init='uniform', batch_size=32):\n",
    "        \n",
    "        if init=='uniform':\n",
    "            self.W_h = np.random.uniform(\n",
    "                size=(input_size, hidden_size), high=0.01, low=-0.01)\n",
    "            self.W_o = np.random.uniform(\n",
    "                size=(hidden_size, output_size), high=0.01, low=-0.01)\n",
    "        else:\n",
    "            self.W_h = np.zeros((input_size, hidden_size))\n",
    "            self.W_o = np.zeros((hidden_size, output_size))\n",
    "            \n",
    "        self.b_h = np.zeros(hidden_size)\n",
    "        self.b_o = np.zeros(output_size)\n",
    "        self.output_size = output_size\n",
    "        \n",
    "        self.activation, self.grad_act, _ = activation_funcs\n",
    "        \n",
    "        self.batch_size = batch_size\n",
    "        \n",
    "    def forward(self, X):\n",
    "        h = self.activation(np.dot(X, self.W_h) + self.b_h)\n",
    "        y = softmax(np.dot(h, self.W_o) + self.b_o)\n",
    "        return y\n",
    "    \n",
    "    def forward_keep_activations(self, X):\n",
    "        z_h = np.dot(X, self.W_h) + self.b_h\n",
    "        h = self.activation(z_h)\n",
    "        z_o = np.dot(h, self.W_o) + self.b_o\n",
    "        y = softmax(z_o)\n",
    "        return y, h, z_h\n",
    "    \n",
    "    def loss(self, X, y):\n",
    "        return nll(one_hot(self.output_size, y), self.forward(X))\n",
    "\n",
    "    def grad_loss(self, X, y_true):\n",
    "        y, h, z_h = self.forward_keep_activations(X)\n",
    "        grad_z_o = y - one_hot(self.output_size, y_true)\n",
    "        grad_W_o = np.dot(h.T, grad_z_o)\n",
    "        grad_b_o = np.mean(grad_z_o, axis=0)\n",
    "        grad_h = np.dot(grad_z_o, np.transpose(self.W_o))\n",
    "        grad_z_h = grad_h * self.grad_act(z_h)\n",
    "        grad_W_h = np.dot(X.T, grad_z_h)\n",
    "        grad_b_h = np.mean(grad_z_h, axis=0)\n",
    "        self.grads = {\"W_h\": grad_W_h / self.batch_size, \"b_h\": grad_b_h,\n",
    "                      \"W_o\": grad_W_o / self.batch_size, \"b_o\": grad_b_o}\n",
    "        return self.grads\n",
    "\n",
    "    def train(self, x, y, learning_rate):\n",
    "        grads = self.grad_loss(x, y)\n",
    "        self.W_h = self.W_h - learning_rate * grads[\"W_h\"]\n",
    "        self.b_h = self.b_h - learning_rate * grads[\"b_h\"]\n",
    "        self.W_o = self.W_o - learning_rate * grads[\"W_o\"]\n",
    "        self.b_o = self.b_o - learning_rate * grads[\"b_o\"]\n",
    "\n",
    "    def predict(self, X):\n",
    "        if len(X.shape) == 1:\n",
    "            return np.argmax(self.forward(X))\n",
    "        else:\n",
    "            return np.argmax(self.forward(X), axis=1)\n",
    "\n",
    "    def accuracy(self, X, y):\n",
    "        y_preds = np.argmax(self.forward(X), axis=1)\n",
    "        return np.mean(y_preds == y)"
   ]
  },
  {
   "cell_type": "code",
   "execution_count": 76,
   "metadata": {
    "collapsed": true
   },
   "outputs": [],
   "source": [
    "def iterate_minibatches(inputs, targets, batchsize, shuffle=False):\n",
    "    assert inputs.shape[0] == targets.shape[0]\n",
    "    if shuffle:\n",
    "        indices = np.arange(inputs.shape[0])\n",
    "        np.random.shuffle(indices)\n",
    "    for start_idx in range(0, inputs.shape[0] - batchsize + 1, batchsize):\n",
    "        if shuffle:\n",
    "            excerpt = indices[start_idx:start_idx + batchsize]\n",
    "        else:\n",
    "            excerpt = slice(start_idx, start_idx + batchsize)\n",
    "        yield inputs[excerpt], targets[excerpt]"
   ]
  },
  {
   "cell_type": "code",
   "execution_count": 85,
   "metadata": {
    "collapsed": true
   },
   "outputs": [],
   "source": [
    "from numpy.linalg import norm\n",
    "def train_mb(batch_size, n_epoch=100, lr=.1):\n",
    "    n_hidden = 20\n",
    "    model = NeuralNetMB(n_features, n_hidden, n_classes, batch_size=batch_size)\n",
    "    \n",
    "    losses, accuracies, accuracies_test = [], [], []\n",
    "    avg_grad_norm_W_h, avg_grad_norm_W_o, avg_grad_norm_b_h, avg_grad_norm_b_o = [], [], [], []\n",
    "    \n",
    "    losses.append(model.loss(X_train, y_train))\n",
    "    accuracies.append(model.accuracy(X_train, y_train))\n",
    "    accuracies_test.append(model.accuracy(X_test, y_test))\n",
    "    \n",
    "    for epoch in range(n_epoch):\n",
    "        grad_norm_W_h = []\n",
    "        grad_norm_W_o = []\n",
    "        grad_norm_b_h = []\n",
    "        grad_norm_b_o = []\n",
    "        for batch in iterate_minibatches(X_train, y_train, batch_size, shuffle=False):\n",
    "            x_batch, y_batch = batch\n",
    "            model.train(x_batch, y_batch, lr)\n",
    "            grad_norm_W_h.append(norm(model.grads[\"W_h\"]))\n",
    "            grad_norm_W_o.append(norm(model.grads[\"W_o\"]))\n",
    "            grad_norm_b_h.append(norm(model.grads[\"b_h\"]))\n",
    "            grad_norm_b_o.append(norm(model.grads[\"b_o\"]))\n",
    "        avg_grad_norm_W_h.append(np.mean(grad_norm_W_h))\n",
    "        avg_grad_norm_W_o.append(np.mean(grad_norm_W_o))\n",
    "        avg_grad_norm_b_h.append(np.mean(grad_norm_b_h))\n",
    "        avg_grad_norm_b_o.append(np.mean(grad_norm_b_o))\n",
    "        \n",
    "        losses.append(model.loss(X_train, y_train))\n",
    "        accuracies.append(model.accuracy(X_train, y_train))\n",
    "        accuracies_test.append(model.accuracy(X_test, y_test))\n",
    "    return (losses, accuracies, accuracies_test, avg_grad_norm_W_h,\n",
    "            avg_grad_norm_W_o, avg_grad_norm_b_h, avg_grad_norm_b_o)"
   ]
  },
  {
   "cell_type": "code",
   "execution_count": 86,
   "metadata": {
    "collapsed": false
   },
   "outputs": [
    {
     "name": "stdout",
     "output_type": "stream",
     "text": [
      "batch size | exec time \n",
      "         1 |     15.467\n",
      "         8 |      2.514\n",
      "        16 |      1.542\n",
      "        32 |      0.943\n",
      "        64 |      0.708\n",
      "       128 |      0.633\n",
      "       256 |      0.458\n"
     ]
    },
    {
     "data": {
      "text/plain": [
       "<matplotlib.legend.Legend at 0x126d36400>"
      ]
     },
     "execution_count": 86,
     "metadata": {},
     "output_type": "execute_result"
    },
    {
     "data": {
      "image/png": "[encoded data removed]",
      "text/plain": [
       "<matplotlib.figure.Figure at 0x129069d30>"
      ]
     },
     "metadata": {},
     "output_type": "display_data"
    }
   ],
   "source": [
    "import time\n",
    "\n",
    "batch_sizes = [1, 8, 16, 32, 64, 128, 256]\n",
    "\n",
    "print(' | '.join([name.center(10) for name in ['batch size', 'exec time']]))\n",
    "\n",
    "f, axarr = plt.subplots(2, 4, figsize=(15, 10), sharex= True)\n",
    "axarr[0, 0].set_title('loss')\n",
    "axarr[0, 1].set_title('accuracies')\n",
    "axarr[0, 2].set_title('accuracies test')\n",
    "axarr[1, 0].set_title('avg grad W_h')\n",
    "axarr[1, 1].set_title('avg grad W_o')\n",
    "axarr[1, 2].set_title('avg grad b_h')\n",
    "axarr[1, 3].set_title('avg grad b_o')\n",
    "for batch_size in batch_sizes:\n",
    "    start_time = time.time()\n",
    "    (losses, accuracies, accuracies_test,\n",
    "     avg_grad_norm_W_h, avg_grad_norm_W_o, avg_grad_norm_b_h, avg_grad_norm_b_o) = train_mb(batch_size)\n",
    "    print(' | '.join([('%d'%batch_size).rjust(10),\n",
    "                      ('%0.3f'%(time.time() - start_time)).rjust(10)]))\n",
    "    axarr[0, 0].plot(losses, label=str(batch_size))\n",
    "    axarr[0, 1].plot(accuracies, label=str(batch_size))\n",
    "    axarr[0, 2].plot(accuracies_test, label=str(batch_size))\n",
    "    axarr[1, 0].plot(avg_grad_norm_W_h, label=str(batch_size))\n",
    "    axarr[1, 1].plot(avg_grad_norm_W_o, label=str(batch_size))\n",
    "    axarr[1, 2].plot(avg_grad_norm_b_h, label=str(batch_size))\n",
    "    axarr[1, 3].plot(avg_grad_norm_b_o, label=str(batch_size))\n",
    "axarr[0, 0].legend(loc='best')\n",
    "axarr[0, 1].legend(loc='best')\n",
    "axarr[0, 2].legend(loc='best')\n",
    "axarr[1, 0].legend(loc='best')\n",
    "axarr[1, 1].legend(loc='best')\n",
    "axarr[1, 2].legend(loc='best')\n",
    "axarr[1, 3].legend(loc='best')"
   ]
  },
  {
   "cell_type": "markdown",
   "metadata": {},
   "source": [
    "### iii - Momentum\n",
    "\n",
    "- Bonus: Implement momentum"
   ]
  },
  {
   "cell_type": "code",
   "execution_count": 87,
   "metadata": {
    "collapsed": false
   },
   "outputs": [],
   "source": [
    "# %load solutions/neural_net.py\n",
    "class NeuralNetNesterov():\n",
    "    \"\"\"MLP with 1 hidden layer with a sigmoid activation\"\"\"\n",
    "\n",
    "    def __init__(self, input_size, hidden_size, output_size,\n",
    "                 activation_funcs=(sigmoid, dsigmoid, ''), init='uniform', lr=.1, gamma=.9):\n",
    "        \n",
    "        if init=='uniform':\n",
    "            self.W_h = np.random.uniform(\n",
    "                size=(input_size, hidden_size), high=0.01, low=-0.01)\n",
    "            self.W_o = np.random.uniform(\n",
    "                size=(hidden_size, output_size), high=0.01, low=-0.01)\n",
    "        else:\n",
    "            self.W_h = np.zeros((input_size, hidden_size))\n",
    "            self.W_o = np.zeros((hidden_size, output_size))\n",
    "            \n",
    "        self.b_h = np.zeros(hidden_size)\n",
    "        self.b_o = np.zeros(output_size)\n",
    "        self.output_size = output_size\n",
    "        \n",
    "        self.activation, self.grad_act, _ = activation_funcs\n",
    "        \n",
    "        self.first_iter = True\n",
    "        self.lr = lr\n",
    "        self.gamma = gamma\n",
    "        \n",
    "    def forward(self, X):\n",
    "        h = self.activation(np.dot(X, self.W_h) + self.b_h)\n",
    "        y = softmax(np.dot(h, self.W_o) + self.b_o)\n",
    "        return y\n",
    "    \n",
    "    def forward_keep_activations(self, X):\n",
    "        z_h = np.dot(X, self.W_h) + self.b_h\n",
    "        h = self.activation(z_h)\n",
    "        z_o = np.dot(h, self.W_o) + self.b_o\n",
    "        y = softmax(z_o)\n",
    "        return y, h, z_h\n",
    "    \n",
    "    def loss(self, X, y):\n",
    "        return nll(one_hot(self.output_size, y), self.forward(X))\n",
    "\n",
    "    def grad_loss(self, X, y_true):\n",
    "        y, h, z_h = self.forward_keep_activations(X)\n",
    "        grad_z_o = y - one_hot(self.output_size, y_true)\n",
    "        grad_W_o = np.outer(h, grad_z_o)\n",
    "        grad_b_o = grad_z_o\n",
    "        grad_h = np.dot(grad_z_o, np.transpose(self.W_o))\n",
    "        grad_z_h = grad_h * self.grad_act(z_h)\n",
    "        grad_W_h = np.outer(X, grad_z_h)\n",
    "        grad_b_h = grad_z_h\n",
    "        if self.first_iter:\n",
    "            self.grads = {\"W_h\": grad_W_h, \"b_h\": grad_b_h,\n",
    "                          \"W_o\": grad_W_o, \"b_o\": grad_b_o}\n",
    "            self.first_iter = False\n",
    "        else:\n",
    "            self.grads[\"W_h\"] = self.grads[\"W_h\"]*self.gamma + self.lr*grad_W_h\n",
    "            self.grads[\"W_o\"] = self.grads[\"W_o\"]*self.gamma + self.lr*grad_W_o\n",
    "            self.grads[\"b_h\"] = self.grads[\"b_h\"]*self.gamma + self.lr*grad_b_h\n",
    "            self.grads[\"b_o\"] = self.grads[\"b_o\"]*self.gamma + self.lr*grad_b_o\n",
    "        return True\n",
    "\n",
    "    def train(self, x, y):\n",
    "        grads = self.grad_loss(x, y)\n",
    "        self.W_h -= self.grads[\"W_h\"]\n",
    "        self.W_o -= self.grads[\"W_o\"]\n",
    "        self.b_h -= self.grads[\"b_h\"]\n",
    "        self.b_o -= self.grads[\"b_o\"]\n",
    "\n",
    "    def predict(self, X):\n",
    "        if len(X.shape) == 1:\n",
    "            return np.argmax(self.forward(X))\n",
    "        else:\n",
    "            return np.argmax(self.forward(X), axis=1)\n",
    "\n",
    "    def accuracy(self, X, y):\n",
    "        y_preds = np.argmax(self.forward(X), axis=1)\n",
    "        return np.mean(y_preds == y)"
   ]
  },
  {
   "cell_type": "code",
   "execution_count": 88,
   "metadata": {
    "collapsed": false
   },
   "outputs": [
    {
     "name": "stdout",
     "output_type": "stream",
     "text": [
      "Random init: train loss: 2.3026, train acc: 0.099, test acc: 0.115\n",
      "Epoch #1, train loss: 0.7066, train acc: 0.804, test acc: 0.815\n",
      "Epoch #2, train loss: 0.9706, train acc: 0.792, test acc: 0.811\n",
      "Epoch #3, train loss: 0.7495, train acc: 0.821, test acc: 0.804\n",
      "Epoch #4, train loss: 0.7270, train acc: 0.831, test acc: 0.807\n",
      "Epoch #5, train loss: 0.4937, train acc: 0.853, test acc: 0.833\n",
      "Epoch #6, train loss: 0.4995, train acc: 0.853, test acc: 0.811\n",
      "Epoch #7, train loss: 0.3828, train acc: 0.904, test acc: 0.881\n",
      "Epoch #8, train loss: 0.3305, train acc: 0.916, test acc: 0.881\n",
      "Epoch #9, train loss: 0.6555, train acc: 0.861, test acc: 0.822\n",
      "Epoch #10, train loss: 0.6012, train acc: 0.863, test acc: 0.811\n",
      "Epoch #11, train loss: 0.5221, train acc: 0.880, test acc: 0.859\n",
      "Epoch #12, train loss: 0.4355, train acc: 0.888, test acc: 0.900\n",
      "Epoch #13, train loss: 0.4460, train acc: 0.913, test acc: 0.885\n",
      "Epoch #14, train loss: 0.4705, train acc: 0.914, test acc: 0.896\n",
      "Epoch #15, train loss: 0.4755, train acc: 0.893, test acc: 0.867\n"
     ]
    }
   ],
   "source": [
    "model = NeuralNetNesterov(n_features, 10, n_classes)\n",
    "\n",
    "losses, accuracies, accuracies_test = [], [], []\n",
    "losses.append(model.loss(X_train, y_train))\n",
    "accuracies.append(model.accuracy(X_train, y_train))\n",
    "accuracies_test.append(model.accuracy(X_test, y_test))\n",
    "\n",
    "print(\"Random init: train loss: %0.4f, train acc: %0.3f, test acc: %0.3f\"\n",
    "      % (losses[-1], accuracies[-1], accuracies_test[-1]))\n",
    "\n",
    "for epoch in range(15):\n",
    "    for i, (x, y) in enumerate(zip(X_train, y_train)):\n",
    "        model.train(x, y)\n",
    "\n",
    "    losses.append(model.loss(X_train, y_train))\n",
    "    accuracies.append(model.accuracy(X_train, y_train))\n",
    "    accuracies_test.append(model.accuracy(X_test, y_test))\n",
    "    print(\"Epoch #%d, train loss: %0.4f, train acc: %0.3f, test acc: %0.3f\"\n",
    "          % (epoch + 1, losses[-1], accuracies[-1], accuracies_test[-1]))"
   ]
  },
  {
   "cell_type": "code",
   "execution_count": 89,
   "metadata": {
    "collapsed": false
   },
   "outputs": [
    {
     "data": {
      "text/plain": [
       "<matplotlib.text.Text at 0x11e5bf550>"
      ]
     },
     "execution_count": 89,
     "metadata": {},
     "output_type": "execute_result"
    },
    {
     "data": {
      "image/png": "[encoded data removed]",
      "text/plain": [
       "<matplotlib.figure.Figure at 0x128feaf60>"
      ]
     },
     "metadata": {},
     "output_type": "display_data"
    }
   ],
   "source": [
    "plt.plot(losses)\n",
    "plt.title(\"Training loss\")"
   ]
  },
  {
   "cell_type": "code",
   "execution_count": 90,
   "metadata": {
    "collapsed": false
   },
   "outputs": [
    {
     "data": {
      "image/png": "[encoded data removed]",
      "text/plain": [
       "<matplotlib.figure.Figure at 0x1266b2470>"
      ]
     },
     "metadata": {},
     "output_type": "display_data"
    }
   ],
   "source": [
    "plt.plot(accuracies, label='train')\n",
    "plt.plot(accuracies_test, label='test')\n",
    "plt.ylim(0, 1.1)\n",
    "plt.ylabel(\"accuracy\")\n",
    "plt.legend(loc='best');"
   ]
  },
  {
   "cell_type": "markdown",
   "metadata": {},
   "source": [
    "# III) TensorFlow Implementation\n",
    "\n",
    "TensorFlow is a symbolic graph computation engine, that allows automatic differentiation of each node\n",
    "- https://www.tensorflow.org \n",
    "- https://www.tensorflow.org/tutorials/mnist/tf/\n",
    "\n",
    "TensorFlow builds where nodes may be:\n",
    "- **constant:** constants tensors, such as a learning rate\n",
    "- **Variables:** any tensor, such as parameters of the models\n",
    "- **Placeholders:** placeholders for inputs and outputs of your models\n",
    "- many other types of nodes (functions, loss, ...)\n",
    "\n",
    "The graph is symbolic, no computation is performed until a `Session` is defined and the command `run` or `eval` is invoked. TensorFlow may run this computation on (multiple) CPUs or GPUs"
   ]
  },
  {
   "cell_type": "code",
   "execution_count": 91,
   "metadata": {
    "collapsed": false
   },
   "outputs": [
    {
     "name": "stdout",
     "output_type": "stream",
     "text": [
      "5\n"
     ]
    }
   ],
   "source": [
    "import tensorflow as tf\n",
    "\n",
    "a = tf.constant(3)\n",
    "b = tf.constant(2)\n",
    "c = tf.Variable(0)\n",
    "c = a + b\n",
    "with tf.Session() as sess:\n",
    "    print(sess.run(c))"
   ]
  },
  {
   "cell_type": "code",
   "execution_count": 92,
   "metadata": {
    "collapsed": false
   },
   "outputs": [
    {
     "name": "stdout",
     "output_type": "stream",
     "text": [
      "5.0\n"
     ]
    }
   ],
   "source": [
    "X = tf.placeholder(\"float32\", name=\"input\")\n",
    "Y = X + tf.constant(3.0)\n",
    "with tf.Session() as sess:\n",
    "    print(sess.run(Y, feed_dict={X:2}))"
   ]
  },
  {
   "cell_type": "markdown",
   "metadata": {},
   "source": [
    "**Note: batches in inputs**\n",
    "- the first dimension of the input is usually kept for the batch dimension. A typical way to define an input placeholder with a 1D tensor of 128 dimensions, is:\n",
    "```\n",
    "X = tf.placeholder(\"float32\", shape=[None, 128])\n",
    "```"
   ]
  },
  {
   "cell_type": "markdown",
   "metadata": {},
   "source": [
    "## a) Build a model using TensorFlow\n",
    "\n",
    "- Using TensorFlow, build a similar model (one hidden layer) as you previously did\n",
    "- the input will be a batch coming from X_train, and the output will be a batch of ints"
   ]
  },
  {
   "cell_type": "code",
   "execution_count": 93,
   "metadata": {
    "collapsed": false
   },
   "outputs": [],
   "source": [
    "# helper functions\n",
    "\n",
    "def init_weights(shape):\n",
    "    return tf.Variable(tf.random_normal(shape, stddev=0.01))\n",
    "\n",
    "\n",
    "def accuracy(y_pred, y=y_test):\n",
    "    return np.mean(np.argmax(y_pred, axis=1) == y)"
   ]
  },
  {
   "cell_type": "code",
   "execution_count": 94,
   "metadata": {
    "collapsed": false
   },
   "outputs": [],
   "source": [
    "'''\n",
    "https://www.tensorflow.org/tutorials/mnist/tf/\n",
    "'''\n",
    "\n",
    "# hyperparams\n",
    "batch_size = 32\n",
    "hid_size = 15\n",
    "learning_rate = 0.1\n",
    "num_epochs = 10\n",
    "input_size = X_train.shape[1]\n",
    "output_size = 10\n",
    "\n",
    "# input and output\n",
    "X = tf.placeholder(\"float32\", shape=[None, input_size])\n",
    "y = tf.placeholder(\"int32\", shape=[None])\n",
    "\n",
    "# model and weights\n",
    "W_h = init_weights([input_size, hid_size])\n",
    "b_h = init_weights([hid_size])\n",
    "\n",
    "h = tf.nn.sigmoid(tf.matmul(X,W_h) + b_h)\n",
    "\n",
    "W_o = init_weights([hid_size, output_size])\n",
    "b_o = init_weights([output_size])\n",
    "                   \n",
    "logits = tf.matmul(h, W_o) + b_o\n",
    "\n",
    "# build the loss, predict, and train operator\n",
    "cross_entropy = tf.nn.sparse_softmax_cross_entropy_with_logits(logits, y, name='xentropy')\n",
    "# Softmax is taken into account\n",
    "loss = tf.reduce_mean(cross_entropy, name='xentropy_mean')\n",
    "\n",
    "optimizer = tf.train.GradientDescentOptimizer(learning_rate)\n",
    "train_op = optimizer.minimize(loss)\n",
    "\n",
    "# build predict node\n",
    "predict = tf.nn.softmax(logits)\n",
    "\n",
    "# Initialization of all variables in the graph\n",
    "init = tf.global_variables_initializer()"
   ]
  },
  {
   "cell_type": "code",
   "execution_count": 97,
   "metadata": {
    "collapsed": true
   },
   "outputs": [],
   "source": [
    "# %load solutions/tf_model.py\n",
    "# hyperparams\n",
    "batch_size = 32\n",
    "hid_size = 15\n",
    "learning_rate = 0.01\n",
    "num_epochs = 20\n",
    "input_size = X_train.shape[1]\n",
    "output_size = 10\n",
    "\n",
    "# input and output\n",
    "X = tf.placeholder(\"float32\", shape=[None, input_size])\n",
    "y = tf.placeholder(\"int32\", shape=[None])\n",
    "\n",
    "# build the model and weights\n",
    "W_h = init_weights([input_size, hid_size])\n",
    "b_h = init_weights([hid_size])\n",
    "W_o = init_weights([hid_size, output_size])\n",
    "b_o = init_weights([output_size])\n",
    "h = tf.nn.sigmoid(tf.matmul(X,W_h)+b_h)\n",
    "out_act = tf.matmul(h, W_o)+b_o\n",
    "\n",
    "# build the loss, predict, and train operator\n",
    "cross_entropy = tf.nn.sparse_softmax_cross_entropy_with_logits(out_act, y)\n",
    "loss = tf.reduce_sum(cross_entropy)\n",
    "\n",
    "optimizer = tf.train.GradientDescentOptimizer(learning_rate)\n",
    "train_op = optimizer.minimize(loss)\n",
    "\n",
    "predict = tf.nn.softmax(out_act)\n",
    "\n",
    "# Initialization of all variables in the graph\n",
    "init = tf.global_variables_initializer()\n"
   ]
  },
  {
   "cell_type": "code",
   "execution_count": 98,
   "metadata": {
    "collapsed": false
   },
   "outputs": [
    {
     "name": "stdout",
     "output_type": "stream",
     "text": [
      "epoch: 0 train accuracy: 0.133 test accuracy: 0.093\n",
      "epoch: 1 train accuracy: 0.521 test accuracy: 0.470\n",
      "epoch: 2 train accuracy: 0.771 test accuracy: 0.730\n",
      "epoch: 3 train accuracy: 0.828 test accuracy: 0.807\n",
      "epoch: 4 train accuracy: 0.871 test accuracy: 0.856\n",
      "epoch: 5 train accuracy: 0.904 test accuracy: 0.893\n",
      "epoch: 6 train accuracy: 0.932 test accuracy: 0.930\n",
      "epoch: 7 train accuracy: 0.954 test accuracy: 0.937\n",
      "epoch: 8 train accuracy: 0.961 test accuracy: 0.944\n",
      "epoch: 9 train accuracy: 0.968 test accuracy: 0.952\n",
      "epoch: 10 train accuracy: 0.974 test accuracy: 0.956\n",
      "epoch: 11 train accuracy: 0.974 test accuracy: 0.959\n",
      "epoch: 12 train accuracy: 0.977 test accuracy: 0.963\n",
      "epoch: 13 train accuracy: 0.980 test accuracy: 0.963\n",
      "epoch: 14 train accuracy: 0.982 test accuracy: 0.967\n",
      "epoch: 15 train accuracy: 0.984 test accuracy: 0.967\n",
      "epoch: 16 train accuracy: 0.986 test accuracy: 0.967\n",
      "epoch: 17 train accuracy: 0.986 test accuracy: 0.967\n",
      "epoch: 18 train accuracy: 0.987 test accuracy: 0.967\n",
      "epoch: 19 train accuracy: 0.989 test accuracy: 0.967\n"
     ]
    },
    {
     "data": {
      "image/png": "[encoded data removed]",
      "text/plain": [
       "<matplotlib.figure.Figure at 0x12b6c8f98>"
      ]
     },
     "metadata": {},
     "output_type": "display_data"
    }
   ],
   "source": [
    "# run training\n",
    "with tf.Session() as sess: \n",
    "    sess.run(init)\n",
    "    \n",
    "    losses = []\n",
    "    for e in range(num_epochs):\n",
    "        for i in range(X_train.shape[0] // batch_size):\n",
    "            # Build batches of batch_size            \n",
    "            idx, idxn = i * batch_size, min(X_train.shape[0]-1, (i+1) * batch_size)\n",
    "            batch_xs, batch_ys = X_train[idx: idxn], y_train[idx: idxn]            \n",
    "            \n",
    "            # Run train operator and monitor loss\n",
    "            _, l=sess.run([train_op, loss], feed_dict={X: batch_xs, y: batch_ys})\n",
    "            losses.append(l)\n",
    "        \n",
    "        # For each epoch, run accuracy on train and test\n",
    "        predicts_test = sess.run(predict, feed_dict={X: X_test})\n",
    "        predicts_train = sess.run(predict, feed_dict={X: X_train})\n",
    "        print(\"epoch: %d train accuracy: %0.3f test accuracy: %0.3f\"\n",
    "              % (e, accuracy(predicts_train, y_train), accuracy(predicts_test)))\n",
    "    \n",
    "    # For monitoring purposes\n",
    "    file_writer = tf.summary.FileWriter('./tensorflow_summaries', sess.graph)    \n",
    "plt.plot(losses);"
   ]
  },
  {
   "cell_type": "markdown",
   "metadata": {},
   "source": [
    "## b) Exercises\n",
    "\n",
    "### Bonus:\n",
    "- add L2 regularization with $\\lambda = 10^{-4}$"
   ]
  },
  {
   "cell_type": "code",
   "execution_count": 99,
   "metadata": {
    "collapsed": true
   },
   "outputs": [],
   "source": [
    "# hyperparams\n",
    "batch_size = 32\n",
    "hid_size = 15\n",
    "learning_rate = .1\n",
    "num_epochs = 30\n",
    "input_size = X_train.shape[1]\n",
    "output_size = 10\n",
    "lbda = 1e-4\n",
    "\n",
    "# input and output\n",
    "X = tf.placeholder(\"float32\", shape=[None, input_size])\n",
    "y = tf.placeholder(\"int32\", shape=[None])\n",
    "\n",
    "# build the model and weights\n",
    "W_h = init_weights([input_size, hid_size])\n",
    "b_h = init_weights([hid_size])\n",
    "W_o = init_weights([hid_size, output_size])\n",
    "b_o = init_weights([output_size])\n",
    "h = tf.nn.sigmoid(tf.matmul(X,W_h)+b_h)\n",
    "out_act = tf.matmul(h, W_o)+b_o\n",
    "\n",
    "# build the loss, predict, and train operator\n",
    "cross_entropy = tf.nn.sparse_softmax_cross_entropy_with_logits(out_act, y)\n",
    "cross_entropy_loss = tf.reduce_mean(cross_entropy)\n",
    "loss = (cross_entropy_loss + lbda * (tf.nn.l2_loss(W_h) + tf.nn.l2_loss(W_o)))\n",
    "#loss = cross_entropy_loss\n",
    "\n",
    "optimizer = tf.train.GradientDescentOptimizer(learning_rate)\n",
    "train_op = optimizer.minimize(loss)\n",
    "\n",
    "predict = tf.nn.softmax(out_act)\n",
    "\n",
    "# Initialization of all variables in the graph\n",
    "init = tf.global_variables_initializer()"
   ]
  },
  {
   "cell_type": "code",
   "execution_count": 100,
   "metadata": {
    "collapsed": false
   },
   "outputs": [
    {
     "name": "stdout",
     "output_type": "stream",
     "text": [
      "epoch: 0 train accuracy: 0.109 test accuracy: 0.063\n",
      "epoch: 1 train accuracy: 0.109 test accuracy: 0.063\n",
      "epoch: 2 train accuracy: 0.177 test accuracy: 0.133\n",
      "epoch: 3 train accuracy: 0.300 test accuracy: 0.259\n",
      "epoch: 4 train accuracy: 0.463 test accuracy: 0.407\n",
      "epoch: 5 train accuracy: 0.551 test accuracy: 0.511\n",
      "epoch: 6 train accuracy: 0.642 test accuracy: 0.604\n",
      "epoch: 7 train accuracy: 0.713 test accuracy: 0.678\n",
      "epoch: 8 train accuracy: 0.755 test accuracy: 0.719\n",
      "epoch: 9 train accuracy: 0.788 test accuracy: 0.756\n",
      "epoch: 10 train accuracy: 0.813 test accuracy: 0.778\n",
      "epoch: 11 train accuracy: 0.830 test accuracy: 0.811\n",
      "epoch: 12 train accuracy: 0.853 test accuracy: 0.826\n",
      "epoch: 13 train accuracy: 0.868 test accuracy: 0.841\n",
      "epoch: 14 train accuracy: 0.881 test accuracy: 0.867\n",
      "epoch: 15 train accuracy: 0.893 test accuracy: 0.885\n",
      "epoch: 16 train accuracy: 0.904 test accuracy: 0.889\n",
      "epoch: 17 train accuracy: 0.913 test accuracy: 0.896\n",
      "epoch: 18 train accuracy: 0.916 test accuracy: 0.900\n",
      "epoch: 19 train accuracy: 0.923 test accuracy: 0.904\n",
      "epoch: 20 train accuracy: 0.927 test accuracy: 0.922\n",
      "epoch: 21 train accuracy: 0.931 test accuracy: 0.926\n",
      "epoch: 22 train accuracy: 0.940 test accuracy: 0.930\n",
      "epoch: 23 train accuracy: 0.945 test accuracy: 0.930\n",
      "epoch: 24 train accuracy: 0.947 test accuracy: 0.933\n",
      "epoch: 25 train accuracy: 0.950 test accuracy: 0.944\n",
      "epoch: 26 train accuracy: 0.954 test accuracy: 0.956\n",
      "epoch: 27 train accuracy: 0.955 test accuracy: 0.956\n",
      "epoch: 28 train accuracy: 0.957 test accuracy: 0.956\n",
      "epoch: 29 train accuracy: 0.958 test accuracy: 0.956\n"
     ]
    },
    {
     "data": {
      "image/png": "[encoded data removed]",
      "text/plain": [
       "<matplotlib.figure.Figure at 0x121c2e630>"
      ]
     },
     "metadata": {},
     "output_type": "display_data"
    }
   ],
   "source": [
    "# run training\n",
    "with tf.Session() as sess: \n",
    "    sess.run(init)\n",
    "    \n",
    "    losses = []\n",
    "    for e in range(num_epochs):\n",
    "        for i in range(X_train.shape[0] // batch_size):\n",
    "            # Build batches of batch_size            \n",
    "            idx, idxn = i * batch_size, min(X_train.shape[0]-1, (i+1) * batch_size)\n",
    "            batch_xs, batch_ys = X_train[idx: idxn], y_train[idx: idxn]            \n",
    "            \n",
    "            # Run train operator and monitor loss\n",
    "            _, l=sess.run([train_op, loss], feed_dict={X: batch_xs, y: batch_ys})\n",
    "            losses.append(l)\n",
    "        \n",
    "        # For each epoch, run accuracy on train and test\n",
    "        predicts_test = sess.run(predict, feed_dict={X: X_test})\n",
    "        predicts_train = sess.run(predict, feed_dict={X: X_train})\n",
    "        print(\"epoch: %d train accuracy: %0.3f test accuracy: %0.3f\"\n",
    "              % (e, accuracy(predicts_train, y_train), accuracy(predicts_test)))\n",
    "    \n",
    "    # For monitoring purposes\n",
    "    file_writer = tf.summary.FileWriter('./tensorflow_summaries', sess.graph)    \n",
    "plt.plot(losses);"
   ]
  },
  {
   "cell_type": "markdown",
   "metadata": {},
   "source": [
    "- train with arbitrary number of layers by only defining layer sizes\n",
    "- you may use tensorboard (https://www.tensorflow.org/how_tos/summaries_and_tensorboard/) to monitor loss and display graph\n",
    "- follow the official tensorflow tutorial: https://www.tensorflow.org/tutorials/mnist/tf/"
   ]
  },
  {
   "cell_type": "code",
   "execution_count": 101,
   "metadata": {
    "collapsed": true
   },
   "outputs": [],
   "source": [
    "# hyperparams\n",
    "batch_size = 32\n",
    "hid_size = 15\n",
    "\n",
    "##### Layers definition #####\n",
    "n_layers = 2\n",
    "layer_sizes = np.random.randint(5, 20, size=n_layers)\n",
    "\n",
    "learning_rate = 0.1\n",
    "num_epochs = 15\n",
    "input_size = X_train.shape[1]\n",
    "output_size = 10\n",
    "\n",
    "# input and output\n",
    "X = tf.placeholder(\"float32\", shape=[None, input_size])\n",
    "y = tf.placeholder(\"int32\", shape=[None])\n",
    "\n",
    "# build the model and weights\n",
    "weights = []\n",
    "biases = []\n",
    "zs = []\n",
    "hs = []\n",
    "for layer, layer_size in enumerate(layer_sizes):\n",
    "    \n",
    "    b_h = init_weights([layer_size])\n",
    "    \n",
    "    if layer==0:\n",
    "        W_h = init_weights([input_size, layer_size])\n",
    "        z_h = tf.matmul(X, W_h) + b_h\n",
    "    else:\n",
    "        W_h = init_weights([prev_layer_size, layer_size])\n",
    "        z_h = tf.matmul(hs[layer-1], W_h) + b_h\n",
    "    \n",
    "    h = tf.nn.sigmoid(z_h)\n",
    "    \n",
    "    weights.append(W_h)\n",
    "    biases.append(b_h)\n",
    "    zs.append(z_h)\n",
    "    hs.append(h)\n",
    "    \n",
    "    prev_layer_size = layer_size\n",
    "    \n",
    "W_o = init_weights([layer_sizes[-1], output_size])\n",
    "b_o = init_weights([output_size])\n",
    "out_act = tf.matmul(hs[-1], W_o) + b_o\n",
    "\n",
    "# build the loss, predict, and train operator\n",
    "cross_entropy = tf.nn.sparse_softmax_cross_entropy_with_logits(out_act, y)\n",
    "loss = tf.reduce_sum(cross_entropy)\n",
    "\n",
    "optimizer = tf.train.GradientDescentOptimizer(learning_rate)\n",
    "train_op = optimizer.minimize(loss)\n",
    "\n",
    "predict = tf.nn.softmax(out_act)\n",
    "\n",
    "# Initialization of all variables in the graph\n",
    "init = tf.global_variables_initializer()"
   ]
  },
  {
   "cell_type": "code",
   "execution_count": 102,
   "metadata": {
    "collapsed": false
   },
   "outputs": [
    {
     "name": "stdout",
     "output_type": "stream",
     "text": [
      "epoch: 0 train accuracy: 0.181 test accuracy: 0.130\n",
      "epoch: 1 train accuracy: 0.291 test accuracy: 0.244\n",
      "epoch: 2 train accuracy: 0.321 test accuracy: 0.256\n",
      "epoch: 3 train accuracy: 0.344 test accuracy: 0.311\n",
      "epoch: 4 train accuracy: 0.556 test accuracy: 0.504\n",
      "epoch: 5 train accuracy: 0.759 test accuracy: 0.707\n",
      "epoch: 6 train accuracy: 0.843 test accuracy: 0.793\n",
      "epoch: 7 train accuracy: 0.947 test accuracy: 0.915\n",
      "epoch: 8 train accuracy: 0.956 test accuracy: 0.926\n",
      "epoch: 9 train accuracy: 0.975 test accuracy: 0.926\n",
      "epoch: 10 train accuracy: 0.975 test accuracy: 0.922\n",
      "epoch: 11 train accuracy: 0.982 test accuracy: 0.930\n",
      "epoch: 12 train accuracy: 0.983 test accuracy: 0.944\n",
      "epoch: 13 train accuracy: 0.991 test accuracy: 0.944\n",
      "epoch: 14 train accuracy: 0.991 test accuracy: 0.941\n"
     ]
    },
    {
     "data": {
      "image/png": "[encoded data removed]",
      "text/plain": [
       "<matplotlib.figure.Figure at 0x12ef35710>"
      ]
     },
     "metadata": {},
     "output_type": "display_data"
    }
   ],
   "source": [
    "# run training\n",
    "with tf.Session() as sess: \n",
    "    sess.run(init)\n",
    "    \n",
    "    losses = []\n",
    "    for e in range(num_epochs):\n",
    "        for i in range(X_train.shape[0] // batch_size):\n",
    "            # Build batches of batch_size            \n",
    "            idx, idxn = i * batch_size, min(X_train.shape[0]-1, (i+1) * batch_size)\n",
    "            batch_xs, batch_ys = X_train[idx: idxn], y_train[idx: idxn]            \n",
    "            \n",
    "            # Run train operator and monitor loss\n",
    "            _, l=sess.run([train_op, loss], feed_dict={X: batch_xs, y: batch_ys})\n",
    "            losses.append(l)\n",
    "        \n",
    "        # For each epoch, run accuracy on train and test\n",
    "        predicts_test = sess.run(predict, feed_dict={X: X_test})\n",
    "        predicts_train = sess.run(predict, feed_dict={X: X_train})\n",
    "        print(\"epoch: %d train accuracy: %0.3f test accuracy: %0.3f\"\n",
    "              % (e, accuracy(predicts_train, y_train), accuracy(predicts_test)))\n",
    "    \n",
    "    # For monitoring purposes\n",
    "    file_writer = tf.summary.FileWriter('./tensorflow_summaries', sess.graph)    \n",
    "plt.plot(losses);"
   ]
  }
 ],
 "metadata": {
  "anaconda-cloud": {},
  "kernelspec": {
   "display_name": "Python [conda root]",
   "language": "python",
   "name": "conda-root-py"
  },
  "language_info": {
   "codemirror_mode": {
    "name": "ipython",
    "version": 2
   },
   "file_extension": ".py",
   "mimetype": "text/x-python",
   "name": "python",
   "nbconvert_exporter": "python",
   "pygments_lexer": "ipython2",
   "version": "2.7.12"
  }
 },
 "nbformat": 4,
 "nbformat_minor": 1
}
